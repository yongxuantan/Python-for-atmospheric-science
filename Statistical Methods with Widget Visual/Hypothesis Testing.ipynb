{
  "nbformat": 4,
  "nbformat_minor": 0,
  "metadata": {
    "kernelspec": {
      "display_name": "Python 3",
      "language": "python",
      "name": "python3"
    },
    "language_info": {
      "codemirror_mode": {
        "name": "ipython",
        "version": 3
      },
      "file_extension": ".py",
      "mimetype": "text/x-python",
      "name": "python",
      "nbconvert_exporter": "python",
      "pygments_lexer": "ipython3",
      "version": "3.6.5"
    },
    "toc": {
      "base_numbering": 1,
      "nav_menu": {},
      "number_sections": true,
      "sideBar": true,
      "skip_h1_title": false,
      "title_cell": "Table of Contents",
      "title_sidebar": "Contents",
      "toc_cell": false,
      "toc_position": {},
      "toc_section_display": true,
      "toc_window_display": false
    },
    "varInspector": {
      "cols": {
        "lenName": 16,
        "lenType": 16,
        "lenVar": 40
      },
      "kernels_config": {
        "python": {
          "delete_cmd_postfix": "",
          "delete_cmd_prefix": "del ",
          "library": "var_list.py",
          "varRefreshCmd": "print(var_dic_list())"
        },
        "r": {
          "delete_cmd_postfix": ") ",
          "delete_cmd_prefix": "rm(",
          "library": "var_list.r",
          "varRefreshCmd": "cat(var_dic_list()) "
        }
      },
      "types_to_exclude": [
        "module",
        "function",
        "builtin_function_or_method",
        "instance",
        "_Feature"
      ],
      "window_display": false
    },
    "colab": {
      "name": "Topic13_Lecture.ipynb",
      "provenance": []
    },
    "widgets": {
      "application/vnd.jupyter.widget-state+json": {
        "5f1f25133da749e1bb9cf7c46aa1edc3": {
          "model_module": "@jupyter-widgets/controls",
          "model_name": "VBoxModel",
          "state": {
            "_view_name": "VBoxView",
            "_dom_classes": [
              "widget-interact"
            ],
            "_model_name": "VBoxModel",
            "_view_module": "@jupyter-widgets/controls",
            "_model_module_version": "1.5.0",
            "_view_count": null,
            "_view_module_version": "1.5.0",
            "box_style": "",
            "layout": "IPY_MODEL_e6bb64bfa415464f9311bd9f5799a7a1",
            "_model_module": "@jupyter-widgets/controls",
            "children": [
              "IPY_MODEL_dd01d51dd3044b23a83498bd8f6974bd",
              "IPY_MODEL_553398b77a9e42a599146c7a5a3e232b",
              "IPY_MODEL_f8101651bff64b63bb7fde5bdcf32f36",
              "IPY_MODEL_8aeab94a838f4fff9d31b879db8bcccc"
            ]
          }
        },
        "e6bb64bfa415464f9311bd9f5799a7a1": {
          "model_module": "@jupyter-widgets/base",
          "model_name": "LayoutModel",
          "state": {
            "_view_name": "LayoutView",
            "grid_template_rows": null,
            "right": null,
            "justify_content": null,
            "_view_module": "@jupyter-widgets/base",
            "overflow": null,
            "_model_module_version": "1.2.0",
            "_view_count": null,
            "flex_flow": null,
            "width": null,
            "min_width": null,
            "border": null,
            "align_items": null,
            "bottom": null,
            "_model_module": "@jupyter-widgets/base",
            "top": null,
            "grid_column": null,
            "overflow_y": null,
            "overflow_x": null,
            "grid_auto_flow": null,
            "grid_area": null,
            "grid_template_columns": null,
            "flex": null,
            "_model_name": "LayoutModel",
            "justify_items": null,
            "grid_row": null,
            "max_height": null,
            "align_content": null,
            "visibility": null,
            "align_self": null,
            "height": null,
            "min_height": null,
            "padding": null,
            "grid_auto_rows": null,
            "grid_gap": null,
            "max_width": null,
            "order": null,
            "_view_module_version": "1.2.0",
            "grid_template_areas": null,
            "object_position": null,
            "object_fit": null,
            "grid_auto_columns": null,
            "margin": null,
            "display": null,
            "left": null
          }
        },
        "dd01d51dd3044b23a83498bd8f6974bd": {
          "model_module": "@jupyter-widgets/controls",
          "model_name": "IntSliderModel",
          "state": {
            "_view_name": "IntSliderView",
            "style": "IPY_MODEL_0bd97aa2f2d4473ea4c86ceed8527a03",
            "_dom_classes": [],
            "description": "n",
            "step": 5,
            "_model_name": "IntSliderModel",
            "orientation": "horizontal",
            "max": 100,
            "_view_module": "@jupyter-widgets/controls",
            "_model_module_version": "1.5.0",
            "value": 20,
            "_view_count": null,
            "disabled": false,
            "_view_module_version": "1.5.0",
            "min": 10,
            "continuous_update": true,
            "readout_format": "d",
            "description_tooltip": null,
            "readout": true,
            "_model_module": "@jupyter-widgets/controls",
            "layout": "IPY_MODEL_e38ed291cb32450bab312617b1bd922d"
          }
        },
        "553398b77a9e42a599146c7a5a3e232b": {
          "model_module": "@jupyter-widgets/controls",
          "model_name": "DropdownModel",
          "state": {
            "_options_labels": [
              "p > 0.5",
              "p < 0.5",
              "p ≠ 0"
            ],
            "_view_name": "DropdownView",
            "style": "IPY_MODEL_e29e6aca00fa435a967e0a00efa1eef8",
            "_dom_classes": [],
            "description": "Alternate Hypothesis:",
            "_model_name": "DropdownModel",
            "index": 0,
            "_view_module": "@jupyter-widgets/controls",
            "_model_module_version": "1.5.0",
            "_view_count": null,
            "disabled": false,
            "_view_module_version": "1.5.0",
            "description_tooltip": null,
            "_model_module": "@jupyter-widgets/controls",
            "layout": "IPY_MODEL_3d25bf4409604508a12e694e26293ddf"
          }
        },
        "f8101651bff64b63bb7fde5bdcf32f36": {
          "model_module": "@jupyter-widgets/controls",
          "model_name": "FloatSliderModel",
          "state": {
            "_view_name": "FloatSliderView",
            "style": "IPY_MODEL_6dfbe33e10b345639e2b389c3c021e09",
            "_dom_classes": [],
            "description": "Significance level:",
            "step": 0.05,
            "_model_name": "FloatSliderModel",
            "orientation": "horizontal",
            "max": 0.5,
            "_view_module": "@jupyter-widgets/controls",
            "_model_module_version": "1.5.0",
            "value": 0.05,
            "_view_count": null,
            "disabled": false,
            "_view_module_version": "1.5.0",
            "min": 0,
            "continuous_update": true,
            "readout_format": ".2f",
            "description_tooltip": null,
            "readout": true,
            "_model_module": "@jupyter-widgets/controls",
            "layout": "IPY_MODEL_04adb204c29f4e2eb8788cdf2e52e67b"
          }
        },
        "8aeab94a838f4fff9d31b879db8bcccc": {
          "model_module": "@jupyter-widgets/output",
          "model_name": "OutputModel",
          "state": {
            "_view_name": "OutputView",
            "msg_id": "",
            "_dom_classes": [],
            "_model_name": "OutputModel",
            "outputs": [
              {
                "output_type": "display_data",
                "metadata": {
                  "tags": [],
                  "needs_background": "light"
                },
                "image/png": "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\n",
                "text/plain": "<Figure size 864x576 with 1 Axes>"
              },
              {
                "output_type": "stream",
                "metadata": {
                  "tags": []
                },
                "text": "Reject null hypothesis if number of heads is more than 14.0\n",
                "stream": "stdout"
              }
            ],
            "_view_module": "@jupyter-widgets/output",
            "_model_module_version": "1.0.0",
            "_view_count": null,
            "_view_module_version": "1.0.0",
            "layout": "IPY_MODEL_db9818a88fc647d3926b23e666b0de86",
            "_model_module": "@jupyter-widgets/output"
          }
        },
        "0bd97aa2f2d4473ea4c86ceed8527a03": {
          "model_module": "@jupyter-widgets/controls",
          "model_name": "SliderStyleModel",
          "state": {
            "_view_name": "StyleView",
            "handle_color": null,
            "_model_name": "SliderStyleModel",
            "description_width": "initial",
            "_view_module": "@jupyter-widgets/base",
            "_model_module_version": "1.5.0",
            "_view_count": null,
            "_view_module_version": "1.2.0",
            "_model_module": "@jupyter-widgets/controls"
          }
        },
        "e38ed291cb32450bab312617b1bd922d": {
          "model_module": "@jupyter-widgets/base",
          "model_name": "LayoutModel",
          "state": {
            "_view_name": "LayoutView",
            "grid_template_rows": null,
            "right": null,
            "justify_content": null,
            "_view_module": "@jupyter-widgets/base",
            "overflow": null,
            "_model_module_version": "1.2.0",
            "_view_count": null,
            "flex_flow": null,
            "width": null,
            "min_width": null,
            "border": null,
            "align_items": null,
            "bottom": null,
            "_model_module": "@jupyter-widgets/base",
            "top": null,
            "grid_column": null,
            "overflow_y": null,
            "overflow_x": null,
            "grid_auto_flow": null,
            "grid_area": null,
            "grid_template_columns": null,
            "flex": null,
            "_model_name": "LayoutModel",
            "justify_items": null,
            "grid_row": null,
            "max_height": null,
            "align_content": null,
            "visibility": null,
            "align_self": null,
            "height": null,
            "min_height": null,
            "padding": null,
            "grid_auto_rows": null,
            "grid_gap": null,
            "max_width": null,
            "order": null,
            "_view_module_version": "1.2.0",
            "grid_template_areas": null,
            "object_position": null,
            "object_fit": null,
            "grid_auto_columns": null,
            "margin": null,
            "display": null,
            "left": null
          }
        },
        "e29e6aca00fa435a967e0a00efa1eef8": {
          "model_module": "@jupyter-widgets/controls",
          "model_name": "DescriptionStyleModel",
          "state": {
            "_view_name": "StyleView",
            "_model_name": "DescriptionStyleModel",
            "description_width": "initial",
            "_view_module": "@jupyter-widgets/base",
            "_model_module_version": "1.5.0",
            "_view_count": null,
            "_view_module_version": "1.2.0",
            "_model_module": "@jupyter-widgets/controls"
          }
        },
        "3d25bf4409604508a12e694e26293ddf": {
          "model_module": "@jupyter-widgets/base",
          "model_name": "LayoutModel",
          "state": {
            "_view_name": "LayoutView",
            "grid_template_rows": null,
            "right": null,
            "justify_content": null,
            "_view_module": "@jupyter-widgets/base",
            "overflow": null,
            "_model_module_version": "1.2.0",
            "_view_count": null,
            "flex_flow": null,
            "width": null,
            "min_width": null,
            "border": null,
            "align_items": null,
            "bottom": null,
            "_model_module": "@jupyter-widgets/base",
            "top": null,
            "grid_column": null,
            "overflow_y": null,
            "overflow_x": null,
            "grid_auto_flow": null,
            "grid_area": null,
            "grid_template_columns": null,
            "flex": null,
            "_model_name": "LayoutModel",
            "justify_items": null,
            "grid_row": null,
            "max_height": null,
            "align_content": null,
            "visibility": null,
            "align_self": null,
            "height": null,
            "min_height": null,
            "padding": null,
            "grid_auto_rows": null,
            "grid_gap": null,
            "max_width": null,
            "order": null,
            "_view_module_version": "1.2.0",
            "grid_template_areas": null,
            "object_position": null,
            "object_fit": null,
            "grid_auto_columns": null,
            "margin": null,
            "display": null,
            "left": null
          }
        },
        "6dfbe33e10b345639e2b389c3c021e09": {
          "model_module": "@jupyter-widgets/controls",
          "model_name": "SliderStyleModel",
          "state": {
            "_view_name": "StyleView",
            "handle_color": null,
            "_model_name": "SliderStyleModel",
            "description_width": "initial",
            "_view_module": "@jupyter-widgets/base",
            "_model_module_version": "1.5.0",
            "_view_count": null,
            "_view_module_version": "1.2.0",
            "_model_module": "@jupyter-widgets/controls"
          }
        },
        "04adb204c29f4e2eb8788cdf2e52e67b": {
          "model_module": "@jupyter-widgets/base",
          "model_name": "LayoutModel",
          "state": {
            "_view_name": "LayoutView",
            "grid_template_rows": null,
            "right": null,
            "justify_content": null,
            "_view_module": "@jupyter-widgets/base",
            "overflow": null,
            "_model_module_version": "1.2.0",
            "_view_count": null,
            "flex_flow": null,
            "width": null,
            "min_width": null,
            "border": null,
            "align_items": null,
            "bottom": null,
            "_model_module": "@jupyter-widgets/base",
            "top": null,
            "grid_column": null,
            "overflow_y": null,
            "overflow_x": null,
            "grid_auto_flow": null,
            "grid_area": null,
            "grid_template_columns": null,
            "flex": null,
            "_model_name": "LayoutModel",
            "justify_items": null,
            "grid_row": null,
            "max_height": null,
            "align_content": null,
            "visibility": null,
            "align_self": null,
            "height": null,
            "min_height": null,
            "padding": null,
            "grid_auto_rows": null,
            "grid_gap": null,
            "max_width": null,
            "order": null,
            "_view_module_version": "1.2.0",
            "grid_template_areas": null,
            "object_position": null,
            "object_fit": null,
            "grid_auto_columns": null,
            "margin": null,
            "display": null,
            "left": null
          }
        },
        "db9818a88fc647d3926b23e666b0de86": {
          "model_module": "@jupyter-widgets/base",
          "model_name": "LayoutModel",
          "state": {
            "_view_name": "LayoutView",
            "grid_template_rows": null,
            "right": null,
            "justify_content": null,
            "_view_module": "@jupyter-widgets/base",
            "overflow": null,
            "_model_module_version": "1.2.0",
            "_view_count": null,
            "flex_flow": null,
            "width": null,
            "min_width": null,
            "border": null,
            "align_items": null,
            "bottom": null,
            "_model_module": "@jupyter-widgets/base",
            "top": null,
            "grid_column": null,
            "overflow_y": null,
            "overflow_x": null,
            "grid_auto_flow": null,
            "grid_area": null,
            "grid_template_columns": null,
            "flex": null,
            "_model_name": "LayoutModel",
            "justify_items": null,
            "grid_row": null,
            "max_height": null,
            "align_content": null,
            "visibility": null,
            "align_self": null,
            "height": null,
            "min_height": null,
            "padding": null,
            "grid_auto_rows": null,
            "grid_gap": null,
            "max_width": null,
            "order": null,
            "_view_module_version": "1.2.0",
            "grid_template_areas": null,
            "object_position": null,
            "object_fit": null,
            "grid_auto_columns": null,
            "margin": null,
            "display": null,
            "left": null
          }
        },
        "346eb2e261e84c9296c1e54060ed674a": {
          "model_module": "@jupyter-widgets/controls",
          "model_name": "VBoxModel",
          "state": {
            "_view_name": "VBoxView",
            "_dom_classes": [
              "widget-interact"
            ],
            "_model_name": "VBoxModel",
            "_view_module": "@jupyter-widgets/controls",
            "_model_module_version": "1.5.0",
            "_view_count": null,
            "_view_module_version": "1.5.0",
            "box_style": "",
            "layout": "IPY_MODEL_ed373dc05a3d47c581b6bd39a2001a34",
            "_model_module": "@jupyter-widgets/controls",
            "children": [
              "IPY_MODEL_2e1a76f842dc4cd3bcb14506f7feb060",
              "IPY_MODEL_14b69e6e3cdb44a4a83ed92efb66b01c",
              "IPY_MODEL_197c123a1cae4998a538a3d93829e6ba"
            ]
          }
        },
        "ed373dc05a3d47c581b6bd39a2001a34": {
          "model_module": "@jupyter-widgets/base",
          "model_name": "LayoutModel",
          "state": {
            "_view_name": "LayoutView",
            "grid_template_rows": null,
            "right": null,
            "justify_content": null,
            "_view_module": "@jupyter-widgets/base",
            "overflow": null,
            "_model_module_version": "1.2.0",
            "_view_count": null,
            "flex_flow": null,
            "width": null,
            "min_width": null,
            "border": null,
            "align_items": null,
            "bottom": null,
            "_model_module": "@jupyter-widgets/base",
            "top": null,
            "grid_column": null,
            "overflow_y": null,
            "overflow_x": null,
            "grid_auto_flow": null,
            "grid_area": null,
            "grid_template_columns": null,
            "flex": null,
            "_model_name": "LayoutModel",
            "justify_items": null,
            "grid_row": null,
            "max_height": null,
            "align_content": null,
            "visibility": null,
            "align_self": null,
            "height": null,
            "min_height": null,
            "padding": null,
            "grid_auto_rows": null,
            "grid_gap": null,
            "max_width": null,
            "order": null,
            "_view_module_version": "1.2.0",
            "grid_template_areas": null,
            "object_position": null,
            "object_fit": null,
            "grid_auto_columns": null,
            "margin": null,
            "display": null,
            "left": null
          }
        },
        "2e1a76f842dc4cd3bcb14506f7feb060": {
          "model_module": "@jupyter-widgets/controls",
          "model_name": "IntSliderModel",
          "state": {
            "_view_name": "IntSliderView",
            "style": "IPY_MODEL_77be671586da433787c9624973247150",
            "_dom_classes": [],
            "description": "n",
            "step": 10,
            "_model_name": "IntSliderModel",
            "orientation": "horizontal",
            "max": 1000,
            "_view_module": "@jupyter-widgets/controls",
            "_model_module_version": "1.5.0",
            "value": 720,
            "_view_count": null,
            "disabled": false,
            "_view_module_version": "1.5.0",
            "min": 10,
            "continuous_update": true,
            "readout_format": "d",
            "description_tooltip": null,
            "readout": true,
            "_model_module": "@jupyter-widgets/controls",
            "layout": "IPY_MODEL_4cf29be3070c4db38c67fc6481cdb24c"
          }
        },
        "14b69e6e3cdb44a4a83ed92efb66b01c": {
          "model_module": "@jupyter-widgets/controls",
          "model_name": "DropdownModel",
          "state": {
            "_options_labels": [
              "μ > μ under null hypothesis",
              "μ < μ under null hypothesis",
              "μ ≠ μ under null hypothesis"
            ],
            "_view_name": "DropdownView",
            "style": "IPY_MODEL_753dce8c96754ce39bd74b3bfb4ace49",
            "_dom_classes": [],
            "description": "Test type",
            "_model_name": "DropdownModel",
            "index": 2,
            "_view_module": "@jupyter-widgets/controls",
            "_model_module_version": "1.5.0",
            "_view_count": null,
            "disabled": false,
            "_view_module_version": "1.5.0",
            "description_tooltip": null,
            "_model_module": "@jupyter-widgets/controls",
            "layout": "IPY_MODEL_c2d37aa5c7364f2cb83f5fa3b5cc8d98"
          }
        },
        "197c123a1cae4998a538a3d93829e6ba": {
          "model_module": "@jupyter-widgets/output",
          "model_name": "OutputModel",
          "state": {
            "_view_name": "OutputView",
            "msg_id": "",
            "_dom_classes": [],
            "_model_name": "OutputModel",
            "outputs": [
              {
                "output_type": "stream",
                "metadata": {
                  "tags": []
                },
                "text": "Sample mean:10.3816\nz-score:5.1199\np-value: 3.0570859665957073e-07\n",
                "stream": "stdout"
              }
            ],
            "_view_module": "@jupyter-widgets/output",
            "_model_module_version": "1.0.0",
            "_view_count": null,
            "_view_module_version": "1.0.0",
            "layout": "IPY_MODEL_dbdc6de1f5194bcc8f6a81345f52f19a",
            "_model_module": "@jupyter-widgets/output"
          }
        },
        "77be671586da433787c9624973247150": {
          "model_module": "@jupyter-widgets/controls",
          "model_name": "SliderStyleModel",
          "state": {
            "_view_name": "StyleView",
            "handle_color": null,
            "_model_name": "SliderStyleModel",
            "description_width": "",
            "_view_module": "@jupyter-widgets/base",
            "_model_module_version": "1.5.0",
            "_view_count": null,
            "_view_module_version": "1.2.0",
            "_model_module": "@jupyter-widgets/controls"
          }
        },
        "4cf29be3070c4db38c67fc6481cdb24c": {
          "model_module": "@jupyter-widgets/base",
          "model_name": "LayoutModel",
          "state": {
            "_view_name": "LayoutView",
            "grid_template_rows": null,
            "right": null,
            "justify_content": null,
            "_view_module": "@jupyter-widgets/base",
            "overflow": null,
            "_model_module_version": "1.2.0",
            "_view_count": null,
            "flex_flow": null,
            "width": null,
            "min_width": null,
            "border": null,
            "align_items": null,
            "bottom": null,
            "_model_module": "@jupyter-widgets/base",
            "top": null,
            "grid_column": null,
            "overflow_y": null,
            "overflow_x": null,
            "grid_auto_flow": null,
            "grid_area": null,
            "grid_template_columns": null,
            "flex": null,
            "_model_name": "LayoutModel",
            "justify_items": null,
            "grid_row": null,
            "max_height": null,
            "align_content": null,
            "visibility": null,
            "align_self": null,
            "height": null,
            "min_height": null,
            "padding": null,
            "grid_auto_rows": null,
            "grid_gap": null,
            "max_width": null,
            "order": null,
            "_view_module_version": "1.2.0",
            "grid_template_areas": null,
            "object_position": null,
            "object_fit": null,
            "grid_auto_columns": null,
            "margin": null,
            "display": null,
            "left": null
          }
        },
        "753dce8c96754ce39bd74b3bfb4ace49": {
          "model_module": "@jupyter-widgets/controls",
          "model_name": "DescriptionStyleModel",
          "state": {
            "_view_name": "StyleView",
            "_model_name": "DescriptionStyleModel",
            "description_width": "",
            "_view_module": "@jupyter-widgets/base",
            "_model_module_version": "1.5.0",
            "_view_count": null,
            "_view_module_version": "1.2.0",
            "_model_module": "@jupyter-widgets/controls"
          }
        },
        "c2d37aa5c7364f2cb83f5fa3b5cc8d98": {
          "model_module": "@jupyter-widgets/base",
          "model_name": "LayoutModel",
          "state": {
            "_view_name": "LayoutView",
            "grid_template_rows": null,
            "right": null,
            "justify_content": null,
            "_view_module": "@jupyter-widgets/base",
            "overflow": null,
            "_model_module_version": "1.2.0",
            "_view_count": null,
            "flex_flow": null,
            "width": null,
            "min_width": null,
            "border": null,
            "align_items": null,
            "bottom": null,
            "_model_module": "@jupyter-widgets/base",
            "top": null,
            "grid_column": null,
            "overflow_y": null,
            "overflow_x": null,
            "grid_auto_flow": null,
            "grid_area": null,
            "grid_template_columns": null,
            "flex": null,
            "_model_name": "LayoutModel",
            "justify_items": null,
            "grid_row": null,
            "max_height": null,
            "align_content": null,
            "visibility": null,
            "align_self": null,
            "height": null,
            "min_height": null,
            "padding": null,
            "grid_auto_rows": null,
            "grid_gap": null,
            "max_width": null,
            "order": null,
            "_view_module_version": "1.2.0",
            "grid_template_areas": null,
            "object_position": null,
            "object_fit": null,
            "grid_auto_columns": null,
            "margin": null,
            "display": null,
            "left": null
          }
        },
        "dbdc6de1f5194bcc8f6a81345f52f19a": {
          "model_module": "@jupyter-widgets/base",
          "model_name": "LayoutModel",
          "state": {
            "_view_name": "LayoutView",
            "grid_template_rows": null,
            "right": null,
            "justify_content": null,
            "_view_module": "@jupyter-widgets/base",
            "overflow": null,
            "_model_module_version": "1.2.0",
            "_view_count": null,
            "flex_flow": null,
            "width": null,
            "min_width": null,
            "border": null,
            "align_items": null,
            "bottom": null,
            "_model_module": "@jupyter-widgets/base",
            "top": null,
            "grid_column": null,
            "overflow_y": null,
            "overflow_x": null,
            "grid_auto_flow": null,
            "grid_area": null,
            "grid_template_columns": null,
            "flex": null,
            "_model_name": "LayoutModel",
            "justify_items": null,
            "grid_row": null,
            "max_height": null,
            "align_content": null,
            "visibility": null,
            "align_self": null,
            "height": null,
            "min_height": null,
            "padding": null,
            "grid_auto_rows": null,
            "grid_gap": null,
            "max_width": null,
            "order": null,
            "_view_module_version": "1.2.0",
            "grid_template_areas": null,
            "object_position": null,
            "object_fit": null,
            "grid_auto_columns": null,
            "margin": null,
            "display": null,
            "left": null
          }
        },
        "cf1f81ab770641768c33df9c00ad0a75": {
          "model_module": "@jupyter-widgets/controls",
          "model_name": "VBoxModel",
          "state": {
            "_view_name": "VBoxView",
            "_dom_classes": [
              "widget-interact"
            ],
            "_model_name": "VBoxModel",
            "_view_module": "@jupyter-widgets/controls",
            "_model_module_version": "1.5.0",
            "_view_count": null,
            "_view_module_version": "1.5.0",
            "box_style": "",
            "layout": "IPY_MODEL_e39eacb2d35f4c3aafe38455aef3c0bd",
            "_model_module": "@jupyter-widgets/controls",
            "children": [
              "IPY_MODEL_77f14853e3f94d5ca892606d3a982cda",
              "IPY_MODEL_fd6b27d74be84838bd4502f2b94d1c40",
              "IPY_MODEL_acac1a61003440258e6a638e7de1b026"
            ]
          }
        },
        "e39eacb2d35f4c3aafe38455aef3c0bd": {
          "model_module": "@jupyter-widgets/base",
          "model_name": "LayoutModel",
          "state": {
            "_view_name": "LayoutView",
            "grid_template_rows": null,
            "right": null,
            "justify_content": null,
            "_view_module": "@jupyter-widgets/base",
            "overflow": null,
            "_model_module_version": "1.2.0",
            "_view_count": null,
            "flex_flow": null,
            "width": null,
            "min_width": null,
            "border": null,
            "align_items": null,
            "bottom": null,
            "_model_module": "@jupyter-widgets/base",
            "top": null,
            "grid_column": null,
            "overflow_y": null,
            "overflow_x": null,
            "grid_auto_flow": null,
            "grid_area": null,
            "grid_template_columns": null,
            "flex": null,
            "_model_name": "LayoutModel",
            "justify_items": null,
            "grid_row": null,
            "max_height": null,
            "align_content": null,
            "visibility": null,
            "align_self": null,
            "height": null,
            "min_height": null,
            "padding": null,
            "grid_auto_rows": null,
            "grid_gap": null,
            "max_width": null,
            "order": null,
            "_view_module_version": "1.2.0",
            "grid_template_areas": null,
            "object_position": null,
            "object_fit": null,
            "grid_auto_columns": null,
            "margin": null,
            "display": null,
            "left": null
          }
        },
        "77f14853e3f94d5ca892606d3a982cda": {
          "model_module": "@jupyter-widgets/controls",
          "model_name": "IntSliderModel",
          "state": {
            "_view_name": "IntSliderView",
            "style": "IPY_MODEL_ff7554bee4f8428ea85de54370b441c5",
            "_dom_classes": [],
            "description": "n",
            "step": 10,
            "_model_name": "IntSliderModel",
            "orientation": "horizontal",
            "max": 1000,
            "_view_module": "@jupyter-widgets/controls",
            "_model_module_version": "1.5.0",
            "value": 550,
            "_view_count": null,
            "disabled": false,
            "_view_module_version": "1.5.0",
            "min": 10,
            "continuous_update": true,
            "readout_format": "d",
            "description_tooltip": null,
            "readout": true,
            "_model_module": "@jupyter-widgets/controls",
            "layout": "IPY_MODEL_5ad8de1a8afe4f05be8e943eefe6172c"
          }
        },
        "fd6b27d74be84838bd4502f2b94d1c40": {
          "model_module": "@jupyter-widgets/controls",
          "model_name": "DropdownModel",
          "state": {
            "_options_labels": [
              "μ > μ under null hypothesis",
              "μ < μ under null hypothesis",
              "μ ≠ μ under null hypothesis"
            ],
            "_view_name": "DropdownView",
            "style": "IPY_MODEL_60ad47f4607c418ea1b64164e2d235fb",
            "_dom_classes": [],
            "description": "Test type",
            "_model_name": "DropdownModel",
            "index": 1,
            "_view_module": "@jupyter-widgets/controls",
            "_model_module_version": "1.5.0",
            "_view_count": null,
            "disabled": false,
            "_view_module_version": "1.5.0",
            "description_tooltip": null,
            "_model_module": "@jupyter-widgets/controls",
            "layout": "IPY_MODEL_7533cee541304ca2b31a743d5c379468"
          }
        },
        "acac1a61003440258e6a638e7de1b026": {
          "model_module": "@jupyter-widgets/output",
          "model_name": "OutputModel",
          "state": {
            "_view_name": "OutputView",
            "msg_id": "",
            "_dom_classes": [],
            "_model_name": "OutputModel",
            "outputs": [
              {
                "output_type": "stream",
                "metadata": {
                  "tags": []
                },
                "text": "Sample mean:10.4132\nt-score:4.4431\n",
                "stream": "stdout"
              }
            ],
            "_view_module": "@jupyter-widgets/output",
            "_model_module_version": "1.0.0",
            "_view_count": null,
            "_view_module_version": "1.0.0",
            "layout": "IPY_MODEL_4243c624995b474ba787377e59b9723a",
            "_model_module": "@jupyter-widgets/output"
          }
        },
        "ff7554bee4f8428ea85de54370b441c5": {
          "model_module": "@jupyter-widgets/controls",
          "model_name": "SliderStyleModel",
          "state": {
            "_view_name": "StyleView",
            "handle_color": null,
            "_model_name": "SliderStyleModel",
            "description_width": "",
            "_view_module": "@jupyter-widgets/base",
            "_model_module_version": "1.5.0",
            "_view_count": null,
            "_view_module_version": "1.2.0",
            "_model_module": "@jupyter-widgets/controls"
          }
        },
        "5ad8de1a8afe4f05be8e943eefe6172c": {
          "model_module": "@jupyter-widgets/base",
          "model_name": "LayoutModel",
          "state": {
            "_view_name": "LayoutView",
            "grid_template_rows": null,
            "right": null,
            "justify_content": null,
            "_view_module": "@jupyter-widgets/base",
            "overflow": null,
            "_model_module_version": "1.2.0",
            "_view_count": null,
            "flex_flow": null,
            "width": null,
            "min_width": null,
            "border": null,
            "align_items": null,
            "bottom": null,
            "_model_module": "@jupyter-widgets/base",
            "top": null,
            "grid_column": null,
            "overflow_y": null,
            "overflow_x": null,
            "grid_auto_flow": null,
            "grid_area": null,
            "grid_template_columns": null,
            "flex": null,
            "_model_name": "LayoutModel",
            "justify_items": null,
            "grid_row": null,
            "max_height": null,
            "align_content": null,
            "visibility": null,
            "align_self": null,
            "height": null,
            "min_height": null,
            "padding": null,
            "grid_auto_rows": null,
            "grid_gap": null,
            "max_width": null,
            "order": null,
            "_view_module_version": "1.2.0",
            "grid_template_areas": null,
            "object_position": null,
            "object_fit": null,
            "grid_auto_columns": null,
            "margin": null,
            "display": null,
            "left": null
          }
        },
        "60ad47f4607c418ea1b64164e2d235fb": {
          "model_module": "@jupyter-widgets/controls",
          "model_name": "DescriptionStyleModel",
          "state": {
            "_view_name": "StyleView",
            "_model_name": "DescriptionStyleModel",
            "description_width": "",
            "_view_module": "@jupyter-widgets/base",
            "_model_module_version": "1.5.0",
            "_view_count": null,
            "_view_module_version": "1.2.0",
            "_model_module": "@jupyter-widgets/controls"
          }
        },
        "7533cee541304ca2b31a743d5c379468": {
          "model_module": "@jupyter-widgets/base",
          "model_name": "LayoutModel",
          "state": {
            "_view_name": "LayoutView",
            "grid_template_rows": null,
            "right": null,
            "justify_content": null,
            "_view_module": "@jupyter-widgets/base",
            "overflow": null,
            "_model_module_version": "1.2.0",
            "_view_count": null,
            "flex_flow": null,
            "width": null,
            "min_width": null,
            "border": null,
            "align_items": null,
            "bottom": null,
            "_model_module": "@jupyter-widgets/base",
            "top": null,
            "grid_column": null,
            "overflow_y": null,
            "overflow_x": null,
            "grid_auto_flow": null,
            "grid_area": null,
            "grid_template_columns": null,
            "flex": null,
            "_model_name": "LayoutModel",
            "justify_items": null,
            "grid_row": null,
            "max_height": null,
            "align_content": null,
            "visibility": null,
            "align_self": null,
            "height": null,
            "min_height": null,
            "padding": null,
            "grid_auto_rows": null,
            "grid_gap": null,
            "max_width": null,
            "order": null,
            "_view_module_version": "1.2.0",
            "grid_template_areas": null,
            "object_position": null,
            "object_fit": null,
            "grid_auto_columns": null,
            "margin": null,
            "display": null,
            "left": null
          }
        },
        "4243c624995b474ba787377e59b9723a": {
          "model_module": "@jupyter-widgets/base",
          "model_name": "LayoutModel",
          "state": {
            "_view_name": "LayoutView",
            "grid_template_rows": null,
            "right": null,
            "justify_content": null,
            "_view_module": "@jupyter-widgets/base",
            "overflow": null,
            "_model_module_version": "1.2.0",
            "_view_count": null,
            "flex_flow": null,
            "width": null,
            "min_width": null,
            "border": null,
            "align_items": null,
            "bottom": null,
            "_model_module": "@jupyter-widgets/base",
            "top": null,
            "grid_column": null,
            "overflow_y": null,
            "overflow_x": null,
            "grid_auto_flow": null,
            "grid_area": null,
            "grid_template_columns": null,
            "flex": null,
            "_model_name": "LayoutModel",
            "justify_items": null,
            "grid_row": null,
            "max_height": null,
            "align_content": null,
            "visibility": null,
            "align_self": null,
            "height": null,
            "min_height": null,
            "padding": null,
            "grid_auto_rows": null,
            "grid_gap": null,
            "max_width": null,
            "order": null,
            "_view_module_version": "1.2.0",
            "grid_template_areas": null,
            "object_position": null,
            "object_fit": null,
            "grid_auto_columns": null,
            "margin": null,
            "display": null,
            "left": null
          }
        }
      }
    }
  },
  "cells": [
    {
      "cell_type": "markdown",
      "metadata": {
        "id": "Cl0brn9diW3W"
      },
      "source": [
        "# Hypothesis Testing "
      ]
    },
    {
      "cell_type": "markdown",
      "metadata": {
        "id": "CRiB5EzKiW3Y"
      },
      "source": [
        "Hypothesis testing is a method by which we can quantify the quality of our estimates. An important step in this method is defining the null and alternate hypothesis clearly. By doing so we can exactly interpret the results of the test."
      ]
    },
    {
      "cell_type": "code",
      "metadata": {
        "id": "_BSuduvKiW3Z"
      },
      "source": [
        "import ipywidgets as widgets\n",
        "from IPython.display import display\n",
        "import numpy as np\n",
        "import matplotlib.pyplot as plt\n",
        "from scipy.stats import binom"
      ],
      "execution_count": 1,
      "outputs": []
    },
    {
      "cell_type": "markdown",
      "metadata": {
        "id": "at2NhzMZiW3e"
      },
      "source": [
        "We can use hypothesis testing to see whether a coin is biased or not. Given a coin we can toss it $n$ times and count the number of heads we get. The null hypothesis is that the coins are unbiased, which means, $P(Heads)=P(Tails)=0.5$. The code below displays critical values for different alternate hypothesis. You can vary $n$ and significance level and see the change in the critical values."
      ]
    },
    {
      "cell_type": "code",
      "metadata": {
        "id": "2VNj7EaLiW3e",
        "outputId": "13028133-e334-465d-e1fc-04ed74ad0794",
        "colab": {
          "base_uri": "https://localhost:8080/",
          "height": 655,
          "referenced_widgets": [
            "5f1f25133da749e1bb9cf7c46aa1edc3",
            "e6bb64bfa415464f9311bd9f5799a7a1",
            "dd01d51dd3044b23a83498bd8f6974bd",
            "553398b77a9e42a599146c7a5a3e232b",
            "f8101651bff64b63bb7fde5bdcf32f36",
            "8aeab94a838f4fff9d31b879db8bcccc",
            "0bd97aa2f2d4473ea4c86ceed8527a03",
            "e38ed291cb32450bab312617b1bd922d",
            "e29e6aca00fa435a967e0a00efa1eef8",
            "3d25bf4409604508a12e694e26293ddf",
            "6dfbe33e10b345639e2b389c3c021e09",
            "04adb204c29f4e2eb8788cdf2e52e67b",
            "db9818a88fc647d3926b23e666b0de86"
          ]
        }
      },
      "source": [
        " def hypothesisTesting(n,option,sig_level):\n",
        "    pmf = binom.pmf(range(n+1),n=n,p=0.5)\n",
        "    plt.figure(figsize=(12,8))\n",
        "    plt.plot(range(n+1),pmf)\n",
        "    plt.xlabel(\"Number of Heads\",fontsize=18)\n",
        "    plt.ylabel(\"Probability\",fontsize=18)\n",
        "    plt.title(\"The Binomial distribution under the null hypothesis\",fontsize=18)\n",
        "    plt.show()\n",
        "    if option==\"p > 0.5\":\n",
        "        k=binom.ppf(1-sig_level,n=n,p=0.5)\n",
        "        print(\"Reject null hypothesis if number of heads is more than {}\".format(k))\n",
        "    elif option==\"p < 0.5\":\n",
        "        k = binom.ppf(sig_level,n=n,p=0.5)-1\n",
        "        print(\"Reject null hypothesis if number of heads is less than {}\".format(k+1))\n",
        "    elif option==\"p ≠ 0\":\n",
        "        k1 = binom.ppf(1-sig_level/2,n=n,p=0.5)+1\n",
        "        k2 = binom.ppf(sig_level/2,n=n,p=0.5)-1\n",
        "        print(\"Reject null hypothesis if number of heads lies outside {} and {}\".format(k2,k1))\n",
        "\n",
        "style = {'description_width': 'initial'}\n",
        "w_opt = widgets.Dropdown(options=[\"p > 0.5\",\"p < 0.5\",\"p ≠ 0\"],description=\"Alternate Hypothesis:\",style=style)\n",
        "w_sig_level =  widgets.FloatSlider(value =0.05, min = 0., max = 0.5 , step=0.05, description=\"Significance level:\",style=style)\n",
        "w_n = widgets.IntSlider(value = 20, min = 10, max = 100, step = 5, style = style)\n",
        "v = widgets.interact(hypothesisTesting,n=w_n,option = w_opt,sig_level=w_sig_level)\n",
        "display(v)"
      ],
      "execution_count": 2,
      "outputs": [
        {
          "output_type": "display_data",
          "data": {
            "application/vnd.jupyter.widget-view+json": {
              "model_id": "5f1f25133da749e1bb9cf7c46aa1edc3",
              "version_minor": 0,
              "version_major": 2
            },
            "text/plain": [
              "interactive(children=(IntSlider(value=20, description='n', min=10, step=5, style=SliderStyle(description_width…"
            ]
          },
          "metadata": {
            "tags": []
          }
        },
        {
          "output_type": "display_data",
          "data": {
            "text/plain": [
              "<function __main__.hypothesisTesting>"
            ]
          },
          "metadata": {
            "tags": []
          }
        }
      ]
    },
    {
      "cell_type": "markdown",
      "metadata": {
        "id": "V0lNj4fliW3r"
      },
      "source": [
        "# Z-Test"
      ]
    },
    {
      "cell_type": "code",
      "metadata": {
        "id": "itMw4Jt0iW3s"
      },
      "source": [
        "import numpy as np\n",
        "from scipy.stats import norm,t"
      ],
      "execution_count": 3,
      "outputs": []
    },
    {
      "cell_type": "markdown",
      "metadata": {
        "id": "9cD1FlkziW3v"
      },
      "source": [
        "Many a times we draw samples from the real world, and it is a common practice to assume the distribution to be Gaussian. In this section we will use the z-test to test this hypothesis.\n",
        "\n",
        "Consider a random variable $X$ given by\n",
        "$$X = Y*Z_1+(1-Y)*Z_2$$\n",
        "Where $Y$ is a Bernoulli random variable ,and $Z_1$ and $Z_2$ are Gaussian random variables.Sampling $X$ is same as sampling $Z_1$ or $Z_2$ with probability $p$ and $1-p$ respectively.These kinds of models are called Gaussian Mixture Models. The following code generates a sample of $X$."
      ]
    },
    {
      "cell_type": "code",
      "metadata": {
        "id": "wY34qWbriW3x"
      },
      "source": [
        "def sample(p = 0.5):\n",
        "    Y = np.random.rand(1)\n",
        "    if Y>=p:\n",
        "        return np.random.normal(10,2)\n",
        "    else:\n",
        "        return np.random.normal(12,2)"
      ],
      "execution_count": 4,
      "outputs": []
    },
    {
      "cell_type": "markdown",
      "metadata": {
        "id": "wp3cxTljiW35"
      },
      "source": [
        "To see what the distribution of $X$ looks like, let us generate 10000 samples and plot an estiamte of the distribution. "
      ]
    },
    {
      "cell_type": "code",
      "metadata": {
        "id": "Ws8SQgm7iW35",
        "outputId": "046840d9-4e4a-477b-b657-4e34579f0fc0",
        "colab": {
          "base_uri": "https://localhost:8080/",
          "height": 505
        }
      },
      "source": [
        "plt.figure(figsize=(12,8))\n",
        "plt.hist(np.asarray([sample(0.2) for _ in range(10000)]),50,density=True)\n",
        "plt.xlabel(\"X\",fontsize=18)\n",
        "plt.ylabel(\"Probability\",fontsize=18)\n",
        "plt.show()"
      ],
      "execution_count": 5,
      "outputs": [
        {
          "output_type": "display_data",
          "data": {
            "image/png": "[encoded data removed]",
            "text/plain": [
              "<Figure size 864x576 with 1 Axes>"
            ]
          },
          "metadata": {
            "tags": [],
            "needs_background": "light"
          }
        }
      ]
    },
    {
      "cell_type": "markdown",
      "metadata": {
        "id": "R7hkVtqeiW39"
      },
      "source": [
        "The null hypothesis is that the $X$ is a Gaussian random variable with mean 10, the variance of this distribution is given as 4.The code given below allows us to vary the number of samples and calculate the p-values, for different cases of alternate hypothesis. Observe how the p-value changes with the number of samples."
      ]
    },
    {
      "cell_type": "code",
      "metadata": {
        "id": "OVumv8BIiW3-",
        "outputId": "3e46f7da-de22-4718-c5e9-d1ccec514b0d",
        "colab": {
          "base_uri": "https://localhost:8080/",
          "height": 149,
          "referenced_widgets": [
            "346eb2e261e84c9296c1e54060ed674a",
            "ed373dc05a3d47c581b6bd39a2001a34",
            "2e1a76f842dc4cd3bcb14506f7feb060",
            "14b69e6e3cdb44a4a83ed92efb66b01c",
            "197c123a1cae4998a538a3d93829e6ba",
            "77be671586da433787c9624973247150",
            "4cf29be3070c4db38c67fc6481cdb24c",
            "753dce8c96754ce39bd74b3bfb4ace49",
            "c2d37aa5c7364f2cb83f5fa3b5cc8d98",
            "dbdc6de1f5194bcc8f6a81345f52f19a"
          ]
        }
      },
      "source": [
        "def Z_test(n,test_type):\n",
        "    samples = np.asarray([sample(0.2) for _ in range(n)])\n",
        "    sample_mean = np.mean(samples)\n",
        "    print(\"Sample mean:{:.4f}\".format(sample_mean))\n",
        "    mean = 10\n",
        "    sigma = 2\n",
        "    z = (sample_mean - mean)*np.sqrt(n)/sigma\n",
        "    print(\"z-score:{:.4f}\".format(z))\n",
        "    if test_type==\"μ > μ under null hypothesis\":\n",
        "        p = 1 - norm.cdf(z)\n",
        "        print(\"p-value: {:.6f}\".format(p))\n",
        "    #elif test_type==\"μ < μ under null hypothesis\":\n",
        "     #   p = norm.cdf(z)\n",
        "      #  print(\"p-value : {}\".format(p))\n",
        "    elif test_type==\"μ ≠ μ under null hypothesis\":\n",
        "        p = 2*(1-norm.cdf(np.abs(z)))\n",
        "        print(\"p-value: {}\".format(p))\n",
        "\n",
        "w_opt = widgets.Dropdown(\n",
        "    options=[\"μ > μ under null hypothesis\",\"μ < μ under null hypothesis\",\"μ ≠ μ under null hypothesis\"],\n",
        "    description = \"Test type\"\n",
        "    )\n",
        "w_n = widgets.IntSlider(value = 20, min = 10, max = 1000, step = 10)\n",
        "v = widgets.interact(Z_test,n=w_n,test_type = w_opt)\n",
        "display(v)"
      ],
      "execution_count": 6,
      "outputs": [
        {
          "output_type": "display_data",
          "data": {
            "application/vnd.jupyter.widget-view+json": {
              "model_id": "346eb2e261e84c9296c1e54060ed674a",
              "version_minor": 0,
              "version_major": 2
            },
            "text/plain": [
              "interactive(children=(IntSlider(value=20, description='n', max=1000, min=10, step=10), Dropdown(description='T…"
            ]
          },
          "metadata": {
            "tags": []
          }
        },
        {
          "output_type": "display_data",
          "data": {
            "text/plain": [
              "<function __main__.Z_test>"
            ]
          },
          "metadata": {
            "tags": []
          }
        }
      ]
    },
    {
      "cell_type": "markdown",
      "metadata": {
        "id": "xdDo7WgviW4E"
      },
      "source": [
        "# T-Test "
      ]
    },
    {
      "cell_type": "markdown",
      "metadata": {
        "id": "On9nAvzniW4E"
      },
      "source": [
        "We do the same test, but now assume that we do not know the variance beforehand, so we use the t-statistic. Observe how the p-values change with the number of samples."
      ]
    },
    {
      "cell_type": "code",
      "metadata": {
        "id": "yQbfqY4hiW4F",
        "outputId": "ff93ce35-c038-403c-ff62-d97a801d97e6",
        "colab": {
          "base_uri": "https://localhost:8080/",
          "height": 132,
          "referenced_widgets": [
            "cf1f81ab770641768c33df9c00ad0a75",
            "e39eacb2d35f4c3aafe38455aef3c0bd",
            "77f14853e3f94d5ca892606d3a982cda",
            "fd6b27d74be84838bd4502f2b94d1c40",
            "acac1a61003440258e6a638e7de1b026",
            "ff7554bee4f8428ea85de54370b441c5",
            "5ad8de1a8afe4f05be8e943eefe6172c",
            "60ad47f4607c418ea1b64164e2d235fb",
            "7533cee541304ca2b31a743d5c379468",
            "4243c624995b474ba787377e59b9723a"
          ]
        }
      },
      "source": [
        "def T_test(n,test_type):\n",
        "    samples = np.asarray([sample(0.2) for _ in range(n)])\n",
        "    sample_mean = np.mean(samples)\n",
        "    S = np.std(samples,ddof=1)\n",
        "    print(\"Sample mean:{:.4f}\".format(sample_mean))\n",
        "    mean = 10\n",
        "    t_score = (sample_mean - mean)*np.sqrt(n)/S\n",
        "    print(\"t-score:{:.4f}\".format(t_score))\n",
        "    if test_type==\"μ > μ under null hypothesis\":\n",
        "        p = 1 - t.cdf(t_score,n-1)\n",
        "        print(\"p-value: {:.6f}\".format(p))\n",
        "    # elif test_type==\"μ < μ under null hypothesis\":\n",
        "    #    p = t.cdf(t_score,n-1)\n",
        "    #    print(\"p-value : {}\".format(p))\n",
        "    elif test_type==\"μ ≠ μ under null hypothesis\":\n",
        "        p = 2*(1-t.cdf(np.abs(t_score,n-1)))\n",
        "        print(\"p-value: {}\".format(p))\n",
        "\n",
        "w_opt = widgets.Dropdown(\n",
        "    options=[\"μ > μ under null hypothesis\",\"μ < μ under null hypothesis\",\"μ ≠ μ under null hypothesis\"],\n",
        "    description = \"Test type\"\n",
        "    )\n",
        "w_n = widgets.IntSlider(value = 20, min = 10, max = 1000, step = 10)\n",
        "v = widgets.interact(T_test,n=w_n,test_type = w_opt)\n",
        "display(v)"
      ],
      "execution_count": 7,
      "outputs": [
        {
          "output_type": "display_data",
          "data": {
            "application/vnd.jupyter.widget-view+json": {
              "model_id": "cf1f81ab770641768c33df9c00ad0a75",
              "version_minor": 0,
              "version_major": 2
            },
            "text/plain": [
              "interactive(children=(IntSlider(value=20, description='n', max=1000, min=10, step=10), Dropdown(description='T…"
            ]
          },
          "metadata": {
            "tags": []
          }
        },
        {
          "output_type": "display_data",
          "data": {
            "text/plain": [
              "<function __main__.T_test>"
            ]
          },
          "metadata": {
            "tags": []
          }
        }
      ]
    }
  ]
}