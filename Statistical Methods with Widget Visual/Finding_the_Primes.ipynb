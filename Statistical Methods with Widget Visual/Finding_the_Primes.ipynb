{
  "nbformat": 4,
  "nbformat_minor": 0,
  "metadata": {
    "colab": {
      "name": "Finding the Primes.ipynb",
      "provenance": [],
      "collapsed_sections": [],
      "authorship_tag": "ABX9TyMAaxpLAc20RX+Ij2GihiD8",
      "include_colab_link": true
    },
    "kernelspec": {
      "name": "python3",
      "display_name": "Python 3"
    }
  },
  "cells": [
    {
      "cell_type": "markdown",
      "metadata": {
        "id": "view-in-github",
        "colab_type": "text"
      },
      "source": [
        "<a href=\"https://colab.research.google.com/github/yongxuantan/Python-for-atmospheric-science/blob/master/Statistical%20Methods%20with%20Widget%20Visual/Finding_the_Primes.ipynb\" target=\"_parent\"><img src=\"https://colab.research.google.com/assets/colab-badge.svg\" alt=\"Open In Colab\"/></a>"
      ]
    },
    {
      "cell_type": "markdown",
      "metadata": {
        "id": "p1pw2QzIjvCD"
      },
      "source": [
        "### Finding the primes\n",
        "The following program finds the prime numbers between $2$ and $k$."
      ]
    },
    {
      "cell_type": "markdown",
      "metadata": {
        "id": "iiENvNRXjvCE"
      },
      "source": [
        "It stars with a set of all of the integers between `2` and `k`, which is called `I`.\n",
        "\n",
        "It then removes all multiples of `2`, all multiples of `3`, all multiples of `4` etc.  \n",
        "Ending with $\\sqrt{k}$.\n",
        "\n",
        "It does so by using the set substraction operation `A-=B`"
      ]
    },
    {
      "cell_type": "markdown",
      "metadata": {
        "id": "shi6n6ENjvCE"
      },
      "source": [
        "It is enough to multiples of numbers up to $\\sqrt{k}$ because any non-prime number has at least one factor that is smaller that $\\sqrt{k}$. \n",
        "\n",
        "* Prove by contradiction.\n"
      ]
    },
    {
      "cell_type": "code",
      "metadata": {
        "id": "tCiwPogtjvCF",
        "outputId": "0694164f-f906-4e33-9945-97b3afb3054f",
        "colab": {
          "base_uri": "https://localhost:8080/",
          "height": 187
        }
      },
      "source": [
        "from math import sqrt\n",
        "k=100\n",
        "I=set(range(2,k))\n",
        "print('start, remaining=%d'%len(I))\n",
        "\n",
        "for j in range(2,int(sqrt(k))+1):\n",
        "    I-=set(range(2*j,k,j))\n",
        "    print('iteration=%d, remaining=%d'%(j,len(I)))"
      ],
      "execution_count": 1,
      "outputs": [
        {
          "output_type": "stream",
          "text": [
            "start, remaining=98\n",
            "iteration=2, remaining=50\n",
            "iteration=3, remaining=34\n",
            "iteration=4, remaining=34\n",
            "iteration=5, remaining=28\n",
            "iteration=6, remaining=28\n",
            "iteration=7, remaining=25\n",
            "iteration=8, remaining=25\n",
            "iteration=9, remaining=25\n",
            "iteration=10, remaining=25\n"
          ],
          "name": "stdout"
        }
      ]
    },
    {
      "cell_type": "code",
      "metadata": {
        "id": "glS_XF-_jvCH",
        "outputId": "a99ded40-1484-4eec-a246-9fe01e72d7ce",
        "colab": {
          "base_uri": "https://localhost:8080/",
          "height": 35
        }
      },
      "source": [
        "','.join([str(i) for i in I])"
      ],
      "execution_count": 2,
      "outputs": [
        {
          "output_type": "execute_result",
          "data": {
            "application/vnd.google.colaboratory.intrinsic+json": {
              "type": "string"
            },
            "text/plain": [
              "'2,3,5,7,11,13,17,19,23,29,31,37,41,43,47,53,59,61,67,71,73,79,83,89,97'"
            ]
          },
          "metadata": {
            "tags": []
          },
          "execution_count": 2
        }
      ]
    }
  ]
}