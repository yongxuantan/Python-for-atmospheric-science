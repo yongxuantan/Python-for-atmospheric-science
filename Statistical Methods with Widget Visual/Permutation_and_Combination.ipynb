{
  "nbformat": 4,
  "nbformat_minor": 0,
  "metadata": {
    "colab": {
      "name": "Permutation and Combination.ipynb",
      "provenance": [],
      "collapsed_sections": [],
      "authorship_tag": "ABX9TyMGdq2gWk0HLgvoIxv04w1v",
      "include_colab_link": true
    },
    "kernelspec": {
      "name": "python3",
      "display_name": "Python 3"
    }
  },
  "cells": [
    {
      "cell_type": "markdown",
      "metadata": {
        "id": "view-in-github",
        "colab_type": "text"
      },
      "source": [
        "<a href=\"https://colab.research.google.com/github/yongxuantan/Python-for-atmospheric-science/blob/master/Statistical%20Methods%20with%20Widget%20Visual/Permutation_and_Combination.ipynb\" target=\"_parent\"><img src=\"https://colab.research.google.com/assets/colab-badge.svg\" alt=\"Open In Colab\"/></a>"
      ]
    },
    {
      "cell_type": "markdown",
      "metadata": {
        "id": "i_HnQYnuvNbV"
      },
      "source": [
        "# Permutations and Combinations"
      ]
    },
    {
      "cell_type": "markdown",
      "metadata": {
        "id": "FJXFVPfrvNbX"
      },
      "source": [
        "## 1. Permutations\n",
        "\n",
        "We find the number of $k$-permutations of $A$, first by determining the set of permutations and then by calculating $\\frac{|A|!}{(|A|-k)!}$. We will generate the possible permutation sets in two ways, by using the built-in functions in python and also the  **itertools** library that contains several combinatorial functions generating Cartesian products, permutations, and combinations. Please note that in the homework for this topic we ask you to recreate similar functions without using itertools.\n",
        "We first consider the special case of $k=|A|$, which is equivalent to finding the number of ways of ordering the elements of $A$. "
      ]
    },
    {
      "cell_type": "code",
      "metadata": {
        "id": "FkYCKaVmvNbZ"
      },
      "source": [
        "import itertools"
      ],
      "execution_count": 1,
      "outputs": []
    },
    {
      "cell_type": "markdown",
      "metadata": {
        "id": "mAtDRVmpvNbj"
      },
      "source": [
        "The following function generates the list of permutations for a given set. "
      ]
    },
    {
      "cell_type": "code",
      "metadata": {
        "id": "iunVWaIKvNbk"
      },
      "source": [
        "def permute(A):\n",
        "    if len(A)==1:\n",
        "        return [tuple(A)]\n",
        "    permutations = []\n",
        "    for x in A:\n",
        "        for y in permute(A-{x}):\n",
        "            permutations.append((x,)+y)\n",
        "    return permutations"
      ],
      "execution_count": 2,
      "outputs": []
    },
    {
      "cell_type": "code",
      "metadata": {
        "id": "9MpJcCZ3vNby"
      },
      "source": [
        "A = {1, 2, 3}"
      ],
      "execution_count": 3,
      "outputs": []
    },
    {
      "cell_type": "code",
      "metadata": {
        "id": "OYtAC7nLvNb5",
        "outputId": "d42a4f86-258b-4baf-cf07-e9a66d259f2b",
        "colab": {
          "base_uri": "https://localhost:8080/",
          "height": 51
        }
      },
      "source": [
        "# Using custom function\n",
        "permute_all = set(permute(A))\n",
        "print(\"Permutations of {}: {}\".format(A,permute_all))\n",
        "print(\"Number of permutations: \", len(permute_all))"
      ],
      "execution_count": 4,
      "outputs": [
        {
          "output_type": "stream",
          "text": [
            "Permutations of {1, 2, 3}: {(3, 1, 2), (1, 3, 2), (3, 2, 1), (2, 3, 1), (1, 2, 3), (2, 1, 3)}\n",
            "Number of permutations:  6\n"
          ],
          "name": "stdout"
        }
      ]
    },
    {
      "cell_type": "markdown",
      "metadata": {
        "id": "Vj6V8FKJvNcJ"
      },
      "source": [
        "We repeat the same operation but now using `itertools.permutations` function."
      ]
    },
    {
      "cell_type": "code",
      "metadata": {
        "id": "xYtm5tezvNcL",
        "outputId": "9faf623d-d7dc-4390-f150-e6d101237d8a",
        "colab": {
          "base_uri": "https://localhost:8080/",
          "height": 51
        }
      },
      "source": [
        "# Find all permutations of A and |A!|\n",
        "permute_all = set(itertools.permutations(A))\n",
        "print(\"Permutations of {}: {}\".format(A,permute_all))\n",
        "print(\"Number of permutations: \", len(permute_all))"
      ],
      "execution_count": 5,
      "outputs": [
        {
          "output_type": "stream",
          "text": [
            "Permutations of {1, 2, 3}: {(3, 1, 2), (1, 3, 2), (3, 2, 1), (2, 3, 1), (1, 2, 3), (2, 1, 3)}\n",
            "Number of permutations:  6\n"
          ],
          "name": "stdout"
        }
      ]
    },
    {
      "cell_type": "markdown",
      "metadata": {
        "id": "-m-YiILRvNcR"
      },
      "source": [
        "## 2. Factorials\n",
        "\n",
        "Of course, n! can also be computed directly. Here we do it in three ways.\n",
        "\n",
        "Using the factorial function in math."
      ]
    },
    {
      "cell_type": "code",
      "metadata": {
        "id": "pjKNRGLSvNcS",
        "outputId": "851036f4-b77b-4013-f34b-44f55165593a",
        "colab": {
          "base_uri": "https://localhost:8080/",
          "height": 34
        }
      },
      "source": [
        "# Print |A|! directly\n",
        "from math import factorial\n",
        "print(int(factorial(len(A))))"
      ],
      "execution_count": 6,
      "outputs": [
        {
          "output_type": "stream",
          "text": [
            "6\n"
          ],
          "name": "stdout"
        }
      ]
    },
    {
      "cell_type": "markdown",
      "metadata": {
        "id": "JtyQ3lvzvNcW"
      },
      "source": [
        "Or we can calculate ourslves. First iteratively."
      ]
    },
    {
      "cell_type": "code",
      "metadata": {
        "id": "XePoAk0HvNcX",
        "outputId": "e0f6ff18-18fa-4b77-f76e-eb4ade99541c",
        "colab": {
          "base_uri": "https://localhost:8080/",
          "height": 34
        }
      },
      "source": [
        "# Find |A|! directly\n",
        "def factorial_iterative(n):\n",
        "    fact = 1\n",
        "    for i in range(1,n+1):\n",
        "        fact *= i\n",
        "\n",
        "    return fact\n",
        "\n",
        "print(factorial_iterative(6))"
      ],
      "execution_count": 7,
      "outputs": [
        {
          "output_type": "stream",
          "text": [
            "720\n"
          ],
          "name": "stdout"
        }
      ]
    },
    {
      "cell_type": "markdown",
      "metadata": {
        "id": "CsKHIFWtvNcd"
      },
      "source": [
        "Or recursively."
      ]
    },
    {
      "cell_type": "code",
      "metadata": {
        "id": "9svaA2YJvNce",
        "outputId": "17d72925-9a42-4578-af5e-b981be24edfc",
        "colab": {
          "base_uri": "https://localhost:8080/",
          "height": 34
        }
      },
      "source": [
        "def factorial(n):\n",
        "    if n==0:\n",
        "        return 1\n",
        "    return 1 if n==1 else n*factorial(n-1)\n",
        "\n",
        "print(factorial(5))"
      ],
      "execution_count": 8,
      "outputs": [
        {
          "output_type": "stream",
          "text": [
            "120\n"
          ],
          "name": "stdout"
        }
      ]
    },
    {
      "cell_type": "markdown",
      "metadata": {
        "id": "FAtDrKmkvNci"
      },
      "source": [
        "## 3. Partial Permutations"
      ]
    },
    {
      "cell_type": "markdown",
      "metadata": {
        "id": "NIMhX934vNck"
      },
      "source": [
        "Let us make a few changes to the permute function we defined before to generate sets of partial permutations."
      ]
    },
    {
      "cell_type": "code",
      "metadata": {
        "id": "YYtrlTZtvNck"
      },
      "source": [
        "def partial_permute(A,k):\n",
        "    if k==1:\n",
        "        return [(x,) for x in A]\n",
        "    permutations = []\n",
        "    for x in A:\n",
        "        for y in partial_permute(A-{x},k=k-1):\n",
        "            permutations.append((x,)+y)\n",
        "    return permutations"
      ],
      "execution_count": 9,
      "outputs": []
    },
    {
      "cell_type": "code",
      "metadata": {
        "id": "LuVr5xiwvNcq"
      },
      "source": [
        "A = {1, 2, 3, 4}\n",
        "k = 3\n",
        "n = len(A)"
      ],
      "execution_count": 10,
      "outputs": []
    },
    {
      "cell_type": "code",
      "metadata": {
        "id": "dKhWrpnivNcx",
        "outputId": "95699fdc-7e98-4971-d085-ea7c07add41e",
        "colab": {
          "base_uri": "https://localhost:8080/",
          "height": 71
        }
      },
      "source": [
        "# Using the custom functions\n",
        "permute_k = partial_permute(A,k)\n",
        "print(\"{}-permutations of {}: {}\".format(k,A,permute_k))\n",
        "print(\"Size = \", \"{}!/({}-{})! = {}\".format(n,n,k,len(permute_k)))"
      ],
      "execution_count": 11,
      "outputs": [
        {
          "output_type": "stream",
          "text": [
            "3-permutations of {1, 2, 3, 4}: [(1, 2, 3), (1, 2, 4), (1, 3, 2), (1, 3, 4), (1, 4, 2), (1, 4, 3), (2, 1, 3), (2, 1, 4), (2, 3, 1), (2, 3, 4), (2, 4, 1), (2, 4, 3), (3, 1, 2), (3, 1, 4), (3, 2, 1), (3, 2, 4), (3, 4, 1), (3, 4, 2), (4, 1, 2), (4, 1, 3), (4, 2, 1), (4, 2, 3), (4, 3, 1), (4, 3, 2)]\n",
            "Size =  4!/(4-3)! = 24\n"
          ],
          "name": "stdout"
        }
      ]
    },
    {
      "cell_type": "markdown",
      "metadata": {
        "id": "Qp-oSgvQvNc1"
      },
      "source": [
        "We repeat the same using the `k` argument of the itertools.permutation function."
      ]
    },
    {
      "cell_type": "code",
      "metadata": {
        "id": "N0PkmE_MvNc2",
        "outputId": "63b98c7c-e039-4fb3-d948-16005e3f8482",
        "colab": {
          "base_uri": "https://localhost:8080/",
          "height": 71
        }
      },
      "source": [
        "# Print all the k-permutations of A\n",
        "permute_k = list(itertools.permutations(A, k))\n",
        "print(\"{}-permutations of {}: {}\".format(k,A,permute_k))\n",
        "print(\"Size =  = {}\".format(len(permute_k)))"
      ],
      "execution_count": 12,
      "outputs": [
        {
          "output_type": "stream",
          "text": [
            "3-permutations of {1, 2, 3, 4}: [(1, 2, 3), (1, 2, 4), (1, 3, 2), (1, 3, 4), (1, 4, 2), (1, 4, 3), (2, 1, 3), (2, 1, 4), (2, 3, 1), (2, 3, 4), (2, 4, 1), (2, 4, 3), (3, 1, 2), (3, 1, 4), (3, 2, 1), (3, 2, 4), (3, 4, 1), (3, 4, 2), (4, 1, 2), (4, 1, 3), (4, 2, 1), (4, 2, 3), (4, 3, 1), (4, 3, 2)]\n",
            "Size =  = 24\n"
          ],
          "name": "stdout"
        }
      ]
    },
    {
      "cell_type": "markdown",
      "metadata": {
        "id": "HCXkoPtJvNc4"
      },
      "source": [
        "Count using the formula introduced in lectures"
      ]
    },
    {
      "cell_type": "code",
      "metadata": {
        "id": "qhZmgI08vNc5",
        "outputId": "94ceb53b-3e58-41db-f871-81c572d98786",
        "colab": {
          "base_uri": "https://localhost:8080/",
          "height": 34
        }
      },
      "source": [
        "# Print |A|!/(|A|-k)! directly\n",
        "print(\"Size = {}!/({}-{})!={}\".format(n,n,k,int(factorial(len(A))/factorial(len(A)-k))))"
      ],
      "execution_count": 13,
      "outputs": [
        {
          "output_type": "stream",
          "text": [
            "Size = 4!/(4-3)!=24\n"
          ],
          "name": "stdout"
        }
      ]
    },
    {
      "cell_type": "markdown",
      "metadata": {
        "id": "va1y3Qm-vNdB"
      },
      "source": [
        "## 4. Combinations\n",
        "We find the number of $k$-combinations of $A$, first by determining the set of combinations and then by simply calculating ${|A|}\\choose{k}$. To find all possible combinations we add an `if` condition before we add to the list. "
      ]
    },
    {
      "cell_type": "code",
      "metadata": {
        "id": "oWsec3IkvNdC"
      },
      "source": [
        "def combinations(A,k):\n",
        "    if k==1:\n",
        "        return [{x} for x in A]\n",
        "    sets = []\n",
        "    for x in A:\n",
        "        for y in combinations(A-{x},k=k-1):\n",
        "            if {x}|y not in sets:\n",
        "                sets.append({x}|y)\n",
        "    return sets"
      ],
      "execution_count": 14,
      "outputs": []
    },
    {
      "cell_type": "code",
      "metadata": {
        "id": "OBeK3KJuvNdE"
      },
      "source": [
        "A = {1, 2, 3, 4, 5}\n",
        "k = 3"
      ],
      "execution_count": 15,
      "outputs": []
    },
    {
      "cell_type": "code",
      "metadata": {
        "id": "e-pT3MkbvNdI",
        "outputId": "39f580ec-38e3-4be1-83f5-51d5711244e9",
        "colab": {
          "base_uri": "https://localhost:8080/",
          "height": 71
        }
      },
      "source": [
        "# Using the custom function \n",
        "choose_k = combinations(A,k)\n",
        "print(\"{}-combinations of {}: {}\".format(k,A,choose_k))\n",
        "print(\"Number of combinations = {}\" .format(len(choose_k)  ))"
      ],
      "execution_count": 16,
      "outputs": [
        {
          "output_type": "stream",
          "text": [
            "3-combinations of {1, 2, 3, 4, 5}: [{1, 2, 3}, {1, 2, 4}, {1, 2, 5}, {1, 3, 4}, {1, 3, 5}, {1, 4, 5}, {2, 3, 4}, {2, 3, 5}, {2, 4, 5}, {3, 4, 5}]\n",
            "Number of combinations = 10\n"
          ],
          "name": "stdout"
        }
      ]
    },
    {
      "cell_type": "markdown",
      "metadata": {
        "id": "OmeSJ1zNvNdK"
      },
      "source": [
        "We can do the same using the `itertools.combinations` function also."
      ]
    },
    {
      "cell_type": "code",
      "metadata": {
        "scrolled": true,
        "id": "p34BcAuVvNdL",
        "outputId": "fa372c8f-24f8-4cba-9d49-b870767bc16c",
        "colab": {
          "base_uri": "https://localhost:8080/",
          "height": 71
        }
      },
      "source": [
        "# Print all the k-combinations of A\n",
        "choose_k = list(itertools.combinations(A,k))\n",
        "print(\"{}-combinations of {}: {}\".format(k,A,choose_k))\n",
        "print(\"Number of combinations = {}\".format(len(choose_k)  ))"
      ],
      "execution_count": 17,
      "outputs": [
        {
          "output_type": "stream",
          "text": [
            "3-combinations of {1, 2, 3, 4, 5}: [(1, 2, 3), (1, 2, 4), (1, 2, 5), (1, 3, 4), (1, 3, 5), (1, 4, 5), (2, 3, 4), (2, 3, 5), (2, 4, 5), (3, 4, 5)]\n",
            "Number of combinations = 10\n"
          ],
          "name": "stdout"
        }
      ]
    },
    {
      "cell_type": "code",
      "metadata": {
        "id": "ZpWpVA-CvNdQ",
        "outputId": "5f7db0bd-e099-46b0-efc0-c4f67a92678b",
        "colab": {
          "base_uri": "https://localhost:8080/",
          "height": 34
        }
      },
      "source": [
        "# Print |A|!/(k!(|A|-k)!) directly\n",
        "print(\"Size = %{}!/(%{}!(%{}-%{})!)={}\".format(n,k,n,k,int(factorial(len(A))/(factorial(k)*factorial(len(A)-k)))))"
      ],
      "execution_count": 18,
      "outputs": [
        {
          "output_type": "stream",
          "text": [
            "Size = %4!/(%3!(%4-%3)!)=10\n"
          ],
          "name": "stdout"
        }
      ]
    },
    {
      "cell_type": "markdown",
      "metadata": {
        "id": "7cOWUjlWvNdU"
      },
      "source": [
        "If you want to concatenate characters such as letters of the English alphabet and print them as strings, you can use the <i>join()</i> function."
      ]
    },
    {
      "cell_type": "code",
      "metadata": {
        "id": "ireeyVXLvNdU"
      },
      "source": [
        "A = {'a', 'b', 'c', 'q'}\n",
        "k = 3"
      ],
      "execution_count": 19,
      "outputs": []
    },
    {
      "cell_type": "code",
      "metadata": {
        "id": "vsKUkd0gvNdX",
        "outputId": "c876c9d2-a9c0-44f0-be67-d53b6d040b49",
        "colab": {
          "base_uri": "https://localhost:8080/",
          "height": 442
        }
      },
      "source": [
        "permute_k = partial_permute(A,k)\n",
        "permute_k = [''.join(x) for x in permute_k]\n",
        "print(\"{}-permutations of {}:\".format(k,A))\n",
        "for x in permute_k:\n",
        "    print(x)"
      ],
      "execution_count": 20,
      "outputs": [
        {
          "output_type": "stream",
          "text": [
            "3-permutations of {'b', 'q', 'a', 'c'}:\n",
            "bqa\n",
            "bqc\n",
            "baq\n",
            "bac\n",
            "bcq\n",
            "bca\n",
            "qba\n",
            "qbc\n",
            "qab\n",
            "qac\n",
            "qcb\n",
            "qca\n",
            "abq\n",
            "abc\n",
            "aqb\n",
            "aqc\n",
            "acb\n",
            "acq\n",
            "cbq\n",
            "cba\n",
            "cqb\n",
            "cqa\n",
            "cab\n",
            "caq\n"
          ],
          "name": "stdout"
        }
      ]
    },
    {
      "cell_type": "code",
      "metadata": {
        "id": "Fv6VxcwOvNdZ",
        "outputId": "48892992-8fa8-4b97-93f2-5570710cf2ea",
        "colab": {
          "base_uri": "https://localhost:8080/",
          "height": 34
        }
      },
      "source": [
        "# Print |A|!/(|A|-k)! directly\n",
        "print(int(factorial(len(A))/factorial(len(A)-k)))"
      ],
      "execution_count": 21,
      "outputs": [
        {
          "output_type": "stream",
          "text": [
            "24\n"
          ],
          "name": "stdout"
        }
      ]
    },
    {
      "cell_type": "code",
      "metadata": {
        "id": "yJTjoAd_vNdd"
      },
      "source": [
        "A = {'a', 'b', 'c', 'd'}\n",
        "k = 2"
      ],
      "execution_count": 22,
      "outputs": []
    },
    {
      "cell_type": "code",
      "metadata": {
        "scrolled": false,
        "id": "BU6jeXwIvNdj",
        "outputId": "5d3bafb8-0c05-4889-b968-596faa363b4b",
        "colab": {
          "base_uri": "https://localhost:8080/",
          "height": 170
        }
      },
      "source": [
        "# Print all the k-combinations of A\n",
        "choose_k = list(combinations(A,k))\n",
        "print(\"%i-combinations of %s:\\n\" %(k,A))\n",
        "for i in range(0, len(choose_k)):\n",
        "    print(''.join(choose_k[i]) )\n",
        "print;print(\"Size = %i!/(%i!(%i-%i)!) = \" %(n,k,n,k), len(choose_k))"
      ],
      "execution_count": 23,
      "outputs": [
        {
          "output_type": "stream",
          "text": [
            "2-combinations of {'b', 'd', 'a', 'c'}:\n",
            "\n",
            "bd\n",
            "ba\n",
            "bc\n",
            "da\n",
            "dc\n",
            "ac\n",
            "Size = 4!/(2!(4-2)!) =  6\n"
          ],
          "name": "stdout"
        }
      ]
    },
    {
      "cell_type": "code",
      "metadata": {
        "id": "vC0-_j9UvNdm",
        "outputId": "c3b2a95a-3010-4743-cb9c-39526d7d442e",
        "colab": {
          "base_uri": "https://localhost:8080/",
          "height": 34
        }
      },
      "source": [
        "# Print |A|!/(k!(|A|-k)!) directly\n",
        "print(int(factorial(len(A))/(factorial(k)*factorial(len(A)-k))))"
      ],
      "execution_count": 24,
      "outputs": [
        {
          "output_type": "stream",
          "text": [
            "6\n"
          ],
          "name": "stdout"
        }
      ]
    }
  ]
}