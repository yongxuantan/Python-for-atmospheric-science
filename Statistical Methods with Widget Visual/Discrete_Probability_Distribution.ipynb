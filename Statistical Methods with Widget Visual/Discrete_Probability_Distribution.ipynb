{
  "nbformat": 4,
  "nbformat_minor": 0,
  "metadata": {
    "colab": {
      "name": "Discrete Probability Distribution.ipynb",
      "provenance": [],
      "collapsed_sections": [],
      "authorship_tag": "ABX9TyMZ92yw5qDVQQpdrak33VA6",
      "include_colab_link": true
    },
    "kernelspec": {
      "name": "python3",
      "display_name": "Python 3"
    },
    "widgets": {
      "application/vnd.jupyter.widget-state+json": {
        "f961e840f8654fbc834eddc4a72be5a6": {
          "model_module": "@jupyter-widgets/controls",
          "model_name": "VBoxModel",
          "state": {
            "_view_name": "VBoxView",
            "_dom_classes": [
              "widget-interact"
            ],
            "_model_name": "VBoxModel",
            "_view_module": "@jupyter-widgets/controls",
            "_model_module_version": "1.5.0",
            "_view_count": null,
            "_view_module_version": "1.5.0",
            "box_style": "",
            "layout": "IPY_MODEL_a697991e54b44a5d9f5aadb746cb33d2",
            "_model_module": "@jupyter-widgets/controls",
            "children": [
              "IPY_MODEL_d7c25f0b8a8045e1b0d29c167a145a8d",
              "IPY_MODEL_7226220a22ea4f62a37403fff2f86539",
              "IPY_MODEL_da324d0f5f7c4eceba0463454c052caf",
              "IPY_MODEL_d01c4b4b127046478b629a22f14d8d2c",
              "IPY_MODEL_18519f200ddf45b8958102baa9a011a9"
            ]
          }
        },
        "a697991e54b44a5d9f5aadb746cb33d2": {
          "model_module": "@jupyter-widgets/base",
          "model_name": "LayoutModel",
          "state": {
            "_view_name": "LayoutView",
            "grid_template_rows": null,
            "right": null,
            "justify_content": null,
            "_view_module": "@jupyter-widgets/base",
            "overflow": null,
            "_model_module_version": "1.2.0",
            "_view_count": null,
            "flex_flow": null,
            "width": null,
            "min_width": null,
            "border": null,
            "align_items": null,
            "bottom": null,
            "_model_module": "@jupyter-widgets/base",
            "top": null,
            "grid_column": null,
            "overflow_y": null,
            "overflow_x": null,
            "grid_auto_flow": null,
            "grid_area": null,
            "grid_template_columns": null,
            "flex": null,
            "_model_name": "LayoutModel",
            "justify_items": null,
            "grid_row": null,
            "max_height": null,
            "align_content": null,
            "visibility": null,
            "align_self": null,
            "height": null,
            "min_height": null,
            "padding": null,
            "grid_auto_rows": null,
            "grid_gap": null,
            "max_width": null,
            "order": null,
            "_view_module_version": "1.2.0",
            "grid_template_areas": null,
            "object_position": null,
            "object_fit": null,
            "grid_auto_columns": null,
            "margin": null,
            "display": null,
            "left": null
          }
        },
        "d7c25f0b8a8045e1b0d29c167a145a8d": {
          "model_module": "@jupyter-widgets/controls",
          "model_name": "IntSliderModel",
          "state": {
            "_view_name": "IntSliderView",
            "style": "IPY_MODEL_43b9e7ae7c6340228186336b00c8e273",
            "_dom_classes": [],
            "description": "n",
            "step": 1,
            "_model_name": "IntSliderModel",
            "orientation": "horizontal",
            "max": 30,
            "_view_module": "@jupyter-widgets/controls",
            "_model_module_version": "1.5.0",
            "value": 15,
            "_view_count": null,
            "disabled": false,
            "_view_module_version": "1.5.0",
            "min": 0,
            "continuous_update": true,
            "readout_format": "d",
            "description_tooltip": null,
            "readout": true,
            "_model_module": "@jupyter-widgets/controls",
            "layout": "IPY_MODEL_2f4382e320714bbda98b6573cb8ac159"
          }
        },
        "7226220a22ea4f62a37403fff2f86539": {
          "model_module": "@jupyter-widgets/controls",
          "model_name": "FloatSliderModel",
          "state": {
            "_view_name": "FloatSliderView",
            "style": "IPY_MODEL_097b732614ab4a92b22ba28260c83507",
            "_dom_classes": [],
            "description": "p",
            "step": 0.1,
            "_model_name": "FloatSliderModel",
            "orientation": "horizontal",
            "max": 1,
            "_view_module": "@jupyter-widgets/controls",
            "_model_module_version": "1.5.0",
            "value": 0.5,
            "_view_count": null,
            "disabled": false,
            "_view_module_version": "1.5.0",
            "min": 0,
            "continuous_update": true,
            "readout_format": ".2f",
            "description_tooltip": null,
            "readout": true,
            "_model_module": "@jupyter-widgets/controls",
            "layout": "IPY_MODEL_a8b0c94b58ee47ae96310876b8d29cec"
          }
        },
        "da324d0f5f7c4eceba0463454c052caf": {
          "model_module": "@jupyter-widgets/controls",
          "model_name": "IntSliderModel",
          "state": {
            "_view_name": "IntSliderView",
            "style": "IPY_MODEL_31c9d2b4c3ef423190e19a58c18da464",
            "_dom_classes": [],
            "description": "samples",
            "step": 1,
            "_model_name": "IntSliderModel",
            "orientation": "horizontal",
            "max": 1000,
            "_view_module": "@jupyter-widgets/controls",
            "_model_module_version": "1.5.0",
            "value": 100,
            "_view_count": null,
            "disabled": false,
            "_view_module_version": "1.5.0",
            "min": 1,
            "continuous_update": true,
            "readout_format": "d",
            "description_tooltip": null,
            "readout": true,
            "_model_module": "@jupyter-widgets/controls",
            "layout": "IPY_MODEL_d0d3754275144c54b7da5ba57274beda"
          }
        },
        "d01c4b4b127046478b629a22f14d8d2c": {
          "model_module": "@jupyter-widgets/controls",
          "model_name": "CheckboxModel",
          "state": {
            "_view_name": "CheckboxView",
            "style": "IPY_MODEL_ee2afc517dda41eaa7a8033e53dba41c",
            "_dom_classes": [],
            "description": "histogram",
            "_model_name": "CheckboxModel",
            "_view_module": "@jupyter-widgets/controls",
            "_model_module_version": "1.5.0",
            "value": false,
            "_view_count": null,
            "disabled": false,
            "_view_module_version": "1.5.0",
            "indent": true,
            "description_tooltip": null,
            "_model_module": "@jupyter-widgets/controls",
            "layout": "IPY_MODEL_182d7065f4bd49ee87aaed3eafbd1225"
          }
        },
        "18519f200ddf45b8958102baa9a011a9": {
          "model_module": "@jupyter-widgets/output",
          "model_name": "OutputModel",
          "state": {
            "_view_name": "OutputView",
            "msg_id": "",
            "_dom_classes": [],
            "_model_name": "OutputModel",
            "outputs": [
              {
                "output_type": "display_data",
                "metadata": {
                  "tags": [],
                  "needs_background": "light"
                },
                "image/png": "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\n",
                "text/plain": "<Figure size 432x288 with 1 Axes>"
              }
            ],
            "_view_module": "@jupyter-widgets/output",
            "_model_module_version": "1.0.0",
            "_view_count": null,
            "_view_module_version": "1.0.0",
            "layout": "IPY_MODEL_ca0d4eb0a30f4a689feedbefbabe1bf6",
            "_model_module": "@jupyter-widgets/output"
          }
        },
        "43b9e7ae7c6340228186336b00c8e273": {
          "model_module": "@jupyter-widgets/controls",
          "model_name": "SliderStyleModel",
          "state": {
            "_view_name": "StyleView",
            "handle_color": null,
            "_model_name": "SliderStyleModel",
            "description_width": "",
            "_view_module": "@jupyter-widgets/base",
            "_model_module_version": "1.5.0",
            "_view_count": null,
            "_view_module_version": "1.2.0",
            "_model_module": "@jupyter-widgets/controls"
          }
        },
        "2f4382e320714bbda98b6573cb8ac159": {
          "model_module": "@jupyter-widgets/base",
          "model_name": "LayoutModel",
          "state": {
            "_view_name": "LayoutView",
            "grid_template_rows": null,
            "right": null,
            "justify_content": null,
            "_view_module": "@jupyter-widgets/base",
            "overflow": null,
            "_model_module_version": "1.2.0",
            "_view_count": null,
            "flex_flow": null,
            "width": null,
            "min_width": null,
            "border": null,
            "align_items": null,
            "bottom": null,
            "_model_module": "@jupyter-widgets/base",
            "top": null,
            "grid_column": null,
            "overflow_y": null,
            "overflow_x": null,
            "grid_auto_flow": null,
            "grid_area": null,
            "grid_template_columns": null,
            "flex": null,
            "_model_name": "LayoutModel",
            "justify_items": null,
            "grid_row": null,
            "max_height": null,
            "align_content": null,
            "visibility": null,
            "align_self": null,
            "height": null,
            "min_height": null,
            "padding": null,
            "grid_auto_rows": null,
            "grid_gap": null,
            "max_width": null,
            "order": null,
            "_view_module_version": "1.2.0",
            "grid_template_areas": null,
            "object_position": null,
            "object_fit": null,
            "grid_auto_columns": null,
            "margin": null,
            "display": null,
            "left": null
          }
        },
        "097b732614ab4a92b22ba28260c83507": {
          "model_module": "@jupyter-widgets/controls",
          "model_name": "SliderStyleModel",
          "state": {
            "_view_name": "StyleView",
            "handle_color": null,
            "_model_name": "SliderStyleModel",
            "description_width": "",
            "_view_module": "@jupyter-widgets/base",
            "_model_module_version": "1.5.0",
            "_view_count": null,
            "_view_module_version": "1.2.0",
            "_model_module": "@jupyter-widgets/controls"
          }
        },
        "a8b0c94b58ee47ae96310876b8d29cec": {
          "model_module": "@jupyter-widgets/base",
          "model_name": "LayoutModel",
          "state": {
            "_view_name": "LayoutView",
            "grid_template_rows": null,
            "right": null,
            "justify_content": null,
            "_view_module": "@jupyter-widgets/base",
            "overflow": null,
            "_model_module_version": "1.2.0",
            "_view_count": null,
            "flex_flow": null,
            "width": null,
            "min_width": null,
            "border": null,
            "align_items": null,
            "bottom": null,
            "_model_module": "@jupyter-widgets/base",
            "top": null,
            "grid_column": null,
            "overflow_y": null,
            "overflow_x": null,
            "grid_auto_flow": null,
            "grid_area": null,
            "grid_template_columns": null,
            "flex": null,
            "_model_name": "LayoutModel",
            "justify_items": null,
            "grid_row": null,
            "max_height": null,
            "align_content": null,
            "visibility": null,
            "align_self": null,
            "height": null,
            "min_height": null,
            "padding": null,
            "grid_auto_rows": null,
            "grid_gap": null,
            "max_width": null,
            "order": null,
            "_view_module_version": "1.2.0",
            "grid_template_areas": null,
            "object_position": null,
            "object_fit": null,
            "grid_auto_columns": null,
            "margin": null,
            "display": null,
            "left": null
          }
        },
        "31c9d2b4c3ef423190e19a58c18da464": {
          "model_module": "@jupyter-widgets/controls",
          "model_name": "SliderStyleModel",
          "state": {
            "_view_name": "StyleView",
            "handle_color": null,
            "_model_name": "SliderStyleModel",
            "description_width": "",
            "_view_module": "@jupyter-widgets/base",
            "_model_module_version": "1.5.0",
            "_view_count": null,
            "_view_module_version": "1.2.0",
            "_model_module": "@jupyter-widgets/controls"
          }
        },
        "d0d3754275144c54b7da5ba57274beda": {
          "model_module": "@jupyter-widgets/base",
          "model_name": "LayoutModel",
          "state": {
            "_view_name": "LayoutView",
            "grid_template_rows": null,
            "right": null,
            "justify_content": null,
            "_view_module": "@jupyter-widgets/base",
            "overflow": null,
            "_model_module_version": "1.2.0",
            "_view_count": null,
            "flex_flow": null,
            "width": null,
            "min_width": null,
            "border": null,
            "align_items": null,
            "bottom": null,
            "_model_module": "@jupyter-widgets/base",
            "top": null,
            "grid_column": null,
            "overflow_y": null,
            "overflow_x": null,
            "grid_auto_flow": null,
            "grid_area": null,
            "grid_template_columns": null,
            "flex": null,
            "_model_name": "LayoutModel",
            "justify_items": null,
            "grid_row": null,
            "max_height": null,
            "align_content": null,
            "visibility": null,
            "align_self": null,
            "height": null,
            "min_height": null,
            "padding": null,
            "grid_auto_rows": null,
            "grid_gap": null,
            "max_width": null,
            "order": null,
            "_view_module_version": "1.2.0",
            "grid_template_areas": null,
            "object_position": null,
            "object_fit": null,
            "grid_auto_columns": null,
            "margin": null,
            "display": null,
            "left": null
          }
        },
        "ee2afc517dda41eaa7a8033e53dba41c": {
          "model_module": "@jupyter-widgets/controls",
          "model_name": "DescriptionStyleModel",
          "state": {
            "_view_name": "StyleView",
            "_model_name": "DescriptionStyleModel",
            "description_width": "",
            "_view_module": "@jupyter-widgets/base",
            "_model_module_version": "1.5.0",
            "_view_count": null,
            "_view_module_version": "1.2.0",
            "_model_module": "@jupyter-widgets/controls"
          }
        },
        "182d7065f4bd49ee87aaed3eafbd1225": {
          "model_module": "@jupyter-widgets/base",
          "model_name": "LayoutModel",
          "state": {
            "_view_name": "LayoutView",
            "grid_template_rows": null,
            "right": null,
            "justify_content": null,
            "_view_module": "@jupyter-widgets/base",
            "overflow": null,
            "_model_module_version": "1.2.0",
            "_view_count": null,
            "flex_flow": null,
            "width": null,
            "min_width": null,
            "border": null,
            "align_items": null,
            "bottom": null,
            "_model_module": "@jupyter-widgets/base",
            "top": null,
            "grid_column": null,
            "overflow_y": null,
            "overflow_x": null,
            "grid_auto_flow": null,
            "grid_area": null,
            "grid_template_columns": null,
            "flex": null,
            "_model_name": "LayoutModel",
            "justify_items": null,
            "grid_row": null,
            "max_height": null,
            "align_content": null,
            "visibility": null,
            "align_self": null,
            "height": null,
            "min_height": null,
            "padding": null,
            "grid_auto_rows": null,
            "grid_gap": null,
            "max_width": null,
            "order": null,
            "_view_module_version": "1.2.0",
            "grid_template_areas": null,
            "object_position": null,
            "object_fit": null,
            "grid_auto_columns": null,
            "margin": null,
            "display": null,
            "left": null
          }
        },
        "ca0d4eb0a30f4a689feedbefbabe1bf6": {
          "model_module": "@jupyter-widgets/base",
          "model_name": "LayoutModel",
          "state": {
            "_view_name": "LayoutView",
            "grid_template_rows": null,
            "right": null,
            "justify_content": null,
            "_view_module": "@jupyter-widgets/base",
            "overflow": null,
            "_model_module_version": "1.2.0",
            "_view_count": null,
            "flex_flow": null,
            "width": null,
            "min_width": null,
            "border": null,
            "align_items": null,
            "bottom": null,
            "_model_module": "@jupyter-widgets/base",
            "top": null,
            "grid_column": null,
            "overflow_y": null,
            "overflow_x": null,
            "grid_auto_flow": null,
            "grid_area": null,
            "grid_template_columns": null,
            "flex": null,
            "_model_name": "LayoutModel",
            "justify_items": null,
            "grid_row": null,
            "max_height": null,
            "align_content": null,
            "visibility": null,
            "align_self": null,
            "height": null,
            "min_height": null,
            "padding": null,
            "grid_auto_rows": null,
            "grid_gap": null,
            "max_width": null,
            "order": null,
            "_view_module_version": "1.2.0",
            "grid_template_areas": null,
            "object_position": null,
            "object_fit": null,
            "grid_auto_columns": null,
            "margin": null,
            "display": null,
            "left": null
          }
        },
        "86104c3c99c14a18977fbae8ca76c354": {
          "model_module": "@jupyter-widgets/controls",
          "model_name": "VBoxModel",
          "state": {
            "_view_name": "VBoxView",
            "_dom_classes": [
              "widget-interact"
            ],
            "_model_name": "VBoxModel",
            "_view_module": "@jupyter-widgets/controls",
            "_model_module_version": "1.5.0",
            "_view_count": null,
            "_view_module_version": "1.5.0",
            "box_style": "",
            "layout": "IPY_MODEL_b661c67639614ce7bc28b6ec3c12e54b",
            "_model_module": "@jupyter-widgets/controls",
            "children": [
              "IPY_MODEL_10039ad4126146a78b76e6de541c7f79",
              "IPY_MODEL_1ffc46fa10184f109860e163c884eb76",
              "IPY_MODEL_77fb3cefed4f44b6954d09f270c220fd",
              "IPY_MODEL_818236b5d1214438af33c9a595951d84",
              "IPY_MODEL_5abffabb39754069a55c474d57ccea3d"
            ]
          }
        },
        "b661c67639614ce7bc28b6ec3c12e54b": {
          "model_module": "@jupyter-widgets/base",
          "model_name": "LayoutModel",
          "state": {
            "_view_name": "LayoutView",
            "grid_template_rows": null,
            "right": null,
            "justify_content": null,
            "_view_module": "@jupyter-widgets/base",
            "overflow": null,
            "_model_module_version": "1.2.0",
            "_view_count": null,
            "flex_flow": null,
            "width": null,
            "min_width": null,
            "border": null,
            "align_items": null,
            "bottom": null,
            "_model_module": "@jupyter-widgets/base",
            "top": null,
            "grid_column": null,
            "overflow_y": null,
            "overflow_x": null,
            "grid_auto_flow": null,
            "grid_area": null,
            "grid_template_columns": null,
            "flex": null,
            "_model_name": "LayoutModel",
            "justify_items": null,
            "grid_row": null,
            "max_height": null,
            "align_content": null,
            "visibility": null,
            "align_self": null,
            "height": null,
            "min_height": null,
            "padding": null,
            "grid_auto_rows": null,
            "grid_gap": null,
            "max_width": null,
            "order": null,
            "_view_module_version": "1.2.0",
            "grid_template_areas": null,
            "object_position": null,
            "object_fit": null,
            "grid_auto_columns": null,
            "margin": null,
            "display": null,
            "left": null
          }
        },
        "10039ad4126146a78b76e6de541c7f79": {
          "model_module": "@jupyter-widgets/controls",
          "model_name": "IntSliderModel",
          "state": {
            "_view_name": "IntSliderView",
            "style": "IPY_MODEL_044dfe145b924d62b1fdc4439a5cde46",
            "_dom_classes": [],
            "description": "n",
            "step": 1,
            "_model_name": "IntSliderModel",
            "orientation": "horizontal",
            "max": 50,
            "_view_module": "@jupyter-widgets/controls",
            "_model_module_version": "1.5.0",
            "value": 25,
            "_view_count": null,
            "disabled": false,
            "_view_module_version": "1.5.0",
            "min": 0,
            "continuous_update": true,
            "readout_format": "d",
            "description_tooltip": null,
            "readout": true,
            "_model_module": "@jupyter-widgets/controls",
            "layout": "IPY_MODEL_300b800579914a7498a12e915899cc61"
          }
        },
        "1ffc46fa10184f109860e163c884eb76": {
          "model_module": "@jupyter-widgets/controls",
          "model_name": "FloatSliderModel",
          "state": {
            "_view_name": "FloatSliderView",
            "style": "IPY_MODEL_e2813803e39a4b108f29afa5d085df80",
            "_dom_classes": [],
            "description": "λ",
            "step": 0.1,
            "_model_name": "FloatSliderModel",
            "orientation": "horizontal",
            "max": 30,
            "_view_module": "@jupyter-widgets/controls",
            "_model_module_version": "1.5.0",
            "value": 15,
            "_view_count": null,
            "disabled": false,
            "_view_module_version": "1.5.0",
            "min": 0,
            "continuous_update": true,
            "readout_format": ".2f",
            "description_tooltip": null,
            "readout": true,
            "_model_module": "@jupyter-widgets/controls",
            "layout": "IPY_MODEL_e0f20a3ff9b6496b95a35570942b37e0"
          }
        },
        "77fb3cefed4f44b6954d09f270c220fd": {
          "model_module": "@jupyter-widgets/controls",
          "model_name": "IntSliderModel",
          "state": {
            "_view_name": "IntSliderView",
            "style": "IPY_MODEL_cb024065bb37445da4923665835d7900",
            "_dom_classes": [],
            "description": "samples",
            "step": 1,
            "_model_name": "IntSliderModel",
            "orientation": "horizontal",
            "max": 1000,
            "_view_module": "@jupyter-widgets/controls",
            "_model_module_version": "1.5.0",
            "value": 100,
            "_view_count": null,
            "disabled": false,
            "_view_module_version": "1.5.0",
            "min": 1,
            "continuous_update": true,
            "readout_format": "d",
            "description_tooltip": null,
            "readout": true,
            "_model_module": "@jupyter-widgets/controls",
            "layout": "IPY_MODEL_03bec0f5411a4d6eb5d6e2275adb79ae"
          }
        },
        "818236b5d1214438af33c9a595951d84": {
          "model_module": "@jupyter-widgets/controls",
          "model_name": "CheckboxModel",
          "state": {
            "_view_name": "CheckboxView",
            "style": "IPY_MODEL_35061a28739642f2a3608375f470be7c",
            "_dom_classes": [],
            "description": "histogram",
            "_model_name": "CheckboxModel",
            "_view_module": "@jupyter-widgets/controls",
            "_model_module_version": "1.5.0",
            "value": false,
            "_view_count": null,
            "disabled": false,
            "_view_module_version": "1.5.0",
            "indent": true,
            "description_tooltip": null,
            "_model_module": "@jupyter-widgets/controls",
            "layout": "IPY_MODEL_919d637979bf482d9126851f7653a122"
          }
        },
        "5abffabb39754069a55c474d57ccea3d": {
          "model_module": "@jupyter-widgets/output",
          "model_name": "OutputModel",
          "state": {
            "_view_name": "OutputView",
            "msg_id": "",
            "_dom_classes": [],
            "_model_name": "OutputModel",
            "outputs": [
              {
                "output_type": "display_data",
                "metadata": {
                  "tags": [],
                  "needs_background": "light"
                },
                "image/png": "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\n",
                "text/plain": "<Figure size 432x288 with 1 Axes>"
              }
            ],
            "_view_module": "@jupyter-widgets/output",
            "_model_module_version": "1.0.0",
            "_view_count": null,
            "_view_module_version": "1.0.0",
            "layout": "IPY_MODEL_12720f014fef4ce281ab6482ec1a4fde",
            "_model_module": "@jupyter-widgets/output"
          }
        },
        "044dfe145b924d62b1fdc4439a5cde46": {
          "model_module": "@jupyter-widgets/controls",
          "model_name": "SliderStyleModel",
          "state": {
            "_view_name": "StyleView",
            "handle_color": null,
            "_model_name": "SliderStyleModel",
            "description_width": "",
            "_view_module": "@jupyter-widgets/base",
            "_model_module_version": "1.5.0",
            "_view_count": null,
            "_view_module_version": "1.2.0",
            "_model_module": "@jupyter-widgets/controls"
          }
        },
        "300b800579914a7498a12e915899cc61": {
          "model_module": "@jupyter-widgets/base",
          "model_name": "LayoutModel",
          "state": {
            "_view_name": "LayoutView",
            "grid_template_rows": null,
            "right": null,
            "justify_content": null,
            "_view_module": "@jupyter-widgets/base",
            "overflow": null,
            "_model_module_version": "1.2.0",
            "_view_count": null,
            "flex_flow": null,
            "width": null,
            "min_width": null,
            "border": null,
            "align_items": null,
            "bottom": null,
            "_model_module": "@jupyter-widgets/base",
            "top": null,
            "grid_column": null,
            "overflow_y": null,
            "overflow_x": null,
            "grid_auto_flow": null,
            "grid_area": null,
            "grid_template_columns": null,
            "flex": null,
            "_model_name": "LayoutModel",
            "justify_items": null,
            "grid_row": null,
            "max_height": null,
            "align_content": null,
            "visibility": null,
            "align_self": null,
            "height": null,
            "min_height": null,
            "padding": null,
            "grid_auto_rows": null,
            "grid_gap": null,
            "max_width": null,
            "order": null,
            "_view_module_version": "1.2.0",
            "grid_template_areas": null,
            "object_position": null,
            "object_fit": null,
            "grid_auto_columns": null,
            "margin": null,
            "display": null,
            "left": null
          }
        },
        "e2813803e39a4b108f29afa5d085df80": {
          "model_module": "@jupyter-widgets/controls",
          "model_name": "SliderStyleModel",
          "state": {
            "_view_name": "StyleView",
            "handle_color": null,
            "_model_name": "SliderStyleModel",
            "description_width": "",
            "_view_module": "@jupyter-widgets/base",
            "_model_module_version": "1.5.0",
            "_view_count": null,
            "_view_module_version": "1.2.0",
            "_model_module": "@jupyter-widgets/controls"
          }
        },
        "e0f20a3ff9b6496b95a35570942b37e0": {
          "model_module": "@jupyter-widgets/base",
          "model_name": "LayoutModel",
          "state": {
            "_view_name": "LayoutView",
            "grid_template_rows": null,
            "right": null,
            "justify_content": null,
            "_view_module": "@jupyter-widgets/base",
            "overflow": null,
            "_model_module_version": "1.2.0",
            "_view_count": null,
            "flex_flow": null,
            "width": null,
            "min_width": null,
            "border": null,
            "align_items": null,
            "bottom": null,
            "_model_module": "@jupyter-widgets/base",
            "top": null,
            "grid_column": null,
            "overflow_y": null,
            "overflow_x": null,
            "grid_auto_flow": null,
            "grid_area": null,
            "grid_template_columns": null,
            "flex": null,
            "_model_name": "LayoutModel",
            "justify_items": null,
            "grid_row": null,
            "max_height": null,
            "align_content": null,
            "visibility": null,
            "align_self": null,
            "height": null,
            "min_height": null,
            "padding": null,
            "grid_auto_rows": null,
            "grid_gap": null,
            "max_width": null,
            "order": null,
            "_view_module_version": "1.2.0",
            "grid_template_areas": null,
            "object_position": null,
            "object_fit": null,
            "grid_auto_columns": null,
            "margin": null,
            "display": null,
            "left": null
          }
        },
        "cb024065bb37445da4923665835d7900": {
          "model_module": "@jupyter-widgets/controls",
          "model_name": "SliderStyleModel",
          "state": {
            "_view_name": "StyleView",
            "handle_color": null,
            "_model_name": "SliderStyleModel",
            "description_width": "",
            "_view_module": "@jupyter-widgets/base",
            "_model_module_version": "1.5.0",
            "_view_count": null,
            "_view_module_version": "1.2.0",
            "_model_module": "@jupyter-widgets/controls"
          }
        },
        "03bec0f5411a4d6eb5d6e2275adb79ae": {
          "model_module": "@jupyter-widgets/base",
          "model_name": "LayoutModel",
          "state": {
            "_view_name": "LayoutView",
            "grid_template_rows": null,
            "right": null,
            "justify_content": null,
            "_view_module": "@jupyter-widgets/base",
            "overflow": null,
            "_model_module_version": "1.2.0",
            "_view_count": null,
            "flex_flow": null,
            "width": null,
            "min_width": null,
            "border": null,
            "align_items": null,
            "bottom": null,
            "_model_module": "@jupyter-widgets/base",
            "top": null,
            "grid_column": null,
            "overflow_y": null,
            "overflow_x": null,
            "grid_auto_flow": null,
            "grid_area": null,
            "grid_template_columns": null,
            "flex": null,
            "_model_name": "LayoutModel",
            "justify_items": null,
            "grid_row": null,
            "max_height": null,
            "align_content": null,
            "visibility": null,
            "align_self": null,
            "height": null,
            "min_height": null,
            "padding": null,
            "grid_auto_rows": null,
            "grid_gap": null,
            "max_width": null,
            "order": null,
            "_view_module_version": "1.2.0",
            "grid_template_areas": null,
            "object_position": null,
            "object_fit": null,
            "grid_auto_columns": null,
            "margin": null,
            "display": null,
            "left": null
          }
        },
        "35061a28739642f2a3608375f470be7c": {
          "model_module": "@jupyter-widgets/controls",
          "model_name": "DescriptionStyleModel",
          "state": {
            "_view_name": "StyleView",
            "_model_name": "DescriptionStyleModel",
            "description_width": "",
            "_view_module": "@jupyter-widgets/base",
            "_model_module_version": "1.5.0",
            "_view_count": null,
            "_view_module_version": "1.2.0",
            "_model_module": "@jupyter-widgets/controls"
          }
        },
        "919d637979bf482d9126851f7653a122": {
          "model_module": "@jupyter-widgets/base",
          "model_name": "LayoutModel",
          "state": {
            "_view_name": "LayoutView",
            "grid_template_rows": null,
            "right": null,
            "justify_content": null,
            "_view_module": "@jupyter-widgets/base",
            "overflow": null,
            "_model_module_version": "1.2.0",
            "_view_count": null,
            "flex_flow": null,
            "width": null,
            "min_width": null,
            "border": null,
            "align_items": null,
            "bottom": null,
            "_model_module": "@jupyter-widgets/base",
            "top": null,
            "grid_column": null,
            "overflow_y": null,
            "overflow_x": null,
            "grid_auto_flow": null,
            "grid_area": null,
            "grid_template_columns": null,
            "flex": null,
            "_model_name": "LayoutModel",
            "justify_items": null,
            "grid_row": null,
            "max_height": null,
            "align_content": null,
            "visibility": null,
            "align_self": null,
            "height": null,
            "min_height": null,
            "padding": null,
            "grid_auto_rows": null,
            "grid_gap": null,
            "max_width": null,
            "order": null,
            "_view_module_version": "1.2.0",
            "grid_template_areas": null,
            "object_position": null,
            "object_fit": null,
            "grid_auto_columns": null,
            "margin": null,
            "display": null,
            "left": null
          }
        },
        "12720f014fef4ce281ab6482ec1a4fde": {
          "model_module": "@jupyter-widgets/base",
          "model_name": "LayoutModel",
          "state": {
            "_view_name": "LayoutView",
            "grid_template_rows": null,
            "right": null,
            "justify_content": null,
            "_view_module": "@jupyter-widgets/base",
            "overflow": null,
            "_model_module_version": "1.2.0",
            "_view_count": null,
            "flex_flow": null,
            "width": null,
            "min_width": null,
            "border": null,
            "align_items": null,
            "bottom": null,
            "_model_module": "@jupyter-widgets/base",
            "top": null,
            "grid_column": null,
            "overflow_y": null,
            "overflow_x": null,
            "grid_auto_flow": null,
            "grid_area": null,
            "grid_template_columns": null,
            "flex": null,
            "_model_name": "LayoutModel",
            "justify_items": null,
            "grid_row": null,
            "max_height": null,
            "align_content": null,
            "visibility": null,
            "align_self": null,
            "height": null,
            "min_height": null,
            "padding": null,
            "grid_auto_rows": null,
            "grid_gap": null,
            "max_width": null,
            "order": null,
            "_view_module_version": "1.2.0",
            "grid_template_areas": null,
            "object_position": null,
            "object_fit": null,
            "grid_auto_columns": null,
            "margin": null,
            "display": null,
            "left": null
          }
        },
        "175c44e729cf419190884f3004bb20fd": {
          "model_module": "@jupyter-widgets/controls",
          "model_name": "VBoxModel",
          "state": {
            "_view_name": "VBoxView",
            "_dom_classes": [
              "widget-interact"
            ],
            "_model_name": "VBoxModel",
            "_view_module": "@jupyter-widgets/controls",
            "_model_module_version": "1.5.0",
            "_view_count": null,
            "_view_module_version": "1.5.0",
            "box_style": "",
            "layout": "IPY_MODEL_e8820ab698be4b9898ea3a3f1a905b77",
            "_model_module": "@jupyter-widgets/controls",
            "children": [
              "IPY_MODEL_e918d7fd4e4948d99e045ce7937e80f8",
              "IPY_MODEL_76da72485141470cb36b887d428e3e21",
              "IPY_MODEL_25aaa454d83c41dd8204ca90a6c8739b"
            ]
          }
        },
        "e8820ab698be4b9898ea3a3f1a905b77": {
          "model_module": "@jupyter-widgets/base",
          "model_name": "LayoutModel",
          "state": {
            "_view_name": "LayoutView",
            "grid_template_rows": null,
            "right": null,
            "justify_content": null,
            "_view_module": "@jupyter-widgets/base",
            "overflow": null,
            "_model_module_version": "1.2.0",
            "_view_count": null,
            "flex_flow": null,
            "width": null,
            "min_width": null,
            "border": null,
            "align_items": null,
            "bottom": null,
            "_model_module": "@jupyter-widgets/base",
            "top": null,
            "grid_column": null,
            "overflow_y": null,
            "overflow_x": null,
            "grid_auto_flow": null,
            "grid_area": null,
            "grid_template_columns": null,
            "flex": null,
            "_model_name": "LayoutModel",
            "justify_items": null,
            "grid_row": null,
            "max_height": null,
            "align_content": null,
            "visibility": null,
            "align_self": null,
            "height": null,
            "min_height": null,
            "padding": null,
            "grid_auto_rows": null,
            "grid_gap": null,
            "max_width": null,
            "order": null,
            "_view_module_version": "1.2.0",
            "grid_template_areas": null,
            "object_position": null,
            "object_fit": null,
            "grid_auto_columns": null,
            "margin": null,
            "display": null,
            "left": null
          }
        },
        "e918d7fd4e4948d99e045ce7937e80f8": {
          "model_module": "@jupyter-widgets/controls",
          "model_name": "IntSliderModel",
          "state": {
            "_view_name": "IntSliderView",
            "style": "IPY_MODEL_139f56bf780341faa449b7e93605327a",
            "_dom_classes": [],
            "description": "n",
            "step": 1,
            "_model_name": "IntSliderModel",
            "orientation": "horizontal",
            "max": 1000,
            "_view_module": "@jupyter-widgets/controls",
            "_model_module_version": "1.5.0",
            "value": 501,
            "_view_count": null,
            "disabled": false,
            "_view_module_version": "1.5.0",
            "min": 2,
            "continuous_update": true,
            "readout_format": "d",
            "description_tooltip": null,
            "readout": true,
            "_model_module": "@jupyter-widgets/controls",
            "layout": "IPY_MODEL_bb5ae8808b144e889aa39be559852aa8"
          }
        },
        "76da72485141470cb36b887d428e3e21": {
          "model_module": "@jupyter-widgets/controls",
          "model_name": "FloatSliderModel",
          "state": {
            "_view_name": "FloatSliderView",
            "style": "IPY_MODEL_2f9afefc85dd4c28978188e8d43a11c1",
            "_dom_classes": [],
            "description": "p",
            "step": 0.001,
            "_model_name": "FloatSliderModel",
            "orientation": "horizontal",
            "max": 0.2,
            "_view_module": "@jupyter-widgets/controls",
            "_model_module_version": "1.5.0",
            "value": 0.1,
            "_view_count": null,
            "disabled": false,
            "_view_module_version": "1.5.0",
            "min": 0,
            "continuous_update": true,
            "readout_format": ".2f",
            "description_tooltip": null,
            "readout": true,
            "_model_module": "@jupyter-widgets/controls",
            "layout": "IPY_MODEL_d057c04bde8845df99e4125b7e187423"
          }
        },
        "25aaa454d83c41dd8204ca90a6c8739b": {
          "model_module": "@jupyter-widgets/output",
          "model_name": "OutputModel",
          "state": {
            "_view_name": "OutputView",
            "msg_id": "",
            "_dom_classes": [],
            "_model_name": "OutputModel",
            "outputs": [
              {
                "output_type": "display_data",
                "metadata": {
                  "tags": [],
                  "needs_background": "light"
                },
                "image/png": "iVBORw0KGgoAAAANSUhEUgAAAaUAAAEwCAYAAAAXeW5eAAAABHNCSVQICAgIfAhkiAAAAAlwSFlzAAALEgAACxIB0t1+/AAAADh0RVh0U29mdHdhcmUAbWF0cGxvdGxpYiB2ZXJzaW9uMy4yLjIsIGh0dHA6Ly9tYXRwbG90bGliLm9yZy+WH4yJAAAgAElEQVR4nOydeZgU1bn/P+8wW88+7JvAuICCBJHlghpGcL0qaH5xi6jgFhONiYlibtQraIiYqCQqMYtRUPFecYmK3IjRKBgNSFBwARdQUJFNZmVmevbz+6Oqu6p7umd6Znqmmub9PE893X3qPVXnVJ2ub51z3nOOGGNQFEVRlEQgxesEKIqiKEoAFSVFURQlYVBRUhRFURIGFSVFURQlYVBRUhRFURIGFSVFURQlYVBRSnBEZImIGBEZ5nValK5FRGbb93q212mJBTutq7xOR0cQixtF5GMRqbXzck4XnGeViByw425EZLuIbO/kMdp1DVSU4oCIDLMLtXurs2/oIyJymNdpPBAQkXvta1cmIplep+dg50B/oLbBTOBuoApYCNwOfNxahAj/cSMiJSLyrojMEZGcbkh30iM6eLbz2LWYbcAW4H/s4DzgRGAsUA78hzHm0w4cewCQD3xmjGmIQ3ITEhFJA3YAfQABLjbGPOFtqroXEckHBgC7jDEVCZCeVUCxMUai7D8SqDHGfNmtCYsDIvIEcBEwwBizO8Y4BvgGeDAQBPQGTgcOBd4GTjDGNLriDAGyjDGtCl6iEnihNsZ81oljrKKVchROakdPpETkU2PMvMAPERFgMTALuMX+bBfGmF3ArnglMIE5C+gL3AdcC1wOHFSiZAuR52IUKwfqg9ZmAECsguRir/s/DiAi6cAa4D+AKcBrgX0HomC76YwYdRRtvutCjFUNDbxVjQ+Ei0iOiPxKRLbYzXzfiMizIjIm/BiR+pREJEVErhaR9XZTV42IfGkfY1xY/PNE5J/2OWpF5GsR+ZuInBLhXFfZx6wWkf12vO9EsJtnp+lEEblIRDaIiF9EdonIfSLi68DluhwwWE0pfwemRutHC/RliMhQEXlaRErtNL8mIhMj2K+y4/jsJsId9rV4T0QuaSN/l7vy97zLplhEXravv19EPhSRm+waX8DmEvs4T0U4xw32vt+7wlr0KbmahpeIyEj73lWIyD4ReUhEsm276SKyzi4LX4vILRHOOVBE7rDtvrHL3lYRuUdEcsOvMVDsut6BbUn4fYhwnjF2WQycY4td3nPC7Nx5O1xEnrOvZ7WIvBrp/9AasZw3cI2BqWF5296ec7kxxtQDq+yfvcPS1KIJtCP/HxFJs8vXh7ZtmYisFJHiCLaBZ8ahIvJz+x77RWSjiJxu2+SLyB9FZLe97zWxar7hx2rRpyQiw0Xkbvt4ZfZ/aZOI3Oou/x3GGKNbJzdgGNYDdUWEfRPtfR/av33AejtsLbAAWArUAzXAlLD4S2zbYa6wu+2w94DfAb/GqlXsBH7ksrvWttsKLLLP9aj9+56w8zxo227HEoZFwF47bE6Y7Tw7/BmsNvkn7Dib7fAn2nn9+gMNwCr79wX2cW6PYh/I+5eua/i4fQ39wHFh9qsC9ydK/n4aJX8v2fn7X+Au4BZ7/4VAE1AJPAT8Bthkx3kRu1nctv1fO/wyV9gxQJ19vXyu8Nm27ewIZWs1UAb8DbgHWGeHLwPOB6rtcvQ74Ivwc7rSvR943rb7LfAv23YdkBZ2Dbbb++a5tnPC7sOqsHMUY5XjOvue3IXVrGWwyr0vQt5WAfvsPN5rp88ApUC/GMtQTOe1r32kvF0fwzmC/+Ow8DT7HM3A8EhlrzP/H6zKwwp73yas8vYX+142ARdGeWa8gNUk/geschq4PhOAd4ANdhl4zrb/DOgRdqztwPawsP+y79dTWGXxAeB9+xjPR7g+La5Bq9e5PQ8P3aIW1sCfK5IoPWLvWxxWIB8OszsJR0BSIhSwYa6wUvtPEF6AUoBC1+93ga+x2rTD09XL9f1EnAd9jit8IFbTYQNwmCs8kIdyYIQr3Ad8Yv9RBrbj+v3cPt4VruNU2H+IlAj2xt4ejXIN3w8LX+X6Q4fnbw9Q606vK3+VwKiwY+XbaasGjnKFpwGv2vFmhdl/gfUAOdzO20dYD4djwo49m+iiZIBrXOGpWA+VZixxHevaN8jO04dhx+8DZEe4nrfax7840nVr5b6FiBLQA+vB1ozVhxAIF5xyPDdK3n4eduxf2uH/FUP5add5Y8lbK/ndiyNkt2O93HyK9TI0J0KcFuehnf8fV7l4GUh1hY/CEppyIM8VHsjzR4T+z79rh5dhvSz1cO17wN53blhat9NSlAYC6WFhgiV8BqtfrcPXul0PX92iFtbAn+tTV4FdiFMjKgWOsG23YT2Q+kc4TuBtaIorLFDAhrnCSoE3cb2RR0nXu/b5MtqwW2yf4zsR9t1o77vNFRb4U7Woybj2TW/H9fvY/lPnu8Ieto9zSgR7AzQCh0TY93d7v/shvcoOuyiC/c2E1ZZcebgngv0se999EfaNt/e9Fhb+bawHzdvAn22bGyPEn010UdoSfr9xxOThCMd61T5navi+CLY97eMsCQtv9WFCS1EqtsNeiGA70C73n0fI2+eEvXy49j0bQ/rbdd5Y8tZKfqNtK9xlrrXz0M7/D/B6eJl27Vtk77vUFbbEDrskzDbFvhaGsP8OcEKkNBFBlFq5Psfax5jXmWutfUrx5Qhgrr39CKt9+RFgnDFmi4jkYf3ZPjGRO1hX2Z9ttaUvA44H3hWRW0TkeLE6WyPZDQM+FJFfishJIpIVwS5wvtXtTNM7EcJ22J8F0RLvRkSOB0YAL5pQj7PH7c/Lo0T9whjzVYTwN+3PSOn9Zzvt10cIi3qtjDHrsZpjxoSF/xOrOWkicBVWR/i9EY7dGh8Y+x/uIuAA814E+91YD6F+7kCx+hhftfukmuz+jhJ794B2pimc1q7NTixhLQrvvwI2GmOaw8LaU446et6OsMkYI4EN6IXlpHMU8KaI/Ec7jhXr/2cMsN8YsyGC/SqXTTgh5cK+xnuBsgj/ncDzaGBrCYZgn/ZVIvKWiJSLSLNdjgL56VQ5UlGKL//nKrDpxphhxpgrjDHb7P159ueeKPF3h9lF48dYTV6ZwHysB+s+EVkU1pn8G+D7WM1Qt2K9PZeKyFIRcT+s8oBGY0xpO9NUGSEs4A7bo408BAiIztKw8NVYfUbniEhhhHh7oxwvcG3zY4zTmn2k+9TWPdxD5Gv1vOv7HyIITFtEutZNrewL3Ae348UcrH6A0Vj9ZXdjNUHdbptktDNN4XS0fLdIv3HcqmMpR/H6X7UbY0ypMeb/sP5nWVj/x1iJ9f+TR8fyFq3MxFReWuEBrBr/IOCvWC9ct2N5zkIny5G6hHcvgcLQL8r+fmF2ETHWeKXfAL8RkcFYnkRXYTk25GK7ntsPvoeAh0SkD1Yzx6VYAwcPsX8HzpcqIj0jCFNMaeoItufY+fbPF0SiDmO4CPh9WFjfKLaB9EZyre4LhL8htmYfSThiuYch18r2pnoUq+mkAbhXRF41xpRHOUbcEZFUrBeTncAYY8w+175+WLX7zhKX8n0AndfN2/bnhC44diVtl/euzFsQu6z8EKsWNtkY43ft+w/gJ509h9aUuhFjTCVWH8/wsJpKgIBIbGzHMXcYYx4HTsYa2Dcjit03xphnjDEz7ONPEWuwpvt8U+KRpnZwPpCDVe1/OML2mG0XqQlvqIgcEiH8BPszUpPWt9tpH4mo10pEjsXKT/i1ugereecXWH/aIVgeUd1Jb6y36TVuQbI5PkqcJgARibXW29q1GQAMx+rb2R/j8WLFq/O6CdTmu+KZuhHIE5FjIuzryv9nJIqwnBpedQuSTbRy1C5UlLqfx7Cqt790B4rIiVht058Bb0WLLCIZIjI5wq5cLO+dWpdtcbiR/daej1VdDzT/BB7+c+3aS8C2P5ajQyPOTBXxJCA21xljroywzQL+DRwrIt8Ki9uDsKYSETkJOAXL6yxS+/stYWNWBmCJRB1Ws1YsvID1VnqliAx3HSsVqxkDnOuJiJwJXIPVdPo7Y8wjWE0eF0qEMVJdyF6ssnGsexyMfQ3ujBInUGuOJP6ReBPLaWGGiJwQtu9XQDquaxNHvDqvm+vtzze64NiBtC9wvyCIyFHAlVi1/Be64LyRCAwGniyupg37v/CLeJxAm++6n19jic9VInI0Vt/JYKxaQy1weYROXzc+4F8i8jGWd91XWCIzA+stfZ7L9gURKcdqWvgCqw/qP7HedhYZY6oAjDGrROQPWNXyD0TkOaw/8vlYzQY3mTiP7BaRI7BqKZ8YY9a0YroYq0nkCkKbBt7HGmC7Bquz130Nr45yrG1YTh/PYuXvAiw36Z8ZY76OJd3GmAoR+QFWH9i/RWQZlovtmVguuiuwHyIi0hfL0aUUy0080Bz4fWASsEhE3nT1OXYZxphm+x7/FNggIv+H5XV3FlYZHBEh2mvAucCzIvIS1rV9zxjzYivnuBxYCbwq1qDhr7GGHEzCqhH/Jq4Z6/7z9hWRea7fhcBkrDJagTWGJ948hnUfzgQ2isjf7PNeiPWCe7ndCtPlGGN22s+H72CV/9exnCNmYLmsfzceJ9GtkxutjFOKYp+L9Xa6FWvAZwnW2/OYCLZLcLmEY3VE/hzL9XkH1lv+LuAVwtywsURmOZZbZy1W896bwCW0dC8WrH6pd7DGPlRheav9vwhpmmen6cQI+2YT5tYc5RosIIZxKFheSH6swXrpdpjBEqKhWAMQS+00v4Y1x2D4MVbZcXxYXm+B6/YBLlfaWPLnsjkR609Ybl/bTfZ9cQ9ADbj4R7qGJ2ONq3kLe7xIpGvnKltL2nOtw8uNHZYO3GaXu1qsWvk8OzzEvdu2T8V6ifoCqy8sJB2R4tjhx2CV5xKs8r0Vq7znhNlFzVtrx2/lnsR0XneZaOf/PJIreB1WLe1P7mvd2nlaK1/R7inO/36Tfe/K7fJXHMu9d+3bTgQX72j3IpI91vMrMEg7UPZ/jPWyG+kY7brWOiGrcsBhu5+uNsacGKP9KtoxIaSiKN6hfUqKoihKwqCipCiKoiQMKkqKoihKwqB9SoqiKErCoDUlRVEUJWHQcUqd4PTTTzcrV670OhmKoigHGlE9YbWm1An27QufrUVRFEXpDJ6KkogcIiLPiLW8c6WI/FVEhsQYN9NekneXvZzvGhGJNHcbIjJIRB4Ra+nfOhHZJiIL4psbRVEUpbN41nxnr+vzGtaI6FlYI4HnA6+LyLeMMdVtHOJhrGk35mCNqL4WeFlEJhtjgpMTisgwrFHz27BGHe/BGr18eByzoyiKosQBL/uUrgIOxVoOeCuAiLyPtSDX1Vgrt0ZERMZgLWdwuTFmsR22Gmu6izsInSn7j1jzYE011pIPEHkxO0VRFMVjvGy+mwGsDQgSgLEmpnwLODuGuA1YK6sG4jYCTwKniUgGgIgcBpwGPOASJEVRFCVB8VKURgEfRgjfBIyMIe42Y0xNhLjpOE1zgfU9/CLyit2fVCYij4lIr44kWkTeCWwdia8oiqJEx8vmu55YU/6HU4qzYFZH4gb2g7Pe/CPA41gzUx9uf44UkYmm9WUiFMVTmpubqa+vp7lZi6mS2KSkpJCenk5KSufqOsnuEh7I3ypjzLXGmNeMMX/GWnRtHFbTXrswxowLbPFMaHdQWgrf+x7MnAl1dV6nRmmLhoYG9u7dS0ODtjwriU+8yquXNaUyIteIotWCwuMOjRIXnBpTif35Spjd3+3PscBLbZwrafje9+Dvds6nTYMrrvA2PUp0mpubKSkpoV+/frgW+FSUhCYnJ4c9e/bQt2/fDteYvKwpbcLqGwpnJLA5hrhFtlt5eNzA4l4Bu9Y4aNpEamocQQJYt867tChtU19fT3Z2tgqSckAhImRnZ3eqtuSlKC0HJonIoYEAe0zR8fa+1ngRayXG81xxU7GWt/67MSbQOLUW2E3LZrrT7c9/dzDtBxxffRX6+6OPvEmHEhvNzc306NHD62QoSrvp0aMHTU1NHY7vpSg9hLXU7gsicraIzABeAL7CWloYABEZKiKNInJbIMwYswHLHfx3InKliJyE5Q5eBMx12TUC/wWcKSJ/FJFTReQa4EGsJXpf6+I8Jgxffhn6+/33QSeIVxQl0fBMlOwZG6YBn2J5xj2BNevCNGNMlctUgB60TOtlwGKsWSD+DzgEON0Y827YeR4FLgVOwKph/TewFJhuDqJ1O8JFqaICqtuaM0NRFKWb8XSWcGPMl8B327DZToQZZY0xfuBn9tbWeR7HEr6DlvDmO4BvvoGcnO5Pi6IoSjSS3SVcsYkmSorSXSxZsgQRCW65ubmMGTOGRYsW0djYGPNxTjzxRE488cSuS2icaG5u5phjjuGee+4Jhq1atSrkGgS2goKCFvHLysq48sor6d27N9nZ2Zx88sl88MEHMZ174cKFTJ8+nQEDBiAizJs3L6rt888/z9ixY8nMzGTo0KHMnz+/RZ/QOeecwzXXXBNbxjuJrqd0kFBa2jJMV95QvODpp59m8ODBVFZW8vTTT3Pdddexd+9e7rjjjpjiP/jgg12cwviwdOlSdu3aFfFhfv/99zNhwoTg79TU0EexMYbp06ezfft2HnjgAQoLC1mwYAFTp05l48aNDB48uNVzP/TQQ+Tl5XHOOefwxz/+Mardyy+/zHe/+12uuOIKFi5cyIYNG7j55pvZv38/v/71r4N2c+fOZeLEiVx//fUMHz481kvQMYwxunVwGzdunDlQKC42xnJtcLYlS7xOlRKN6upqU11d7XUy4srixYsNYLZs2RISfuKJJ5q8vDyPUtV1jB492tx4440hYa+//roBzCuvvNJq3Oeff94A5rXXXguGlZeXm8LCQnPddde1ee6mpiZjjDENDQ0GMHPnzo1od8wxx5gpU6aEhN1+++0mLS3N7Nq1KyR8woQJ5oc//GGb546x7EZ9rmrz3UFCWYThyNp8pyQCEyZMoLKykr1797Jy5UomT56Mz+cjPz+fc845h08++STEPrz5rqqqiuuuu44hQ4aQkZFB3759Ofnkk/n444+DNvfddx9HHXUUPp+PwsJCxo8fz3PPPRfcb4zht7/9LSNGjCA9PZ0BAwbwox/9iMrKypBziwi33nor999/P0VFReTm5lJcXMymTaFDIt9++20++OADLrroog5dk+XLlzNw4ECmTp0aDMvPz2f69Om88MILbcaPZeDqV199xcaNG7n44otDwi+55BIaGhp46aXQeQUuvPBCnnjiCfx+f4y56BjafHeQUFZmCPcXUVE6ABk7Fvbs8ToV0K8fbNgQl0Nt27aNHj16sH79eqZPn860adNYtmwZVVVV3HbbbZxwwgls3LiRQYMGRYz/05/+lOXLl3PnnXdyxBFHUFJSwltvvUV5eTkATzzxBDfccAO33XYb3/72t/H7/bz//vuUutq0b7nlFhYsWMC1117L9OnT2bx5M//93//Ne++9x+rVq0Me8kuXLmXEiBHcd9991NfXM2fOHM4++2w+/vjjYDPcypUrg31mkZg5cyb79u2joKCA0047jbvuuoshQ5z1TTdt2sTRRx/dIt6oUaN47LHHqKqqIqeTXkoBIQ0/T1FREVlZWWzeHDqHwZQpU6isrGTNmjVMmzatU+duDRWlg4TyCKKkfUoHIHv2wK5dXqeiUzQ1NdHY2Mj+/ft56qmn+Otf/8r06dO57bbbOPTQQ3nppZeCD/fJkyczfPhw7r33XhYujLzE2po1a5g5cyZXuObN+s53vhOy/1vf+ha33RYc6sgZZ5wR/F5aWsq9997LrFmzWLRoEQCnnXYaffr04ZJLLmHFihXMmOEs0ZaWlsaKFStIS0sLhp133nmsW7eO4447DoC1a9cyevToFjWW/Px8brjhBoqLi8nLy2PDhg3ceeedTJ48mQ0bNtC3b99gmoYNG9Yirz17WjOplZWVdVqUAqJcWNhytrfCwsIQ0QYYM2YMKSkprF27VkVJ6RyNjbC/yvpzFFBGuT3lYFjLhHIg0K+f1ymw6EQ6jjzyyOD3lJQUZs6cyYIFCzjkkEO4+eabQzr9i4qKOP7441m9Ovq6nBMmTGDJkiX07t2bU089lbFjx4bMhjFhwgQefPBBrrvuOs4++2yOO+44srKcGcrWrl1LfX19i2asCy+8kMsuu4zVq1eHiNIpp5wSIkijR48G4MsvvwyK0s6dOykqKmqR1rFjxzJ27Njg7+LiYqZMmcLEiRO5//77mT9/fvQL5zFpaWnk5+ezc+fOLj2PitJBgN2KAcBQvnCJUsvak5LgxKnJzEuee+45Bg8eTG5uLkOHDiUzM5MdO3ZgjGHAgAEt7Pv3788XX3wR9XgPPPAA/fv355FHHuGWW26hZ8+eXHrppfzqV78iKyuLSy+9lNraWh5++GEefPBB0tLSOOOMM1i4cCHDhg0L1gjCz52amkqvXr1a1BgCtZUAGRkZANTW1gbDamtrg+FtceyxxzJ8+HD+/W9n1rPCwkLKInQEt1a7aS+BY0Q6T1lZWYt8Avh8vi7vU1JHh4MAtygNwZnaobKs4/NTKUpHOfrooxk/fjwjRowgMzMTsB6QIsLu3btb2O/evTviAzJATk4OCxYsYOvWrWzfvp2bb76ZRYsWcfvttwOWc8LVV1/NunXr2LdvH48++ijr1q3jggsuAByRCT93Y2MjJSUlrZ47Gr169Yr4sG8N9+S7o0aNauE8AbB582aGDBnS6aa7wDmAFufZvn07NTU1jBzZcq3V0tJSevfu3elzt4aK0kGA+7/Rn92kY81Xq6KkJArZ2dmMGzeOp59+OmTg5hdffMG//vWvmAfLDh06lBtuuIHRo0fz4YctF7YuLCzkggsu4Pzzzw/unzRpEunp6Tz55JMhtsuWLaOxsbFDA3WPPPJIPv/885hs169fzyeffMLEiRODYTNmzODrr78OabasrKzkxRdfDGlK7AxDhgxhzJgxPPHEEyHhS5cuJS0tjf/8z/8MCd+9eze1tbWMGDEiLuePhjbfHQTs3+98z6OSfCr4hr7ap6QkFL/85S8588wzOeuss7jmmmuoqqpi7ty5QeeAaEyePJkZM2YwevRocnJyWL16Ne+99x6zZs0C4Pvf/z65ublMnjyZvn378umnn/L4449z6qmnAlZN6YYbbmDBggVkZ2dzxhln8NFHH3HrrbdywgkncOaZZ7Y7L1OmTGHx4sWUlJTQq1evYPjMmTMpKiri2GOPpaCggA0bNrBgwQIGDRrEj3/846DdjBkzmDx5MhdffDF33313cPCsMYabbrop5FypqanMmjWLhx9+OBi2fv16tm/fHlyxePPmzTzzzDOA5eQR6FO78847Oeuss7j66qv53ve+x4YNG5g/fz4/+clP6N+/f8h53n777WDeupTWBjHplhyDZ5cvdwbM3sY8cxhbDBiT66v3OmlKFA6mwbNuXnrpJTNp0iSTmZlp8vLyzIwZM8zHH38cYlNcXGyKi4uDv2+66SZzzDHHmLy8PJOVlWWOPvpoc9999wX3L1myxBQXF5s+ffqY9PR0M2zYMHP99debioqKoE1zc7NZuHChGT58uElLSzP9+/c311xzTYiNMcYA5pZbbgkJ27ZtmwHM4sWLg2GlpaUmMzPTLAkboX7nnXea0aNHm7y8PJOammoGDx5srrrqKrNz584W16KkpMRcdtllprCw0Ph8PjNt2jSzcePGFnaAmTVrVkjYrFmzDBBx27ZtW4jts88+a771rW+Z9PR0c8ghh5jbb7/dNDY2tjjPlVdeaWJ55nV28KxYeVI6wvjx48369eu9TkabPPmkteoswF38nGVcwAaOBaCpCTq4QKTShdTU1ACEeIkpBxazZ89mx44dvPrqq14npdPU1tYyYMAA7rnnnhDX+0jEWHajeljp4+ggoLrKefHIppo8nHa7qqpIMRRF6Sxz587lzTff5EB4cW2LP/3pT/Tt2zfYJNqVqCgdBFSX1gW/Z/eoCxEl7VdSlK6hqKiIJUuWsHfvXq+T0mkyMjJYsmRJi4ljuwJ1dDgIqP6mBrBcb7MH5pP3lYqSonQHF154oddJiAs/+MEPuu1cWlM6CKgucQa7ZQ8q0JqSoigJi4rSQUB1ubOAWvbgQrJx1kHXJdEVRUkkVJQOAqorncGI2X2yyEptCP62HWUURVESAhWlg4AQ77vCdLJ9zc4+rSkpipJAqCgdBNRUu0Spt4/sbGefW7AURVG8RkXpIKC6xhmnlt3bR1a287umsiFSFEVRFE9QUToIqPY7tzm7TxbZec7v6n21kaIoiqJ4gorSQUB1nbXgmdBMZp9csvKcBcpqyuuiRVOUuLJkyRJEJLj16NGDQYMGcf755/PJJ5+E2M6bNy9kKYf20tzczDHHHMM999wTDFu1alXI+QNbQUFBi/hlZWVceeWV9O7dm+zsbE4++WQ++OCDFnY333wzp556Kr169UJEWLJkSYfTHODNN9/kuOOOw+fz0b9/f372s5/FtIbRjh07uO6665g8eTJZWVmICNu3b49oW1tby5w5cxgwYAA+n4/JkyfzxhtvhNjs2rWLrKws1q1b1+k8tQcVpYOA6npLhLKpRvLzyM53xkxXl2nzndK9PP3006xZs4Y33niDBQsWsGHDBk466SQqKiqCNldeeSVr1qzp8DmWLl3Krl27uOaaa1rsu//++1mzZk1wC5+bzhjD9OnTWblyJQ888ADPPvssDQ0NTJ06lR07doTYPvDAA/j9fs4666wOp9XN+++/zymnnELfvn1ZsWIF8+fPZ/HixcyePbvNuFu3buWpp56isLCQb3/7263aXnHFFTz00EPccccdrFixggEDBnDaaaexcePGoM2AAQO46qqrmDNnTmez1T5am61Vt+SYJXxAxj4DxvRjlzF79pi1Fz8QnDX8B2d95XXylAgcTLOEv/LKKwYwf/vb3+J2rtGjR5sbb7wxJOz11183gHnllVdajfv8888bwLz22mvBsPLyclNYWGiuu+66ENumpiZjjDFbtmxpMVN4RzjnnHPM4YcfburrnRn8H330UQOYd955p9W4gbFIxAoAACAASURBVLQYY8xDDz0UcUZwY4zZuHGjAcwjjzwSDGtoaDDDhw8306dPD7HdtGmTAczbb78dcx46O0u41pQOAqobrWWZs6mG/PzQmlJVc7RoitIt5OXlAdDQ4NTaIzXfiQi33nor999/P0VFReTm5lJcXNxi5dS3336bDz74gIsuuqhD6Vm+fDkDBw5k6tSpwbD8/HymT5/OCy+8EGKbEscp9hsaGli5ciXnn38+aWlOE/v5559Penp6i3OHE2tali9fTlpaWnDlXbDWZLrwwgt5+eWXqatzmvRHjhzJ6NGj+ctf/tLO3HQcnfsuyTEGqpvsee+ogYwMsgtcfUrV6hJ+IDF2LOzZ43UqoF8/2LChY3GbmppobGykqamJzz//nJtvvpm+ffvGtMLr0qVLGTFiBPfddx/19fXMmTOHs88+m48//jg4WejKlSvJzc1lzJgxEY8xc+ZM9u3bR0FBAaeddhp33XUXQ4YMCe7ftGkTRx99dIt4o0aN4rHHHqOqqiouy5GH89lnn1FbW9vi3JmZmRx22GFs3rw5LufZtGkTRUVFLZaWGDVqFPX19WzdujW4VDpYi/q9+OKLcTl3LKgoJTn19dBk3+bsHpanXVZBenB/dXXHO5OV7mfPHti1y+tUdI4jjzwy5PfAgQNZsWJFsMbUGmlpaaxYsSKkJnHeeeexbt06jjvuOADWrl3L6NGjW9QcAivYFhcXk5eXx4YNG7jzzjuZPHkyGzZsoG/fvgCUlpYybNiwFufu2bMnYDlBdIUolZaWAtaS7ZHOHdgfj/NEO4c7HQHGjh3L73//e3bu3MnAgQPjkobWUFFKctwzNmSnWtXy7J4ZwbCaWhWlA4l+/bxOgUVn0vHcc88xePBgjDHs3LmTRYsWccYZZ/DGG29w1FFHtRr3lFNOCRGk0aNHA/Dll18GRWnnzp0UFRW1iDt27FjGjh0b/F1cXMyUKVOYOHEi999/P/Pnz+94ppKYPn36AKgoKfEhRJTS6gHwFWY6+/09ujtJSifoaJNZInH00Udz+OGHB3+feuqpHHLIIcybN49ly5a1GjfwNh8gI8N6waqtdcbb1dbWBsPb4thjj2X48OH8+9//DoYVFhZSVlbWwra1mkw8CBw32rndTWqdPc8XX3wR8RzQ8hr7fD6AmNzS44E6OiQ51RXODOFZ6VZHco/8HDKxClhgDJOieIXP5+PQQw/l/fffj8vxevXqFfHB3hpup4pRo0a1cJ4A2Lx5M0OGDOmSpjuAww47jIyMjBbnrq2t5fPPP2fkyJFxOc+oUaPYtm1bcNnyAJs3byY9PT3khQEcserdu3dczt8WKkpJTshaSum2QOXkkIVVIGvqtbKseEtNTQ2fffZZsJmosxx55JF8/vnnMdmuX7+eTz75hIkTJwbDZsyYwddff83q1auDYZWVlbz44ovMmDEjLmmMRHp6OqeffjpPPfUUjY3Oy+QzzzxDXV1d3M49ffp0GhoaePrpp4NhjY2NLFu2jFNPPbVFLXPbtm2kp6dHbBLtCvSJlORY0wjlApCdaS9hkZNDNtWU0ovqhvTokRWlC9i4cSP79u3DGMOuXbtYtGgRpaWlXHfddXE5/pQpU1i8eDElJSX06tUrGD5z5kyKioo49thjKSgoYMOGDSxYsIBBgwbx4x//OGg3Y8YMJk+ezMUXX8zdd99NYWEhCxYswBjDTTfdFHKu1atX880337B7927AErlATercc88N2s2ePZtHH30UY1r3dp03bx6TJk3i/PPP59prr2X79u3MmTOHc889l3HjxgXtHnvsMS6//HL+8Y9/UFxcHAx/5plnAHjnnXcAeOmll+jTpw99+vQJ2o0dO5YLLriA66+/noaGBoqKivjDH/7Atm3beOKJJ1qk6e2332bChAlkZma22NcltDaISbcDf/Ds3/78VXCg7C+Oes4K/OILM4KPDBjj61HrbQKViCTz4Fn31qdPHzN16lSzcuXKENu5c+ca6/HkAJhbbrklJGzbtm0tBq2WlpaazMxMs2TJkhDbO++804wePdrk5eWZ1NRUM3jwYHPVVVeZnTt3tkhrSUmJueyyy0xhYaHx+Xxm2rRpZuPGjS3siouLW+QpsLk599xzTb9+/WK6TqtXrzaTJk0yGRkZpm/fvuYnP/lJi7IQuJavv/56SHi0tBQXF4fY1dTUmJ/+9KemX79+JiMjw0ycOLHFsQJ2ubm55oEHHogp7cZ0fvCsmDaUW4nO+PHjzfr1671ORqs8e/fnnHvToQDMH/cct6z/DpSWMq7XNt7FevNqaoI4jgFU4kCgvT98LIkSG7Nnz2bHjh0tphDyioEDB3L99de3qGklOsuWLePKK69kx44d5OfnxxQnxrIb1e1XH0VJTnW5M0o+O8t+AbGb7wJ0k1ONonQbc+fO5c033yQRXhq3bNlCXV1dxHn4Ep1f//rXzJkzJ2ZBigfap5TkuL3vsnPsl5P0dLLEb1XssdzG3Qv/KcqBTlFREUuWLGHv3r1eJ4UjjjiCkpISr5PRbnbv3s3ZZ5/NjTfe2K3nVVFKcqorm4Lfs3Ndi/2l1oNdiQrzDFWUpODCCy/0OgkHNP3792fu3Lndfl5tvktyaqucmpIvx3kHyUpzmvXcA2wVRVG8REUpyfFXO7OAZ+Y607Nkp6soJTIpKSk0NTW1bagoCUZTUxM9enR8UL6KUpJT63e8K32uFWezMpwHXk1lI0pikZ6eTnV1dZvjWhQlkTDGUF1dHTI/YXvRPqUkx+1ZF1JTynREqbqkFuiaqVOUjpGSkkKvXr3Ys2cP2dnZnXrzVJTuoKmpierqanr16tWpdaZUlJKcWme9Lny5zu3O9jnNejVldagoJR5paWn07duXhoYGbcpTEp709HSys7M7vfChilKS4691Cogv35lSyD2urbqsvjuTpLSDlJSUmGe8VpRkQPuUkhx/nXOLM/McUXKPS1JRUhQlUVBRSnJqG1w1Jdc6Sr4cp4/Cv18dHRRFSQxUlJIcv2tpisx8pxkoK8e59SpKiqIkCipKSU5to1Mj8vX0Od9dTg81VdqJrihKYqCilOT4Gyw38B40kprrEiXXmCX3AFtFURQvUVFKcmqbrBqRDz/4HFHKyneLkg7QVBQlMVBRSnL8TZbHnQ8/uAZgut3Da3TpCkVREgQVpSTH32w5N2RKqNu3W5T8/qjrbSmKonQrKkpJTq2xRMmXUhcSnlXgEqU6LQaKoiQGnj6NROQQEXlGRCpEpFJE/ioiQ2KMmykid4vILhHxi8gaEZnSRpwLRcSIyI745CCxMQb8xhqblNkjrKbk8sSrqdN51RRFSQw8EyURyQJeA44EZgGXAEcAr4tILOugPgxcBdwGnAXsAl4WkWOinK8A+B2wu/OpPzBobIRmLMHxhYtSgTNmyV+voqQoSmLg5dx3VwGHAiOMMVsBROR9YAtwNbAwWkQRGQNcBFxujFlsh60GNgF3ADMiRPsN8B6WeJ0cv2wkLv7KBsDysstMDR0gm1aQTQ8aaSIVf4OKkqIoiYGXzXczgLUBQQIwxmwD3gLOjiFuA7DMFbcReBI4TURCZrAUkeOBi4Fr45P0A4Pa8trgd19aqChJTrblkQfUNKSjKIqSCHgpSqOADyOEbwJGxhB3mzGmJkLcdODwQICIpAF/Bu52C2BHEZF3Altnj9XV+EsdX+9wUSIrKyhK/qaOL8ilKIoST7wUpZ5AWYTwUqCwE3ED+wP8HMgAFrQ3gQc6/gqnHykzPWzWBp+PLCxND4xlUhRF8Zqk9gUWkcOBW4AfGWNq27KPBWPMuMAWj+N1JbUVjhu4L1yURPCJdUlqmjNRFEVJBLwUpTIi14ii1YJijQtOjel+LA+/tSJSYHvgpQNi//ZFOEbSEFJTymg5lVDAI6/WZGJ0piFFURIAL73vNmH1DYUzEtgcQ9zviEhWWL/SSKAe2Or6PZTIIlcG3Adc355EH0jUVjqi5MtsOelqVo86sLuaamtDpsZTFEXxBC9rSsuBSSJyaCBARIYBx9v7WuNFLF/n81xxU4ELgL8bYwLtVhcCU8O2l4F99vdFcchHwuJeJykzs+VUQr7UhuD3mnCXEUVRFA/wsqb0EPAj4AURuRUwwC+Br4A/BYxEZCjwGXCHMeYOAGPMBhFZBvzO9q7bBvwQKAJmBuIaY9aGn1REZgN1xphVXZOtxKG2yhGlSLUgt0eef38j9PKyOCiKonhYUzLGVAPTgE+Bx4EnsMRlmjGmymUqQA9apvUyYDEwH/g/4BDgdGPMu12c9AMGv2vxPl9Wy5pSlluUyuLiB6IoitIpPH01NsZ8CXy3DZvtWMIUHu4HfmZv7Tnn7PbYH8i4RSkzgij50p39NSV+IKc7kqUoihKVpHYJP9iprXGcG3zZLacS8mU4+/3ldS32K4qidDcqSkmMe5nzzAiilOXyyKspU1FSFMV7VJSSmFq/M/jIl9uypdbt/OAe06QoiuIVKkpJjN+1zLkvJ0JNKcsRLbf7uKIoileoKCUxtS6Husy8lvPb+bKc219T0dBiv6IoSnejopTE+OscjztfXsuZwN1u4m5PPUVRFK9QUUpi/HXO7c3Mz2ixPyvX2a+ipChKIqCilMTU1ju315cfofkux3F+qKnWGVkVRfEeFaUkxl/viE5mQcvlKdweeW73cUVRFK9QUUpiahscjztfQYTmu3ynn8nv15qSoijeo6KUxPgbnZqQr2fLGVndzg81/pbTECmKonQ3KkpJjL/REZ3MrJa32t3P5FdRUhQlAVBRSmJqmyxRSqOeHi3HzpJV6DTpuT31FEVRvEKfREmMv9kSnUyJPK+dr9Bxfqipi6BaiqIo3YyKUhJT22w1z/lSooiSq5/J36CipCiK96goJSvG4DdWTSgzJfJkq1m93KKkq84qiuI9KkrJSkMDtVii5OsRWZQye2YFv9c0tBxcqyiK0t2oKCUppsaPH6sm5EuNPNmq9EghE2sqcX9Ty7nxFEVRuhsVpSSlvrwGY9/ezNToy1JkSUCUtKakKIr3qCglKbUVzroVvrTok60GnCBqmltOQ6QoitLdqCglKX7X8uaZrYqS1d8UcIpQFEXxEhWlJKW2whElX0Z0UcpKtez8+DCNunyFoijeoqKUpPgrHI+7zPTok60GnCCaSKWh0h/VTlEUpTtolyiJyAsiMkNEdKRlglNb6YiSL7MVUUpznCD8JTVdmiZFUZS2aG9N6UTgOWCHiPxGRI6Kf5KUeOCvdNzAWxOlLLcoldVGtVMURekO2itK/YHZwGbgBuBDEVkjIleKSG68E6d0HP9+R2wyfdFnAHf3N9WUaPOdoije0i5RMsb4jTGPG2NOAoqA24E+wJ+BXSLyqIicGP9kKu3FX+WIja/lUkrOvgynFuUvjzxHnqIoSnfRYUcHY8yXxpg7jDGHYzXrvQxcDPxDRLaKyC9EpDBO6VTaSYgoZUevKWVlOsugu50jFEVRvKDT3nciMg24CjgdEOBdYDfwK+AzETm5s+dQ2o+/2hEbX4QF/oL7XLWomnIVJUVRvKVDoiQiw0RknohsA14BzgQeAcYaYyYYY04AjgW+Bu6LW2qVmPHXOM1yvpzozpJuUXI7RyiKonhBu9YrEJFLsRwdpmDVilYDtwDPGmNCOiSMMRtFZCFWf5PSzfhrnJpSVm50UcpyNe25nSMURVG8oL2L6CwBdgG/AR42xnzWhv0mYGkH0qV0Er/fERtfbvTb7Mt2Kss1+3VGB0VRvKW9onQ28DdjTExPL2PMOmBdu1OldJoatyjlRV+WwpfjiJLbOUJRFMUL2iVKxpgXuyohSnzx18YmSlmuWpTbOUJRFMULdO67JMVf59xaX370tZLcTXs1OsuQoigeo6KUpISIUkFGVDt3LcrtsacoiuIFKkpJir/BqQH5CqOvlZSV7xKl2uiDbBVFUboDFaUkxd/guIG3WlNy7atRUVIUxWNUlJIUf6NTA8pqZZohtyj5a7U4KIriLfoUSlJqGh3nhtYmZM3q6TTt+et1mSxFUbxFRSlJ8TfFJkru/qaa+vYOW1MURYkvKkpJSkCU0qWelFbustsl3O0coSiK4gUqSslIczN+Y9WAfCmtr5GUleV8d/dDKYqieIGKUjLi9+PHarPzpbS+HEXI0hVN0QfZKoqidAcqSslITY0jSqmti1JqKqRiLVnhb4ruOq4oitIdqCglIy5Rykpte42krJRaK5rJhGad/05RFO9QUUpCmiqrqceq9fjS2l4jKbuH1e9UTTbU1nZp2hRFUVpDRSkJ8Zc5wuJLb3s5iuw0lyhVV3dZuhRFUdpCRSkJaa8o5bhEyVTrVOGKoniHilIS4i933MB9mW33EWWnW/1OhhT8JSpKiqJ4h4pSEhIqSm0vR5Gd4fQ7VZdon5KiKN6hopSE+Csdjztf9FUrguRkOqJUVdq6C7miKEpXoqKUhLhFyT1jQzSyfU4TX3Vp6zNAKIqidCWeipKIHCIiz4hIhYhUishfRWRIjHEzReRuEdklIn4RWSMiU8JshovIfSLyvohU2bbLRWRM1+QoMajZ7zg3+LLaXiMpxyVKVeVtu5AriqJ0FZ6JkohkAa8BRwKzgEuAI4DXRSQ7hkM8DFwF3AacBewCXhaRY1w2pwJTgUeB6cA1QB9grYiMi1NWEg7/fkdYfNlt3+Js19Wurmh7sK2iKEpX4eW00FcBhwIjjDFbAUTkfWALcDWwMFpEu6ZzEXC5MWaxHbYa2ATcAcywTZ8Efm+MMa64rwHbgZ8Al8Y3S4mBv9qp+fhy2l4jKTvHqU1VV+qMDoqieIeXzXczgLUBQQIwxmwD3gLOjiFuA7DMFbcRS4ROE5EMO2yfW5DssArgU2BQPDKRiISIUm7bopST63yvqmx7XJOiKEpX4aUojQI+jBC+CRgZQ9xtxpjwQTWbgHTg8GgRRaQncDTwUexJPbDw1zg67MtpuzKcnefYaE1JURQv8VKUegJlEcJLgcJOxA3sj8YDgAC/ayuBkRCRdwJbR+J3ByGilN/2GknZBY5N1X4VJUVRvOOgWmpURH6B1Rd1hbvZMNnw1zp9RL68ttdIyunp2FTvb3uwraIoSlfhZU2pjMg1omi1oFjjglNjCiIiPwDuBG41xjzSjnSGYIwZF9g6eoyuprrW6UfK7tm2KGX3ckbYVte07UKuKIrSVXgpSpuw+obCGQlsjiFuke1WHh63HgipBYnIJcCDwL3GmF91LLkHDlW1TgU4p2fbC/fl9HZEqapGx1MriuIdXj6BlgOTROTQQICIDAOOt/e1xotAGnCeK24qcAHwd2NMnSv8O8Bi4C/GmBvjlfhEprreJUqFMfQp9XG03V3LUhRF6W687FN6CPgR8IKI3AoY4JfAV8CfAkYiMhT4DLjDGHMHgDFmg4gsA34nImnANuCHQBEw0xV3CvC/wHvAEhGZ5Dp/nTFmQxfmzzOq6p0mO/cYpGi4m++q6g6qbkZFURIMz55AxphqEZkG/BZ4HMsj7h/A9caYKpepAD1oWau7DPgVMB8owBKe040x77pspgEZwLFY45/cfAEMi0tmEoyqBkdkcnLats/JdQ2erW+7ZqUoitJVePpabIz5EvhuGzbbsYQpPNwP/MzeosWdB8zrTBoPRKobnX6kWEQpZJqhhrYdIxRFUboK7dVOQqqafMHv2THMIui2qWrygVG3cEVRvEFFKdmor6cKS2UypI7UGOrCPXpApthLopssqNPlKxRF8QYVpWSjpoZqW5Sye8S+imx2qmVbRQ7s398lSVMURWkLFaVko6rKEhYgJy32Gk/AtppsqKzskqQpiqK0hYpSsrF/f7CmlJMe+9Lm2enWOkrVZGtNSVEUz1BRSjIaSvdTh+USnp0e+yqy2RmWbT0ZNJSqKCmK4g0qSklG9d7q4PccX+yilJPprKNU9U34iiCKoijdg4pSklG9zx/8nu2LfRmKvBxHlCr3xO4goSiKEk9UlJKMqn2OoORkxz7eKD/HEbCKfQ1xTZOiKEqsqCglGVWljnNDLLM5BMjPd76rKCmK4hUqSklGdZkjStm5sd/e/AJnJqeKMl19VlEUb1BRSjKqKpy+oZy82JehKOjl2JaX6TRDiqJ4g4pSklFd6XjcZefHPt9ufi/HtqJSV59VFMUbVJSSjKr9Ti0nlgX+AuT3dWYHr9ivxUJRFG/Qp0+SUeUa95rTq+2l0APk93dWn62o0mKhKIo36NMnyah2xs6GrCjbFgWDnPUryqt09VlFUbxBRSnJqPI7Dgvtqim5+5RqdKE/RVG8QUUpyaiqdYlSfuzedyHjlOpir2EpiqLEExWlJKO6znFuiGXV2QAFBc73iqZsaNABtIqidD8qSklGVb3T9NaeGR0yMyFdrIG35RRAeXm8k6YoitImKkrJRFMTVU1O01t7akoA+enWZK4V5ENJSTxTpiiKEhMqSsnE/v2WoNi4+4liIT/TWn22gnwoLY1nyhRFUWJCRSmZqKwMilIKTe1qvgMoyAqsPptD4zdl8U6doihKm6goJROumlJ+uh9p52xB+a41lSq+ropnyhRFUWJCRSmZqKy0nBSA/Iz2L9SXn+9MUVSxs7oVS0VRlK5BRSmJaK7YTyV5AOT76tuwbknI8hW6+qyiKB6gopREVO2uwti3tCC7/eOMCtyzOnzTflFTFEXpLCpKSUT5zprg9/zc9q+JVOCaKbx0ny70pyhK96OilERU7PYHv+cXtGIYhd6DnLny9pVp0VAUpfvRJ08SUbG3Lvi9oGfs894F6DPUWb5iX0XsazEpiqLECxWlJKK8xHHpzu/dflHp3c8Rsn37dVJWRVG6HxWlJMI9CUPP/u1ffqJ3b+f7vhpfHFKkKIrSPlSUkoiScqem02tw+0XFLUrfNBZClQ6gVRSle1FRSiL27XdqR70Gtb/5LaSmRG/YvTseyVIURYkZFaUkoqTaEaLefdo5xxCQlgb56ZZb+Tf0UVFSFKXbUVFKFoyhxO94z/Xq1bHD9Mu13Mr30A+zS0VJUZTuRUUpWSgro8T0DP7sqCgN6GXN5FCLj/JtOlO4oijdi4pSsrBnj9UPBKRIc7vXUgowoL8zk8OurTopq6Io3YuKUrKwdy8lWNWjnpk1pHTwzg4Y4jhL7Prc34qloihK/FFRShKad+1hL30Bp1+oIww43FlDfdfXOv+doijdi4pSkrDv80oasWZxCPQLdYSBhznjm3buaf9URYqiKJ1BRSlJ2LXNWf/I3S/UXgYNdlzJv6rIhWatLSmK0n2oKCUJIaI0pP1TDAUYNsz5vr15iI5VUhSlW1FRShLc/T/ufqH2Mngw9BBrYtftDIOtWzubNEVRlJhRUUoSdu11+n86I0qpqXBIoTXn3TaKMJ982um0KYqixIqKUjJgDF+W5wV/uvuFOsKwQdZS6tXksO/9nZ06lqIoSntQUUoGvvmGz5uHBn8eemjnDnf4kc5aTJ9s1LFKiqJ0HypKycCWLXyOpUSZPerp379zhxs5MSf4ffPHWkQURek+9ImTBDR99ClfYNWUinrt7/BsDgFGjnb6pzbv6wOVlZ07oKIoSoyoKCUBX67bHRw4WzSksdPHGznS+f4Bo+G99zp9TEVRlFhQUUoC3t/ouIOPOqbjY5QCDB4MvXOsvqR/M4Gmt9Z2+piKoiixoKJ0oGMM733kCNG3TshrxTg2RGDSsZYH3n7y+PilbZ0+pqIoSiyoKB3o7NjBxqrDgj/HHBuf+eomneI4O6x62wd1dXE5rqIoSmuoKB3gNP/zLd5gCgDZaXUceWR8jnvqaU7RWFF3Mrz6anwOrCiK0gqeipKIHCIiz4hIhYhUishfRWRIjHEzReRuEdklIn4RWSMiUyLYpYjIL0Rku4jUish7IvLd+OfGGzYu/ZASe3G/4jEVpKW1ESFGxo2DfvnWfHr/4CT2PPhsfA6sKIrSCp6JkohkAa8BRwKzgEuAI4DXRSSWeXIeBq4CbgPOAnYBL4vIMWF2vwTmAYuA/wTWAk+LyBlxyIa3VFbyP//oF/x5yvmFcTt0SgpcdGkqAA2k8/u/FcEHH8Tt+IqiKJEQY4w3Jxb5CbAQGGGM2WqHFQFbgJuMMQtbiTsG2AhcboxZbIelApuAT4wxM+ywvsBXwF3GmLmu+P8A+hhjvtWZPIwfP96sX7++M4foFHvn3M2Ie66knEJSpZGvdqZ2euCsmy1b4MgRzTSbFDLx8+YRlzNu7e+hZ8/4nURRlIORqHOhpXZnKsKYAawNCBKAMWabiLwFnI0lWK3FbQCWueI2isiTwH+JSIYxpg44DUgHlobFXwo8IiJFxphudy3b8sp2qkvrMM3G2gyhn5HCXJ/N+6vZ/saX/PblUynHqh1dcMZ++vePX00J4Igj4AdXNfHgn1Ooxce3tzzMrIHLOOGkDHof3Z/cgbmk56RDSgrSI8X5FEHsIidYLz3Suen4FEVJQA4Z15eeh8X3uYMxxpMN2A38KUL4g8A3bcR9EqtGFB5+PmCAUfbvu4Ba7Bqhy26ibXdmB9L9TmAbN26c6QgTsj80WDITl623b7/5+usOJaVNqquNGT+qOq7p1U033ZJje3j2Gx19tBBt89LRoSdQFiG8FGhLeluLG9gf+Cw3xpg27LqVQO0hHgzv+Q3/+FcWAwfG7ZAhZGXB62uzuPaSCjJSOr7MuqIoSix42Xx3QGKMGRf4Pn78+A6py/RJ+xj15T8RrGYtEWN9Bn9DSiDMvT9gk5ZK30MyGPudYUy7oE/cPO6ikZMDix7LZ95C+OcLpXz86g4qd1dTWW5obGjGGKDZrkkagzFWW50h8KkoSjJyxLjOD9YPx0tRKiNyjShaLSg87tAoccGpCZUBBSIiYbWlcLtu5dZXT/TitJ2md2/4zhU94Qp1dFAUpWvwsvluEzAqQvhIYHMMcYtst/LwuPXAVpddBnBYBDtiOI+iKIrSjXgpSsuBSSISXJJOxoWLjwAACH9JREFURIYBx9v7WuNFIA04zxU3FbgA+LuxPO8AVmJ56c0Mi38x8KHxwPNOURRFiY6XzXcPAT8CXhCRW7G6Hn6JNa7oTwEjERkKfAbcYYy5A8AYs0FElgG/E5E0YBvwQ6AIlwAZY/aKyELgFyKyH3gXS7imYbmVK4qiKAmEZ6JkjKkWkWnAb4HHsfrw/wFcb4ypcpkK0IOWtbrLgF8B84EC4D3gdGPMu2F2twBVwE+A/sAnwPnGmBXxzZGiKIrSWTyb0SEZ8HpGB0VRlAOUqMPpdZZwRVEUJWFQUVIURVESBm2+6wQi8g3wRQejH2V/fhSn5CQ6B1t+QfN8sHCw5Tke+d1njDk90g4VJY8QkXcgdIaIZOZgyy9onr1OS3dxsOW5q/OrzXeKoihKwqCipCiKoiQM2nynKIqiJAxaU1IURVESBhUlRVEUJWFQUVIURVESBhUlRVEUJWFQUVIURVESBhUlRVEUJWFQUVIURVESBhUlRVEUJWFQUVIURVESBhUlRVEUJWFQUepmROQQEXlGRCpEpFJE/ioiQ7xOV3sRkcEi8oCIrBGRGhExIjIsgl2miNwtIrtExG/bT4lglyIivxCR7SJSKyLvich3uyMvsSAi54rIsyLyhZ2PT0RkgYjkhtkVishfRGSfiFSLyKsiMjrC8WK6Ll4iIqeJyGsisltE6kRkh4g8JSIjw+xiKtOxXptEQkRW2mV7flh4UtxnETnRzl/4Vh5m1335Ncbo1k0bkAVsAT4EzgHOBj4APgOyvU5fO/NyIrAH+BvwMmCAYRHsngDKgauAk4C/An7gmDC7XwF1wI3AVOBPQDNwhtd5tdO3FngKmAkUA9fb+VoLpNg2ArwJ7AC+B5wOrAb2AYM7cl08zvP3gLuBc+08XwJsAiqBoe0p0+25Nomy2encZZft+R3JS6LfZ/t/bIDrgEmubbxX+fX8ohxMG/AToAk43BVWBDQCP/M6fe3MS4rr+5VEECVgjB1+mSssFfgEWO4K64slSLeHxf8H8L7XebXT0idC2KV2/qbZv8+2f0912eQDpcD97b0uibgBI+y032D/jqlMx3ptEmUDCoHd9kM4XJSS5j67ROnkVmy6Nb/afNe9zADWGmO2BgKMMduAt7Bu/AGDMaY5BrMZQAOwzBWvEXgSOE1EMuzg04B0YGlY/KXAaBEp6nyKO4cx5psIwf+2PwfZnzOAncaY113xKoAXCb2/sV6XRKTE/my0P2Mt07Fem0Th18CHxpj/jbDvYLjPbro1vypK3csorGaOcDYBIyOEH+iMArYZY2rCwjdhidDhLrs6YGsEO0jca1NsfwaWhW7t/g4RkRyXXSzXJSEQkR4iki4iR2A1q+4GAg/rWMt0rNfGc0TkBKxa8LVRTJLxPj8hIk0iUiIi/xPWJ9it+VVR6l56AmURwkuxmguSjdbyG9gf+Cw3dn2/FbuEQUQGAXcArxpj1tvBbeW3MEa7RMvv21gvDZ8C38Jqrtxr74u1TMd6bTxFRNKxhPceY8wnUcyS6T5XAPdiNcFPA34JnAysEZG+tk235jc1FiNFURzsN8MXsJqwLvM4Od3BJUAecCiWI8orInKCMWa7p6nqGm4CfFiON0mPMWYDsMEVtFpE3gDWAT8Gbu3uNGlNqXspI/IbYbQ3jAOd1vILzhtUGVAgItKGneeIiA+rLf1Q4DRjzA7X7rbyWxajXcLkF8AY85Ex5m27f+UkIAf4L3t3rGU61mvjGXaT1S3AfwMZIlIgIgX27sDvHiTpfQ5gjHkXq1Y8wQ7q1vyqKHUvm7DaXcMZCWzu5rR0B5uAIhHJCgsfCdTj9CFtAjKAwyLYQYJcGxFJA54BxmO5qn8QZtLa/f3SGFPlsovluiQcxphyrPQF+gdiLdOxXhsvORTIxHKwKXNtYNUQy4DRHAT32SbQnN6t+VVR6l6WA5NE5NBAgFgDTo+39yUbLwJpwHmBABFJBS4A/m6MqbODV2J57cwMi38xlgfUtm5Ia6uISArWGIxpwDnGmLURzJYDg0Sk2BUvD5hO6P2N9bokHCLSDzgSaxwSxF6mY702XrIRa4xc+AaWUE3FerAm9X0WkfFYrv/r7KDuza/XfvIH0wZkYxXqD7BcKWcA7wGfAzlep68D+TnX3v6A9Vb1Q/t3scvmSaw3zCuxmn6eAWqBY8OOdZcd/jOssRN/wBo8e5bX+bTTF8jjfEIHGU7CHkCI9ZL3L+Ar4EIsV/dVWM0Wh4QdL6br4nGen8Nqyjob64F8NfAx1uDI4e0p0+25Nom20XKcUtLcZ6wXrfnA/8N64boBa1Dsl0BvL/Lr+UU52DZgCPAs1qj4/cDzRJgJ4UDY7D9rpG2Vy8YHLMRyI67F8uQ6McKxemB1qn6B5en1PnCu13l0pW97K/md57LrCTxi/2FrsAYAj4lwvJiui8d5/jnwji1CNViDIP8UXl5jLdOxXptE28JFKZnuM/AL+79WgdVa8RXwZ2CAV/kV+0CKoiiK4jnap6QoiqIkDCpKiqIoSsKgoqQoiqIkDCpKiqIoSsKgoqQoiqIkDCpKiqIoSsKgoqQoiqIkDCpKiqIoSsKgoqQoiqIkDCpKiqIoSsKgoqQoSYKIzBYRIyLTROQmEdkmInUi8qGIzPA6fYoSC7ryrKIkHwuw/tuLAAGuB54VkRHGmM89TZmitIGKkqIkH6nAJGNMA4CIvA6sB76Ps2KsoiQk2nynKMnHHwKCBGCMeQdrSYnDo0dRlMRARUn5/+3dsQ2AMBAEwXcN9N8iHaCnARNAYE7WTOjostVHZj+zn3rPqjpWD4G3RAn2cz28j6Ur4ANRAiCGKAEQQ5QAiCFKAMQY3f33BgCoKpcSAEFECYAYogRADFECIIYoARBDlACIIUoAxBAlAGKIEgAxRAmAGDd4hAasG+uzoQAAAABJRU5ErkJggg==\n",
                "text/plain": "<Figure size 432x288 with 1 Axes>"
              },
              {
                "output_type": "stream",
                "metadata": {
                  "tags": []
                },
                "text": "|| P_Poisson - P_Binomial ||₁ =  0.05110475282471242\n",
                "stream": "stdout"
              }
            ],
            "_view_module": "@jupyter-widgets/output",
            "_model_module_version": "1.0.0",
            "_view_count": null,
            "_view_module_version": "1.0.0",
            "layout": "IPY_MODEL_d8ed72eb725f4296a56e8ff2a7bd3e9e",
            "_model_module": "@jupyter-widgets/output"
          }
        },
        "139f56bf780341faa449b7e93605327a": {
          "model_module": "@jupyter-widgets/controls",
          "model_name": "SliderStyleModel",
          "state": {
            "_view_name": "StyleView",
            "handle_color": null,
            "_model_name": "SliderStyleModel",
            "description_width": "",
            "_view_module": "@jupyter-widgets/base",
            "_model_module_version": "1.5.0",
            "_view_count": null,
            "_view_module_version": "1.2.0",
            "_model_module": "@jupyter-widgets/controls"
          }
        },
        "bb5ae8808b144e889aa39be559852aa8": {
          "model_module": "@jupyter-widgets/base",
          "model_name": "LayoutModel",
          "state": {
            "_view_name": "LayoutView",
            "grid_template_rows": null,
            "right": null,
            "justify_content": null,
            "_view_module": "@jupyter-widgets/base",
            "overflow": null,
            "_model_module_version": "1.2.0",
            "_view_count": null,
            "flex_flow": null,
            "width": null,
            "min_width": null,
            "border": null,
            "align_items": null,
            "bottom": null,
            "_model_module": "@jupyter-widgets/base",
            "top": null,
            "grid_column": null,
            "overflow_y": null,
            "overflow_x": null,
            "grid_auto_flow": null,
            "grid_area": null,
            "grid_template_columns": null,
            "flex": null,
            "_model_name": "LayoutModel",
            "justify_items": null,
            "grid_row": null,
            "max_height": null,
            "align_content": null,
            "visibility": null,
            "align_self": null,
            "height": null,
            "min_height": null,
            "padding": null,
            "grid_auto_rows": null,
            "grid_gap": null,
            "max_width": null,
            "order": null,
            "_view_module_version": "1.2.0",
            "grid_template_areas": null,
            "object_position": null,
            "object_fit": null,
            "grid_auto_columns": null,
            "margin": null,
            "display": null,
            "left": null
          }
        },
        "2f9afefc85dd4c28978188e8d43a11c1": {
          "model_module": "@jupyter-widgets/controls",
          "model_name": "SliderStyleModel",
          "state": {
            "_view_name": "StyleView",
            "handle_color": null,
            "_model_name": "SliderStyleModel",
            "description_width": "",
            "_view_module": "@jupyter-widgets/base",
            "_model_module_version": "1.5.0",
            "_view_count": null,
            "_view_module_version": "1.2.0",
            "_model_module": "@jupyter-widgets/controls"
          }
        },
        "d057c04bde8845df99e4125b7e187423": {
          "model_module": "@jupyter-widgets/base",
          "model_name": "LayoutModel",
          "state": {
            "_view_name": "LayoutView",
            "grid_template_rows": null,
            "right": null,
            "justify_content": null,
            "_view_module": "@jupyter-widgets/base",
            "overflow": null,
            "_model_module_version": "1.2.0",
            "_view_count": null,
            "flex_flow": null,
            "width": null,
            "min_width": null,
            "border": null,
            "align_items": null,
            "bottom": null,
            "_model_module": "@jupyter-widgets/base",
            "top": null,
            "grid_column": null,
            "overflow_y": null,
            "overflow_x": null,
            "grid_auto_flow": null,
            "grid_area": null,
            "grid_template_columns": null,
            "flex": null,
            "_model_name": "LayoutModel",
            "justify_items": null,
            "grid_row": null,
            "max_height": null,
            "align_content": null,
            "visibility": null,
            "align_self": null,
            "height": null,
            "min_height": null,
            "padding": null,
            "grid_auto_rows": null,
            "grid_gap": null,
            "max_width": null,
            "order": null,
            "_view_module_version": "1.2.0",
            "grid_template_areas": null,
            "object_position": null,
            "object_fit": null,
            "grid_auto_columns": null,
            "margin": null,
            "display": null,
            "left": null
          }
        },
        "d8ed72eb725f4296a56e8ff2a7bd3e9e": {
          "model_module": "@jupyter-widgets/base",
          "model_name": "LayoutModel",
          "state": {
            "_view_name": "LayoutView",
            "grid_template_rows": null,
            "right": null,
            "justify_content": null,
            "_view_module": "@jupyter-widgets/base",
            "overflow": null,
            "_model_module_version": "1.2.0",
            "_view_count": null,
            "flex_flow": null,
            "width": null,
            "min_width": null,
            "border": null,
            "align_items": null,
            "bottom": null,
            "_model_module": "@jupyter-widgets/base",
            "top": null,
            "grid_column": null,
            "overflow_y": null,
            "overflow_x": null,
            "grid_auto_flow": null,
            "grid_area": null,
            "grid_template_columns": null,
            "flex": null,
            "_model_name": "LayoutModel",
            "justify_items": null,
            "grid_row": null,
            "max_height": null,
            "align_content": null,
            "visibility": null,
            "align_self": null,
            "height": null,
            "min_height": null,
            "padding": null,
            "grid_auto_rows": null,
            "grid_gap": null,
            "max_width": null,
            "order": null,
            "_view_module_version": "1.2.0",
            "grid_template_areas": null,
            "object_position": null,
            "object_fit": null,
            "grid_auto_columns": null,
            "margin": null,
            "display": null,
            "left": null
          }
        },
        "a684a41223ff4ad8920114623f115e85": {
          "model_module": "@jupyter-widgets/controls",
          "model_name": "VBoxModel",
          "state": {
            "_view_name": "VBoxView",
            "_dom_classes": [
              "widget-interact"
            ],
            "_model_name": "VBoxModel",
            "_view_module": "@jupyter-widgets/controls",
            "_model_module_version": "1.5.0",
            "_view_count": null,
            "_view_module_version": "1.5.0",
            "box_style": "",
            "layout": "IPY_MODEL_5dae8986078b4e578a4ebe60eb9c91b9",
            "_model_module": "@jupyter-widgets/controls",
            "children": [
              "IPY_MODEL_642dd555fe03494cab840101fbefced2",
              "IPY_MODEL_addfefe1aa7440e6b573d65ae7a4688a",
              "IPY_MODEL_e56687cd58db45fa94ea1e77338cafcb",
              "IPY_MODEL_046a75df9b414ba590031a4e079e0d36"
            ]
          }
        },
        "5dae8986078b4e578a4ebe60eb9c91b9": {
          "model_module": "@jupyter-widgets/base",
          "model_name": "LayoutModel",
          "state": {
            "_view_name": "LayoutView",
            "grid_template_rows": null,
            "right": null,
            "justify_content": null,
            "_view_module": "@jupyter-widgets/base",
            "overflow": null,
            "_model_module_version": "1.2.0",
            "_view_count": null,
            "flex_flow": null,
            "width": null,
            "min_width": null,
            "border": null,
            "align_items": null,
            "bottom": null,
            "_model_module": "@jupyter-widgets/base",
            "top": null,
            "grid_column": null,
            "overflow_y": null,
            "overflow_x": null,
            "grid_auto_flow": null,
            "grid_area": null,
            "grid_template_columns": null,
            "flex": null,
            "_model_name": "LayoutModel",
            "justify_items": null,
            "grid_row": null,
            "max_height": null,
            "align_content": null,
            "visibility": null,
            "align_self": null,
            "height": null,
            "min_height": null,
            "padding": null,
            "grid_auto_rows": null,
            "grid_gap": null,
            "max_width": null,
            "order": null,
            "_view_module_version": "1.2.0",
            "grid_template_areas": null,
            "object_position": null,
            "object_fit": null,
            "grid_auto_columns": null,
            "margin": null,
            "display": null,
            "left": null
          }
        },
        "642dd555fe03494cab840101fbefced2": {
          "model_module": "@jupyter-widgets/controls",
          "model_name": "IntSliderModel",
          "state": {
            "_view_name": "IntSliderView",
            "style": "IPY_MODEL_21e1c05c210c4fda88443290cccbc96f",
            "_dom_classes": [],
            "description": "n",
            "step": 1,
            "_model_name": "IntSliderModel",
            "orientation": "horizontal",
            "max": 200,
            "_view_module": "@jupyter-widgets/controls",
            "_model_module_version": "1.5.0",
            "value": 100,
            "_view_count": null,
            "disabled": false,
            "_view_module_version": "1.5.0",
            "min": 1,
            "continuous_update": true,
            "readout_format": "d",
            "description_tooltip": null,
            "readout": true,
            "_model_module": "@jupyter-widgets/controls",
            "layout": "IPY_MODEL_52f9d7a89f6d4b2a9e62f1eb45541000"
          }
        },
        "addfefe1aa7440e6b573d65ae7a4688a": {
          "model_module": "@jupyter-widgets/controls",
          "model_name": "FloatSliderModel",
          "state": {
            "_view_name": "FloatSliderView",
            "style": "IPY_MODEL_f3207814bb0d4688850273424ece5746",
            "_dom_classes": [],
            "description": "p",
            "step": 0.1,
            "_model_name": "FloatSliderModel",
            "orientation": "horizontal",
            "max": 1,
            "_view_module": "@jupyter-widgets/controls",
            "_model_module_version": "1.5.0",
            "value": 0.5,
            "_view_count": null,
            "disabled": false,
            "_view_module_version": "1.5.0",
            "min": 0,
            "continuous_update": true,
            "readout_format": ".2f",
            "description_tooltip": null,
            "readout": true,
            "_model_module": "@jupyter-widgets/controls",
            "layout": "IPY_MODEL_bf3bab0020d94693aa4ebce2ad1cfab6"
          }
        },
        "e56687cd58db45fa94ea1e77338cafcb": {
          "model_module": "@jupyter-widgets/controls",
          "model_name": "CheckboxModel",
          "state": {
            "_view_name": "CheckboxView",
            "style": "IPY_MODEL_703728b587dc429581098c43360ca003",
            "_dom_classes": [],
            "description": "CDF",
            "_model_name": "CheckboxModel",
            "_view_module": "@jupyter-widgets/controls",
            "_model_module_version": "1.5.0",
            "value": false,
            "_view_count": null,
            "disabled": false,
            "_view_module_version": "1.5.0",
            "indent": true,
            "description_tooltip": null,
            "_model_module": "@jupyter-widgets/controls",
            "layout": "IPY_MODEL_34ca1aa636874176889a4c56d7f09197"
          }
        },
        "046a75df9b414ba590031a4e079e0d36": {
          "model_module": "@jupyter-widgets/output",
          "model_name": "OutputModel",
          "state": {
            "_view_name": "OutputView",
            "msg_id": "",
            "_dom_classes": [],
            "_model_name": "OutputModel",
            "outputs": [
              {
                "output_type": "display_data",
                "metadata": {
                  "tags": [],
                  "needs_background": "light"
                },
                "image/png": "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\n",
                "text/plain": "<Figure size 432x288 with 1 Axes>"
              }
            ],
            "_view_module": "@jupyter-widgets/output",
            "_model_module_version": "1.0.0",
            "_view_count": null,
            "_view_module_version": "1.0.0",
            "layout": "IPY_MODEL_e1e0a620c13245d8bdf1e58188081da5",
            "_model_module": "@jupyter-widgets/output"
          }
        },
        "21e1c05c210c4fda88443290cccbc96f": {
          "model_module": "@jupyter-widgets/controls",
          "model_name": "SliderStyleModel",
          "state": {
            "_view_name": "StyleView",
            "handle_color": null,
            "_model_name": "SliderStyleModel",
            "description_width": "",
            "_view_module": "@jupyter-widgets/base",
            "_model_module_version": "1.5.0",
            "_view_count": null,
            "_view_module_version": "1.2.0",
            "_model_module": "@jupyter-widgets/controls"
          }
        },
        "52f9d7a89f6d4b2a9e62f1eb45541000": {
          "model_module": "@jupyter-widgets/base",
          "model_name": "LayoutModel",
          "state": {
            "_view_name": "LayoutView",
            "grid_template_rows": null,
            "right": null,
            "justify_content": null,
            "_view_module": "@jupyter-widgets/base",
            "overflow": null,
            "_model_module_version": "1.2.0",
            "_view_count": null,
            "flex_flow": null,
            "width": null,
            "min_width": null,
            "border": null,
            "align_items": null,
            "bottom": null,
            "_model_module": "@jupyter-widgets/base",
            "top": null,
            "grid_column": null,
            "overflow_y": null,
            "overflow_x": null,
            "grid_auto_flow": null,
            "grid_area": null,
            "grid_template_columns": null,
            "flex": null,
            "_model_name": "LayoutModel",
            "justify_items": null,
            "grid_row": null,
            "max_height": null,
            "align_content": null,
            "visibility": null,
            "align_self": null,
            "height": null,
            "min_height": null,
            "padding": null,
            "grid_auto_rows": null,
            "grid_gap": null,
            "max_width": null,
            "order": null,
            "_view_module_version": "1.2.0",
            "grid_template_areas": null,
            "object_position": null,
            "object_fit": null,
            "grid_auto_columns": null,
            "margin": null,
            "display": null,
            "left": null
          }
        },
        "f3207814bb0d4688850273424ece5746": {
          "model_module": "@jupyter-widgets/controls",
          "model_name": "SliderStyleModel",
          "state": {
            "_view_name": "StyleView",
            "handle_color": null,
            "_model_name": "SliderStyleModel",
            "description_width": "",
            "_view_module": "@jupyter-widgets/base",
            "_model_module_version": "1.5.0",
            "_view_count": null,
            "_view_module_version": "1.2.0",
            "_model_module": "@jupyter-widgets/controls"
          }
        },
        "bf3bab0020d94693aa4ebce2ad1cfab6": {
          "model_module": "@jupyter-widgets/base",
          "model_name": "LayoutModel",
          "state": {
            "_view_name": "LayoutView",
            "grid_template_rows": null,
            "right": null,
            "justify_content": null,
            "_view_module": "@jupyter-widgets/base",
            "overflow": null,
            "_model_module_version": "1.2.0",
            "_view_count": null,
            "flex_flow": null,
            "width": null,
            "min_width": null,
            "border": null,
            "align_items": null,
            "bottom": null,
            "_model_module": "@jupyter-widgets/base",
            "top": null,
            "grid_column": null,
            "overflow_y": null,
            "overflow_x": null,
            "grid_auto_flow": null,
            "grid_area": null,
            "grid_template_columns": null,
            "flex": null,
            "_model_name": "LayoutModel",
            "justify_items": null,
            "grid_row": null,
            "max_height": null,
            "align_content": null,
            "visibility": null,
            "align_self": null,
            "height": null,
            "min_height": null,
            "padding": null,
            "grid_auto_rows": null,
            "grid_gap": null,
            "max_width": null,
            "order": null,
            "_view_module_version": "1.2.0",
            "grid_template_areas": null,
            "object_position": null,
            "object_fit": null,
            "grid_auto_columns": null,
            "margin": null,
            "display": null,
            "left": null
          }
        },
        "703728b587dc429581098c43360ca003": {
          "model_module": "@jupyter-widgets/controls",
          "model_name": "DescriptionStyleModel",
          "state": {
            "_view_name": "StyleView",
            "_model_name": "DescriptionStyleModel",
            "description_width": "",
            "_view_module": "@jupyter-widgets/base",
            "_model_module_version": "1.5.0",
            "_view_count": null,
            "_view_module_version": "1.2.0",
            "_model_module": "@jupyter-widgets/controls"
          }
        },
        "34ca1aa636874176889a4c56d7f09197": {
          "model_module": "@jupyter-widgets/base",
          "model_name": "LayoutModel",
          "state": {
            "_view_name": "LayoutView",
            "grid_template_rows": null,
            "right": null,
            "justify_content": null,
            "_view_module": "@jupyter-widgets/base",
            "overflow": null,
            "_model_module_version": "1.2.0",
            "_view_count": null,
            "flex_flow": null,
            "width": null,
            "min_width": null,
            "border": null,
            "align_items": null,
            "bottom": null,
            "_model_module": "@jupyter-widgets/base",
            "top": null,
            "grid_column": null,
            "overflow_y": null,
            "overflow_x": null,
            "grid_auto_flow": null,
            "grid_area": null,
            "grid_template_columns": null,
            "flex": null,
            "_model_name": "LayoutModel",
            "justify_items": null,
            "grid_row": null,
            "max_height": null,
            "align_content": null,
            "visibility": null,
            "align_self": null,
            "height": null,
            "min_height": null,
            "padding": null,
            "grid_auto_rows": null,
            "grid_gap": null,
            "max_width": null,
            "order": null,
            "_view_module_version": "1.2.0",
            "grid_template_areas": null,
            "object_position": null,
            "object_fit": null,
            "grid_auto_columns": null,
            "margin": null,
            "display": null,
            "left": null
          }
        },
        "e1e0a620c13245d8bdf1e58188081da5": {
          "model_module": "@jupyter-widgets/base",
          "model_name": "LayoutModel",
          "state": {
            "_view_name": "LayoutView",
            "grid_template_rows": null,
            "right": null,
            "justify_content": null,
            "_view_module": "@jupyter-widgets/base",
            "overflow": null,
            "_model_module_version": "1.2.0",
            "_view_count": null,
            "flex_flow": null,
            "width": null,
            "min_width": null,
            "border": null,
            "align_items": null,
            "bottom": null,
            "_model_module": "@jupyter-widgets/base",
            "top": null,
            "grid_column": null,
            "overflow_y": null,
            "overflow_x": null,
            "grid_auto_flow": null,
            "grid_area": null,
            "grid_template_columns": null,
            "flex": null,
            "_model_name": "LayoutModel",
            "justify_items": null,
            "grid_row": null,
            "max_height": null,
            "align_content": null,
            "visibility": null,
            "align_self": null,
            "height": null,
            "min_height": null,
            "padding": null,
            "grid_auto_rows": null,
            "grid_gap": null,
            "max_width": null,
            "order": null,
            "_view_module_version": "1.2.0",
            "grid_template_areas": null,
            "object_position": null,
            "object_fit": null,
            "grid_auto_columns": null,
            "margin": null,
            "display": null,
            "left": null
          }
        }
      }
    }
  },
  "cells": [
    {
      "cell_type": "markdown",
      "metadata": {
        "id": "view-in-github",
        "colab_type": "text"
      },
      "source": [
        "<a href=\"https://colab.research.google.com/github/yongxuantan/Python-for-atmospheric-science/blob/master/Statistical%20Methods%20with%20Widget%20Visual/Discrete_Probability_Distribution.ipynb\" target=\"_parent\"><img src=\"https://colab.research.google.com/assets/colab-badge.svg\" alt=\"Open In Colab\"/></a>"
      ]
    },
    {
      "cell_type": "markdown",
      "metadata": {
        "collapsed": true,
        "id": "EnwYj-fnFBMm"
      },
      "source": [
        "# Discrete Probability Distributions"
      ]
    },
    {
      "cell_type": "markdown",
      "metadata": {
        "id": "ktFuZl7UFBMp"
      },
      "source": [
        "We use `scipy.stats` to demonstrate the pdf, cdf, and sampling from several distribution families. First we import a few helpful libraries. "
      ]
    },
    {
      "cell_type": "code",
      "metadata": {
        "id": "PSFPuSHmFBMq"
      },
      "source": [
        "from scipy.stats import bernoulli, binom, poisson\n",
        "import matplotlib.pyplot as plt\n",
        "import numpy as np\n",
        "import ipywidgets as widgets\n",
        "\n",
        "# Properties for plots\n",
        "plt.style.use([{\n",
        "    \"figure.figsize\":(12,9), # Figure size\n",
        "    \"xtick.labelsize\": \"large\", # Font size of the X-ticks\n",
        "    \"ytick.labelsize\": \"large\", # Font size of the Y-ticks\n",
        "    \"legend.fontsize\": \"x-large\", # Font size of the legend\n",
        "    \"axes.labelsize\": \"x-large\", # Font size of labels\n",
        "    \"axes.titlesize\": \"xx-large\", # Font size of title\n",
        "    \"axes.spines.top\": False,\n",
        "    \"axes.spines.right\": False,\n",
        "},'seaborn-poster'])"
      ],
      "execution_count": 1,
      "outputs": []
    },
    {
      "cell_type": "markdown",
      "metadata": {
        "id": "uD8Ebu-TFBMx"
      },
      "source": [
        "## 1. Bernoulli"
      ]
    },
    {
      "cell_type": "markdown",
      "metadata": {
        "collapsed": true,
        "id": "HE49hoeyFBMy"
      },
      "source": [
        "Let's explore the basic methods for a Bernoulli random variable. "
      ]
    },
    {
      "cell_type": "code",
      "metadata": {
        "id": "EETEgzFqFBMz",
        "outputId": "fd0c039d-229e-4d9a-dc25-cf4b3d18d4d3",
        "colab": {
          "base_uri": "https://localhost:8080/",
          "height": 34
        }
      },
      "source": [
        "print(bernoulli.pmf(0,p=.3))"
      ],
      "execution_count": 2,
      "outputs": [
        {
          "output_type": "stream",
          "text": [
            "0.7000000000000001\n"
          ],
          "name": "stdout"
        }
      ]
    },
    {
      "cell_type": "code",
      "metadata": {
        "id": "GvYa2SvGFBM3",
        "outputId": "37bc3e13-3ec0-43e4-9fcc-51faa49cb905",
        "colab": {
          "base_uri": "https://localhost:8080/",
          "height": 34
        }
      },
      "source": [
        "print(bernoulli.pmf(range(3),p=.3))"
      ],
      "execution_count": 3,
      "outputs": [
        {
          "output_type": "stream",
          "text": [
            "[0.7 0.3 0. ]\n"
          ],
          "name": "stdout"
        }
      ]
    },
    {
      "cell_type": "code",
      "metadata": {
        "id": "fvTfmYsaFBM7",
        "outputId": "87f7daaa-ccfd-4a86-8610-002ff59eec13",
        "colab": {
          "base_uri": "https://localhost:8080/",
          "height": 34
        }
      },
      "source": [
        "print(bernoulli.cdf([0,.5,1,1.5],p=.3))"
      ],
      "execution_count": 4,
      "outputs": [
        {
          "output_type": "stream",
          "text": [
            "[0.7 0.7 1.  1. ]\n"
          ],
          "name": "stdout"
        }
      ]
    },
    {
      "cell_type": "markdown",
      "metadata": {
        "id": "HMeJeohLFBM-"
      },
      "source": [
        "Next plot the pdf and cdf. For simplicity we are omitting labels and legend, we will see how to plot them in the next subsection. "
      ]
    },
    {
      "cell_type": "code",
      "metadata": {
        "id": "ok1DuFLdFBM-",
        "outputId": "e276ef6c-a2ad-4c03-db92-e454e5750a12",
        "colab": {
          "base_uri": "https://localhost:8080/",
          "height": 332
        }
      },
      "source": [
        "plt.stem([-0.2,0,1,1.2],bernoulli.pmf([-0.2,0,1,1.2],p=.3))\n",
        "plt.plot(np.linspace(-0.1,1.1,1200),bernoulli.cdf(np.linspace(-0.1,1.1,1200),p=0.3),'g')\n",
        "plt.xlim([-0.1,1.1])\n",
        "plt.ylim([-0.2,1.1])\n",
        "plt.show()"
      ],
      "execution_count": 5,
      "outputs": [
        {
          "output_type": "stream",
          "text": [
            "/usr/local/lib/python3.6/dist-packages/ipykernel_launcher.py:1: UserWarning: In Matplotlib 3.3 individual lines on a stem plot will be added as a LineCollection instead of individual lines. This significantly improves the performance of a stem plot. To remove this warning and switch to the new behaviour, set the \"use_line_collection\" keyword argument to True.\n",
            "  \"\"\"Entry point for launching an IPython kernel.\n"
          ],
          "name": "stderr"
        },
        {
          "output_type": "display_data",
          "data": {
            "image/png": "[encoded data removed]",
            "text/plain": [
              "<Figure size 432x288 with 1 Axes>"
            ]
          },
          "metadata": {
            "tags": [],
            "needs_background": "light"
          }
        }
      ]
    },
    {
      "cell_type": "markdown",
      "metadata": {
        "id": "Rr9oS_NAFBNB"
      },
      "source": [
        "Next we generate and then plot Bernoulli samples."
      ]
    },
    {
      "cell_type": "code",
      "metadata": {
        "id": "IACbxI58FBNC",
        "outputId": "61a52687-820e-488d-dad7-8099567ebe46",
        "colab": {
          "base_uri": "https://localhost:8080/",
          "height": 34
        }
      },
      "source": [
        "print(bernoulli.rvs(size=10,p=0.3))"
      ],
      "execution_count": 6,
      "outputs": [
        {
          "output_type": "stream",
          "text": [
            "[1 0 0 0 0 0 1 0 0 0]\n"
          ],
          "name": "stdout"
        }
      ]
    },
    {
      "cell_type": "code",
      "metadata": {
        "id": "BgpfPzODFBNM",
        "outputId": "a5ad9d9b-5d83-47c9-98d8-7b4e10a1c653",
        "colab": {
          "base_uri": "https://localhost:8080/",
          "height": 278
        }
      },
      "source": [
        "#plt.hist(bernoulli.rvs(size=10,p=0.3),normed=True)\n",
        "plt.hist(bernoulli.rvs(size=10,p=0.3),density=True)\n",
        "plt.show()"
      ],
      "execution_count": 7,
      "outputs": [
        {
          "output_type": "display_data",
          "data": {
            "image/png": "[encoded data removed]",
            "text/plain": [
              "<Figure size 432x288 with 1 Axes>"
            ]
          },
          "metadata": {
            "tags": [],
            "needs_background": "light"
          }
        }
      ]
    },
    {
      "cell_type": "markdown",
      "metadata": {
        "id": "AtYF-00qFBNO"
      },
      "source": [
        "## 2. Binomial"
      ]
    },
    {
      "cell_type": "markdown",
      "metadata": {
        "id": "QqANCMP-FBNP"
      },
      "source": [
        "You can calculate the pdf and cdf of the Binomial distribution the same way we did for Bernoulli, just replace `bernoulli.pmf` by `binom.pmf` etc. and including the appropriate arguments. Here is one example."
      ]
    },
    {
      "cell_type": "code",
      "metadata": {
        "id": "BBpOhLF5FBNP",
        "outputId": "682172d8-2bf5-4453-ec10-8c820a3892b6",
        "colab": {
          "base_uri": "https://localhost:8080/",
          "height": 68
        }
      },
      "source": [
        "print(binom.rvs(size=50,n=20, p=0.4))"
      ],
      "execution_count": 8,
      "outputs": [
        {
          "output_type": "stream",
          "text": [
            "[ 8  8 10  5  9  8  2 11  6 10  9  7  9 12  9  7 11  7  7  9  8  5 12  7\n",
            "  8  7  8  8 13  6 11  9  7 10  7  9  8 10  9  4  9 12  7  7  6  8 10  9\n",
            " 13  7]\n"
          ],
          "name": "stdout"
        }
      ]
    },
    {
      "cell_type": "markdown",
      "metadata": {
        "id": "lz7JRA_NFBNS"
      },
      "source": [
        "The following code plots the probability mass function (PMF) of $B_{p,n}$, the binomial distribution with parameters $p$ and $n$. It contains interactive sliders that you can use to vary $n$ over the interval $[0,30]$ and $p$ over the interval $[0, 1]$."
      ]
    },
    {
      "cell_type": "code",
      "metadata": {
        "id": "Sl9POveXFBNT",
        "outputId": "0be6aaf5-4bf3-4416-c1f4-1cf1511760a1",
        "colab": {
          "base_uri": "https://localhost:8080/",
          "height": 449,
          "referenced_widgets": [
            "f961e840f8654fbc834eddc4a72be5a6",
            "a697991e54b44a5d9f5aadb746cb33d2",
            "d7c25f0b8a8045e1b0d29c167a145a8d",
            "7226220a22ea4f62a37403fff2f86539",
            "da324d0f5f7c4eceba0463454c052caf",
            "d01c4b4b127046478b629a22f14d8d2c",
            "18519f200ddf45b8958102baa9a011a9",
            "43b9e7ae7c6340228186336b00c8e273",
            "2f4382e320714bbda98b6573cb8ac159",
            "097b732614ab4a92b22ba28260c83507",
            "a8b0c94b58ee47ae96310876b8d29cec",
            "31c9d2b4c3ef423190e19a58c18da464",
            "d0d3754275144c54b7da5ba57274beda",
            "ee2afc517dda41eaa7a8033e53dba41c",
            "182d7065f4bd49ee87aaed3eafbd1225",
            "ca0d4eb0a30f4a689feedbefbabe1bf6"
          ]
        }
      },
      "source": [
        "@widgets.interact(n=(0,30),p=(0.0,1.0),samples=(1,1000), continuous_update=False)\n",
        "def plot_pmf(n, p,samples=100,histogram=False):\n",
        "    '''\n",
        "    Plot the probability mass function of Binom(n, p)\n",
        "    '''\n",
        "    k = np.arange(0, n + 1)\n",
        "    P_binom = binom.pmf(k, n, p)\n",
        "    # This plots a bar plot\n",
        "    # plt.bar(k, P_binom,color='b')\n",
        "    plt.plot(k, P_binom, '-o', color='r')\n",
        "    if histogram:\n",
        "        height,y = np.histogram(binom.rvs(size=samples,n=n,p=p),range=(0,n),bins=n+1,normed=True)\n",
        "        plt.bar(k,height,color='r')\n",
        "    plt.title('PMF of Bin(%i, %.2f)' % (n, p))\n",
        "    plt.xlabel('k')\n",
        "    plt.ylabel('$B_{20,0.3}(k)$')\n",
        "    plt.show()"
      ],
      "execution_count": 9,
      "outputs": [
        {
          "output_type": "display_data",
          "data": {
            "application/vnd.jupyter.widget-view+json": {
              "model_id": "f961e840f8654fbc834eddc4a72be5a6",
              "version_minor": 0,
              "version_major": 2
            },
            "text/plain": [
              "interactive(children=(IntSlider(value=15, description='n', max=30), FloatSlider(value=0.5, description='p', ma…"
            ]
          },
          "metadata": {
            "tags": []
          }
        }
      ]
    },
    {
      "cell_type": "markdown",
      "metadata": {
        "id": "J6BQ1t-4FBNW"
      },
      "source": [
        "## 3. Poisson"
      ]
    },
    {
      "cell_type": "markdown",
      "metadata": {
        "collapsed": true,
        "id": "bD-QSPMfFBNX"
      },
      "source": [
        "### 3.1 PMF\n",
        "We follow the same procedure to plot the Poisson PMF."
      ]
    },
    {
      "cell_type": "code",
      "metadata": {
        "id": "qRi795TqFBNY",
        "outputId": "0425d1d8-da34-4001-a84c-2c59b39c479e",
        "colab": {
          "base_uri": "https://localhost:8080/",
          "height": 460,
          "referenced_widgets": [
            "86104c3c99c14a18977fbae8ca76c354",
            "b661c67639614ce7bc28b6ec3c12e54b",
            "10039ad4126146a78b76e6de541c7f79",
            "1ffc46fa10184f109860e163c884eb76",
            "77fb3cefed4f44b6954d09f270c220fd",
            "818236b5d1214438af33c9a595951d84",
            "5abffabb39754069a55c474d57ccea3d",
            "044dfe145b924d62b1fdc4439a5cde46",
            "300b800579914a7498a12e915899cc61",
            "e2813803e39a4b108f29afa5d085df80",
            "e0f20a3ff9b6496b95a35570942b37e0",
            "cb024065bb37445da4923665835d7900",
            "03bec0f5411a4d6eb5d6e2275adb79ae",
            "35061a28739642f2a3608375f470be7c",
            "919d637979bf482d9126851f7653a122",
            "12720f014fef4ce281ab6482ec1a4fde"
          ]
        }
      },
      "source": [
        "@widgets.interact(n=(0,50),samples=(1,1000),λ=(0.0,30.0))\n",
        "def f(n, λ, samples=100,histogram=False):\n",
        "    k = np.arange(0, n+1)\n",
        "    P_poisson = poisson.pmf(k, λ)\n",
        "    plt.plot(k, P_poisson, '-o')\n",
        "    if histogram:\n",
        "        height,y = np.histogram(poisson.rvs(size=samples,mu=λ),range=(0,n),bins=n+1,normed=True)\n",
        "        plt.bar(k,height,color='r')\n",
        "    plt.title('PMF of Poisson(%i)' %λ)\n",
        "    plt.xlabel('Number of Events')\n",
        "    plt.ylabel('Probability of Number of Events')\n",
        "    plt.show()"
      ],
      "execution_count": 10,
      "outputs": [
        {
          "output_type": "display_data",
          "data": {
            "application/vnd.jupyter.widget-view+json": {
              "model_id": "86104c3c99c14a18977fbae8ca76c354",
              "version_minor": 0,
              "version_major": 2
            },
            "text/plain": [
              "interactive(children=(IntSlider(value=25, description='n', max=50), FloatSlider(value=15.0, description='λ', m…"
            ]
          },
          "metadata": {
            "tags": []
          }
        }
      ]
    },
    {
      "cell_type": "markdown",
      "metadata": {
        "id": "ooyd6Y7DFBNd"
      },
      "source": [
        "### 3.2 Poisson Approximation of the Binomial Distribution\n",
        "Observe how well Poisson$(np)$ approximates Binomial$(n, p)$ for small values of $p$."
      ]
    },
    {
      "cell_type": "code",
      "metadata": {
        "id": "NBhjHZ2cFBNe",
        "outputId": "6c01dacb-2a6f-4800-cfa8-1ba25be8d79a",
        "colab": {
          "base_uri": "https://localhost:8080/",
          "height": 402,
          "referenced_widgets": [
            "175c44e729cf419190884f3004bb20fd",
            "e8820ab698be4b9898ea3a3f1a905b77",
            "e918d7fd4e4948d99e045ce7937e80f8",
            "76da72485141470cb36b887d428e3e21",
            "25aaa454d83c41dd8204ca90a6c8739b",
            "139f56bf780341faa449b7e93605327a",
            "bb5ae8808b144e889aa39be559852aa8",
            "2f9afefc85dd4c28978188e8d43a11c1",
            "d057c04bde8845df99e4125b7e187423",
            "d8ed72eb725f4296a56e8ff2a7bd3e9e"
          ]
        }
      },
      "source": [
        "import numpy as np\n",
        "import matplotlib.pyplot as plt\n",
        "\n",
        "e = np.e\n",
        "@widgets.interact(n=(2,1000),p=(0.0,.2,0.001),continuous_update=False)\n",
        "def f(n, p):\n",
        "    k = np.arange(0, n+1)\n",
        "    x = np.linspace(0, n+1, 1000)\n",
        "    λ = n*p\n",
        "    stddev = λ**0.5\n",
        "    P_poisson = poisson.pmf(k, λ)\n",
        "    P_binom = binom.pmf(k, n, p)\n",
        "    plt.plot(k, P_poisson, 'r', label = \"Poisson(%0.2f)\" %λ)\n",
        "    plt.plot(k, P_binom, 'b-', label = \"Bin(%i, %0.2f)\" %(n,p))\n",
        "    plt.title('Poisson Approximation of Binomial')\n",
        "    plt.xlabel('n')\n",
        "    plt.ylabel('y')\n",
        "    plt.legend()\n",
        "    plt.show()\n",
        "    print('|| P_Poisson - P_Binomial ||\\u2081 = ',sum(abs(P_poisson-P_binom)))\n",
        "   "
      ],
      "execution_count": 11,
      "outputs": [
        {
          "output_type": "display_data",
          "data": {
            "application/vnd.jupyter.widget-view+json": {
              "model_id": "175c44e729cf419190884f3004bb20fd",
              "version_minor": 0,
              "version_major": 2
            },
            "text/plain": [
              "interactive(children=(IntSlider(value=501, description='n', max=1000, min=2), FloatSlider(value=0.1, descripti…"
            ]
          },
          "metadata": {
            "tags": []
          }
        }
      ]
    },
    {
      "cell_type": "markdown",
      "metadata": {
        "id": "mVpvw7ZfFBNh"
      },
      "source": [
        "## 4. Geometric Distribution\n",
        "### 4.1 PMF and CDF"
      ]
    },
    {
      "cell_type": "code",
      "metadata": {
        "id": "UAXWzW5_FBNh",
        "outputId": "32344639-c5f3-4227-8236-3fcf9ef96747",
        "colab": {
          "base_uri": "https://localhost:8080/",
          "height": 417,
          "referenced_widgets": [
            "a684a41223ff4ad8920114623f115e85",
            "5dae8986078b4e578a4ebe60eb9c91b9",
            "642dd555fe03494cab840101fbefced2",
            "addfefe1aa7440e6b573d65ae7a4688a",
            "e56687cd58db45fa94ea1e77338cafcb",
            "046a75df9b414ba590031a4e079e0d36",
            "21e1c05c210c4fda88443290cccbc96f",
            "52f9d7a89f6d4b2a9e62f1eb45541000",
            "f3207814bb0d4688850273424ece5746",
            "bf3bab0020d94693aa4ebce2ad1cfab6",
            "703728b587dc429581098c43360ca003",
            "34ca1aa636874176889a4c56d7f09197",
            "e1e0a620c13245d8bdf1e58188081da5"
          ]
        }
      },
      "source": [
        "@widgets.interact(n=(1,200),p=(0.0,1.0))\n",
        "def f(n, p, CDF=False):\n",
        "    x = np.arange(1, n + 1)\n",
        "    y = [((1 - p)**(z - 1)) * p for z in x]\n",
        "    z = [(1 - (1 - p)**zz) for zz in x]\n",
        "    plt.plot(x, y, 'o-', label='PDF')\n",
        "    if CDF == True:\n",
        "        plt.plot(x, z, 'ro-', label='CDF')\n",
        "    if n == 1:\n",
        "        plt.plot([0, 1], [p, p], 'b')\n",
        "        plt.xticks([1])\n",
        "    plt.xlabel('n')\n",
        "    plt.ylabel('y')\n",
        "    plt.title('PMF of Geometric(%0.2f)' % p, fontsize=20)\n",
        "    plt.legend()\n",
        "    plt.show()"
      ],
      "execution_count": 12,
      "outputs": [
        {
          "output_type": "display_data",
          "data": {
            "application/vnd.jupyter.widget-view+json": {
              "model_id": "a684a41223ff4ad8920114623f115e85",
              "version_minor": 0,
              "version_major": 2
            },
            "text/plain": [
              "interactive(children=(IntSlider(value=100, description='n', max=200, min=1), FloatSlider(value=0.5, descriptio…"
            ]
          },
          "metadata": {
            "tags": []
          }
        }
      ]
    }
  ]
}