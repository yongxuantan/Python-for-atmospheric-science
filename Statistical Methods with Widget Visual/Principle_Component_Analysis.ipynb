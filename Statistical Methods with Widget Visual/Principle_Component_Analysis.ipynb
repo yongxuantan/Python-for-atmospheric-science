{
  "nbformat": 4,
  "nbformat_minor": 0,
  "metadata": {
    "colab": {
      "name": "Principle Component Analysis.ipynb",
      "provenance": [],
      "collapsed_sections": [],
      "authorship_tag": "ABX9TyN4s6Uf/SkKTkQlSUHU8TcE",
      "include_colab_link": true
    },
    "kernelspec": {
      "name": "python3",
      "display_name": "Python 3"
    }
  },
  "cells": [
    {
      "cell_type": "markdown",
      "metadata": {
        "id": "view-in-github",
        "colab_type": "text"
      },
      "source": [
        "<a href=\"https://colab.research.google.com/github/yongxuantan/Python-for-atmospheric-science/blob/master/Statistical%20Methods%20with%20Widget%20Visual/Principle_Component_Analysis.ipynb\" target=\"_parent\"><img src=\"https://colab.research.google.com/assets/colab-badge.svg\" alt=\"Open In Colab\"/></a>"
      ]
    },
    {
      "cell_type": "markdown",
      "metadata": {
        "id": "7peFJJmTOEoh"
      },
      "source": [
        "# Principle components analysis"
      ]
    },
    {
      "cell_type": "code",
      "metadata": {
        "id": "J4AESKUDOEoi",
        "outputId": "bee3278b-e0ff-4fd2-dc97-d54b1f8d9f67",
        "colab": {
          "base_uri": "https://localhost:8080/",
          "height": 34
        }
      },
      "source": [
        "%pylab inline\n",
        "import pandas as pd\n",
        "from numpy import arange,array,ones,linalg"
      ],
      "execution_count": 1,
      "outputs": [
        {
          "output_type": "stream",
          "text": [
            "Populating the interactive namespace from numpy and matplotlib\n"
          ],
          "name": "stdout"
        }
      ]
    },
    {
      "cell_type": "markdown",
      "metadata": {
        "id": "UdW3DlZIOEpZ"
      },
      "source": [
        "## Small example\n",
        "Suppose we have 9 points on the plane, defined by their $(x,y)$ coordinates"
      ]
    },
    {
      "cell_type": "code",
      "metadata": {
        "scrolled": true,
        "id": "g8yRpiGiOEpd",
        "outputId": "a47de3b2-f861-435d-edf3-af436f69c6e1",
        "colab": {
          "base_uri": "https://localhost:8080/",
          "height": 265
        }
      },
      "source": [
        "x = arange(0,9)\n",
        "y = [21, 19, 23, 21, 25, 22, 25, 23, 24]\n",
        "plot(x,y,'bo');"
      ],
      "execution_count": 2,
      "outputs": [
        {
          "output_type": "display_data",
          "data": {
            "image/png": "[encoded data removed]",
            "text/plain": [
              "<Figure size 432x288 with 1 Axes>"
            ]
          },
          "metadata": {
            "tags": [],
            "needs_background": "light"
          }
        }
      ]
    },
    {
      "cell_type": "markdown",
      "metadata": {
        "id": "3ATIKlBXOEp7"
      },
      "source": [
        "* These points are close to a straight line trending upwoards. We would like to find that line. "
      ]
    },
    {
      "cell_type": "markdown",
      "metadata": {
        "id": "lAK7bRoAOEp9"
      },
      "source": [
        "* The line is described by a function of the form: $f_{w_0,w_1}(x) \\doteq w_0+w_1 x$"
      ]
    },
    {
      "cell_type": "markdown",
      "metadata": {
        "id": "i08IJ_7gOEp-"
      },
      "source": [
        "* our goal is to find $w_0$ and $w_1$."
      ]
    },
    {
      "cell_type": "markdown",
      "metadata": {
        "id": "RNzlTw1ZOEp-"
      },
      "source": [
        "* In a previous notabooke we saw how to find a line that passes through 2 points."
      ]
    },
    {
      "cell_type": "markdown",
      "metadata": {
        "id": "upq9PR-pOEqE"
      },
      "source": [
        "* As here we have more than two points the system is **overconstrained** - there is no straight line that passes through all of the points."
      ]
    },
    {
      "cell_type": "markdown",
      "metadata": {
        "id": "qUhwpjJoOEqF"
      },
      "source": [
        "* The points do not fall **exactly** on a line. So we are looking for $w_0,w_1$ \n",
        "such that the line is **closest** to the points."
      ]
    },
    {
      "cell_type": "markdown",
      "metadata": {
        "id": "ZCZuk0JTOEqF"
      },
      "source": [
        "We define the **Square difference** between the line $(w_0,w_1)$ and the points\n",
        "$\\langle (x_1,y_1),(x_2,y_2),\\ldots,(x_n,y_n) \\rangle$ to be \n",
        "$$\\sum_{i=1}^n [f_{w_0,w_1}(x_i)-y_i]^2$$\n",
        "(In our example $n=9$)"
      ]
    },
    {
      "cell_type": "markdown",
      "metadata": {
        "id": "CKbeoo6ZOEqG"
      },
      "source": [
        "The values of $w_0,w_1$ which minimize the square difference, are called the **least squares** solution."
      ]
    },
    {
      "cell_type": "markdown",
      "metadata": {
        "id": "K98UJhpPOEqH"
      },
      "source": [
        "We use `numpy.linalg` to find the minimum. "
      ]
    },
    {
      "cell_type": "markdown",
      "metadata": {
        "id": "G2fzV0fkOEqH"
      },
      "source": [
        "To define the problem for `numpy.linalg` we use matrix notation. We define ${\\bf A}$ to be the $n$ by $2$ matrix:\n",
        "$${\\bf A} =  \\begin{pmatrix}\n",
        " 1, x_1\\\\\n",
        " \\vdots\\\\\n",
        " 1, x_n\n",
        " \\end{pmatrix} \n",
        "$$"
      ]
    },
    {
      "cell_type": "markdown",
      "metadata": {
        "id": "iHcJrkqxOEqI"
      },
      "source": [
        " ${\\bf y}$ and ${\\bf w}$ to be column vectors:\n",
        " $${\\bf y} =  \\begin{pmatrix}\n",
        " y_1\\\\\n",
        " \\vdots\\\\\n",
        " y_n\n",
        " \\end{pmatrix} \n",
        " ,\\;\\;\\;\\;\n",
        " {\\bf w} = \\begin{pmatrix}\n",
        " w_0\\\\\n",
        " w_1\n",
        " \\end{pmatrix}\n",
        "$$"
      ]
    },
    {
      "cell_type": "markdown",
      "metadata": {
        "id": "ZFKWGXzGOEqI"
      },
      "source": [
        "We can then express the differences as a vector ${\\bf d}$:\n",
        "$$ {\\bf d} = {\\bf A} {\\bf w} - {\\bf y} $$"
      ]
    },
    {
      "cell_type": "markdown",
      "metadata": {
        "id": "jsUwb18AOEqJ"
      },
      "source": [
        "The square difference, that we wish to minimize, is $\\|{\\bf d}\\|_2^2 = \\sum_{i=1}^n d_i^2$"
      ]
    },
    {
      "cell_type": "code",
      "metadata": {
        "id": "29COdY8oOEqJ"
      },
      "source": [
        "A = array([ ones(9),x ])\n",
        "# linearly generated sequence\n",
        "w = linalg.lstsq(A.T,y,rcond=-1)[0] # obtaining the parameters"
      ],
      "execution_count": 3,
      "outputs": []
    },
    {
      "cell_type": "code",
      "metadata": {
        "id": "krO2I-jYOEqN",
        "outputId": "7ab83520-5c1b-4cf8-9b87-7092b67129f3",
        "colab": {
          "base_uri": "https://localhost:8080/",
          "height": 119
        }
      },
      "source": [
        "A = array(list(zip(x,y)))\n",
        "\n",
        "def PCA(A):\n",
        "    Mean= mean(A.T,axis=1) # Compute the location of the mean.\n",
        "    M = (A-Mean).T # subtract the mean (along columns)\n",
        "    [eigvals,eigvecs] = linalg.eig(cov(M))\n",
        "    order=argsort(eigvals)[-1::-1] # ordering vectors so that eigen-values decreasing order\n",
        "    print('order=',order)\n",
        "    eigvals=eigvals[order]\n",
        "    eigvecs=eigvecs[:,order]\n",
        "    eigvecs=eigvecs.T\n",
        "    return Mean,eigvals,eigvecs\n",
        "\n",
        "Mean,eigvals,eigvecs = PCA(A)\n",
        "print('Mean=',Mean)\n",
        "print('eigvals=',eigvals)\n",
        "print('eigvecs=\\n',eigvecs)\n"
      ],
      "execution_count": 4,
      "outputs": [
        {
          "output_type": "stream",
          "text": [
            "order= [0 1]\n",
            "Mean= [ 4.         22.55555556]\n",
            "eigvals= [9.78318072 1.74459706]\n",
            "eigvecs=\n",
            " [[ 0.84615144  0.53294253]\n",
            " [-0.53294253  0.84615144]]\n"
          ],
          "name": "stdout"
        }
      ]
    },
    {
      "cell_type": "code",
      "metadata": {
        "id": "nOKl8uh3OEqV"
      },
      "source": [
        "def project(x,u):\n",
        "    return Mean+(x-Mean).dot(u)*u\n",
        "project(A[3],eigvecs[0,:])\n",
        "\n",
        "def plot_PCA(x,y,Mean,eigvecs,eigvals,marker='o',markersize=5):\n",
        "    plot(x,y,marker,markersize=markersize);\n",
        "    plot(Mean[0],Mean[1],'kX',markersize=20);\n",
        "    colors=['r','m']\n",
        "    for i in range(2):\n",
        "        principle=eigvecs[i,:]\n",
        "        std=sqrt(eigvals[i])*2\n",
        "        p1=Mean-principle*std\n",
        "        p2=Mean+principle*std\n",
        "        plot([p1[0],p2[0]],[p1[1],p2[1]],colors[i])\n",
        "\n",
        "def plot_projections(A,eigvecs):\n",
        "    for i in range(A.shape[0]):\n",
        "        pt=A[i,:]\n",
        "        proj=project(pt,eigvecs[0,:])\n",
        "        plot([pt[0],proj[0]],[pt[1],proj[1]],'g')\n",
        "def plot_regress_projections(x,y,w):\n",
        "    line = w[0]+w[1]*x # regression line\n",
        "    plot(x,line,'k-')\n",
        "\n",
        "    for i in range(len(x)):\n",
        "        plot([x[i],x[i]],[y[i],w[1]*x[i]+w[0]],'y')   \n",
        "\n"
      ],
      "execution_count": 5,
      "outputs": []
    },
    {
      "cell_type": "code",
      "metadata": {
        "id": "2swQXA6XOEqY",
        "outputId": "f359afd1-0fd5-4c11-d91a-08e7303adbeb",
        "colab": {
          "base_uri": "https://localhost:8080/",
          "height": 483
        }
      },
      "source": [
        "#plotting data and mean\n",
        "figure(figsize=[10,8])\n",
        "plot_PCA(x,y,Mean,eigvecs,eigvals)\n",
        "plot_projections(A,eigvecs)\n",
        "plot_regress_projections(x,y,w)\n",
        "plt.axis('equal')\n",
        "grid()"
      ],
      "execution_count": 6,
      "outputs": [
        {
          "output_type": "display_data",
          "data": {
            "image/png": "[encoded data removed]",
            "text/plain": [
              "<Figure size 720x576 with 1 Axes>"
            ]
          },
          "metadata": {
            "tags": [],
            "needs_background": "light"
          }
        }
      ]
    },
    {
      "cell_type": "markdown",
      "metadata": {
        "id": "EGkNd0RLOEqb"
      },
      "source": [
        "## A real-life example\n",
        "We now turn our attention to the analysis of some real-word data. This data describes  the weight and height of some 25,000 people."
      ]
    },
    {
      "cell_type": "code",
      "metadata": {
        "id": "BxJdw7kV48CZ"
      },
      "source": [
        "# download data from github to local session\n",
        "!wget -cq https://raw.githubusercontent.com/yongxuantan/Python-for-atmospheric-science/master/Statistical%20Methods%20with%20Widget%20Visual/data/HW25000.csv"
      ],
      "execution_count": 7,
      "outputs": []
    },
    {
      "cell_type": "code",
      "metadata": {
        "id": "Nh8nSYSTOEqb",
        "outputId": "e59e3a07-bdd2-4132-ff3e-98b55e1eed61",
        "colab": {
          "base_uri": "https://localhost:8080/",
          "height": 204
        }
      },
      "source": [
        "HW=pd.read_csv('HW25000.csv')\n",
        "HW=HW.iloc[:,1:]\n",
        "HW.columns=['Height','Weight']\n",
        "HW.head()\n"
      ],
      "execution_count": 8,
      "outputs": [
        {
          "output_type": "execute_result",
          "data": {
            "text/html": [
              "<div>\n",
              "<style scoped>\n",
              "    .dataframe tbody tr th:only-of-type {\n",
              "        vertical-align: middle;\n",
              "    }\n",
              "\n",
              "    .dataframe tbody tr th {\n",
              "        vertical-align: top;\n",
              "    }\n",
              "\n",
              "    .dataframe thead th {\n",
              "        text-align: right;\n",
              "    }\n",
              "</style>\n",
              "<table border=\"1\" class=\"dataframe\">\n",
              "  <thead>\n",
              "    <tr style=\"text-align: right;\">\n",
              "      <th></th>\n",
              "      <th>Height</th>\n",
              "      <th>Weight</th>\n",
              "    </tr>\n",
              "  </thead>\n",
              "  <tbody>\n",
              "    <tr>\n",
              "      <th>0</th>\n",
              "      <td>65.78331</td>\n",
              "      <td>112.9925</td>\n",
              "    </tr>\n",
              "    <tr>\n",
              "      <th>1</th>\n",
              "      <td>71.51521</td>\n",
              "      <td>136.4873</td>\n",
              "    </tr>\n",
              "    <tr>\n",
              "      <th>2</th>\n",
              "      <td>69.39874</td>\n",
              "      <td>153.0269</td>\n",
              "    </tr>\n",
              "    <tr>\n",
              "      <th>3</th>\n",
              "      <td>68.21660</td>\n",
              "      <td>142.3354</td>\n",
              "    </tr>\n",
              "    <tr>\n",
              "      <th>4</th>\n",
              "      <td>67.78781</td>\n",
              "      <td>144.2971</td>\n",
              "    </tr>\n",
              "  </tbody>\n",
              "</table>\n",
              "</div>"
            ],
            "text/plain": [
              "     Height    Weight\n",
              "0  65.78331  112.9925\n",
              "1  71.51521  136.4873\n",
              "2  69.39874  153.0269\n",
              "3  68.21660  142.3354\n",
              "4  67.78781  144.2971"
            ]
          },
          "metadata": {
            "tags": []
          },
          "execution_count": 8
        }
      ]
    },
    {
      "cell_type": "code",
      "metadata": {
        "id": "SwSWX55IOEqf"
      },
      "source": [
        "from math import sin,cos\n",
        "def rotate(data,theta):\n",
        "    Mean= mean(data.T,axis=1)\n",
        "    M=np.array([[cos(theta),-sin(theta)],[sin(theta),cos(theta)]])\n",
        "    return (data-Mean).dot(M.T)+Mean\n"
      ],
      "execution_count": 9,
      "outputs": []
    },
    {
      "cell_type": "code",
      "metadata": {
        "scrolled": false,
        "id": "YMpYYsI-OEql",
        "outputId": "59f85efd-3e79-4dc6-cb3c-defc4ff643a5",
        "colab": {
          "base_uri": "https://localhost:8080/",
          "height": 136
        }
      },
      "source": [
        "_array=rotate(np.array(HW),0)\n",
        "Mean,eigvals,eigvecs = PCA(_array)\n",
        "print('Mean=',Mean)\n",
        "print('eigvals=',eigvals)\n",
        "print('eigvecs=\\n',eigvecs)\n",
        "\n",
        "print(_array[0,:])"
      ],
      "execution_count": 10,
      "outputs": [
        {
          "output_type": "stream",
          "text": [
            "order= [1 0]\n",
            "Mean= [ 67.9931136  127.07942116]\n",
            "eigvals= [136.90940491   2.68350923]\n",
            "eigvecs=\n",
            " [[-0.08336679 -0.99651893]\n",
            " [-0.99651893  0.08336679]]\n",
            "[ 65.78331 112.9925 ]\n"
          ],
          "name": "stdout"
        }
      ]
    },
    {
      "cell_type": "code",
      "metadata": {
        "id": "uoFNfcvPOEqn",
        "outputId": "7f3471a8-f9f2-4795-efe1-debb45ef5761",
        "colab": {
          "base_uri": "https://localhost:8080/",
          "height": 51
        }
      },
      "source": [
        "eigvecs"
      ],
      "execution_count": 11,
      "outputs": [
        {
          "output_type": "execute_result",
          "data": {
            "text/plain": [
              "array([[-0.08336679, -0.99651893],\n",
              "       [-0.99651893,  0.08336679]])"
            ]
          },
          "metadata": {
            "tags": []
          },
          "execution_count": 11
        }
      ]
    },
    {
      "cell_type": "code",
      "metadata": {
        "id": "n2r_i-tZOEqr",
        "outputId": "48eb222d-2a35-4d2e-f094-ff175c840f8c",
        "colab": {
          "base_uri": "https://localhost:8080/",
          "height": 607
        }
      },
      "source": [
        "#plotting \n",
        "figure(figsize=[10,10])\n",
        "subplot(221)\n",
        "plot_PCA(_array[:,0],_array[:,1],Mean,eigvecs,eigvals,marker='.',markersize=1)\n",
        "plt.axis('equal')\n",
        "plt.title('original data')\n",
        "grid()\n",
        "\n",
        "_shifted = _array-Mean\n",
        "subplot(222)\n",
        "plot_PCA(_shifted[:,0],_shifted[:,1],np.array([0,0]),eigvecs,eigvals,marker='.',markersize=1)\n",
        "plt.axis('equal')\n",
        "plt.title('Mean shifted to zero')\n",
        "grid()\n",
        "\n",
        "_rotated=_shifted.dot(eigvecs.T)\n",
        "subplot(223)\n",
        "plot_PCA(_rotated[:,0],_rotated[:,1],np.array([0,0]),np.array([[1,0],[0,1]]),\\\n",
        "         eigvals,marker='.',markersize=1)\n",
        "plt.axis('equal')\n",
        "plt.title('rotated to major axis')\n",
        "grid()\n",
        "\n",
        "\n"
      ],
      "execution_count": 12,
      "outputs": [
        {
          "output_type": "display_data",
          "data": {
            "image/png": "[encoded data removed]",
            "text/plain": [
              "<Figure size 720x720 with 3 Axes>"
            ]
          },
          "metadata": {
            "tags": [],
            "needs_background": "light"
          }
        }
      ]
    },
    {
      "cell_type": "markdown",
      "metadata": {
        "id": "aB8YiqjWOEqt"
      },
      "source": [
        "### PCA in 2D and computer vision.\n",
        "Sometimes it makes sense to approximate small regions, or \"blobs\" using ellipses.\n",
        "\n",
        "PCA provides  a simple and efficient way for doing that.\n"
      ]
    },
    {
      "cell_type": "code",
      "metadata": {
        "id": "OKMwpR-fOEqt",
        "outputId": "eda31e94-4c20-4568-c9b6-c288a9a6aba1",
        "colab": {
          "base_uri": "https://localhost:8080/",
          "height": 285
        }
      },
      "source": [
        "n=100\n",
        "image=np.zeros([n,n])\n",
        "theta=pi/7\n",
        "scale_x=0.2\n",
        "scale_y=1\n",
        "Scale=np.array([[scale_x,0],[0,scale_y]])\n",
        "M=np.array([[cos(theta),-sin(theta)],[sin(theta),cos(theta)]])\n",
        "P=M.dot(Scale)\n",
        "for i in arange(-n/2,n/2,.5):\n",
        "    for j in arange(-n/2,n/2,.5):\n",
        "        if max(abs(i),abs(j))<30:\n",
        "            v=np.array([i,j])\n",
        "            s=P.dot(v)+np.array([n/2,n/2])\n",
        "            x,y=[int(a) for a in s]\n",
        "            image[x,y]=1\n",
        "imshow(image)"
      ],
      "execution_count": 13,
      "outputs": [
        {
          "output_type": "execute_result",
          "data": {
            "text/plain": [
              "<matplotlib.image.AxesImage at 0x7f765b939eb8>"
            ]
          },
          "metadata": {
            "tags": []
          },
          "execution_count": 13
        },
        {
          "output_type": "display_data",
          "data": {
            "image/png": "[encoded data removed]",
            "text/plain": [
              "<Figure size 432x288 with 1 Axes>"
            ]
          },
          "metadata": {
            "tags": [],
            "needs_background": "light"
          }
        }
      ]
    },
    {
      "cell_type": "code",
      "metadata": {
        "id": "ciPJiuJjOEqw",
        "outputId": "e3a34c57-51f4-4fe4-c8a0-b2c48b409adb",
        "colab": {
          "base_uri": "https://localhost:8080/",
          "height": 34
        }
      },
      "source": [
        "nz=np.array(nonzero(image))\n",
        "shape(nz)"
      ],
      "execution_count": 14,
      "outputs": [
        {
          "output_type": "execute_result",
          "data": {
            "text/plain": [
              "(2, 780)"
            ]
          },
          "metadata": {
            "tags": []
          },
          "execution_count": 14
        }
      ]
    },
    {
      "cell_type": "code",
      "metadata": {
        "id": "teNqBaIKOEqz",
        "outputId": "8692375a-eac5-4464-9dc0-6ee346e224ba",
        "colab": {
          "base_uri": "https://localhost:8080/",
          "height": 119
        }
      },
      "source": [
        "Mean,eigvals,eigvecs = PCA(nz.T)\n",
        "print('Mean=',Mean)\n",
        "print('eigvals=',eigvals)\n",
        "print('eigvecs=\\n',eigvecs)\n"
      ],
      "execution_count": 15,
      "outputs": [
        {
          "output_type": "stream",
          "text": [
            "order= [1 0]\n",
            "Mean= [49.5 49.5]\n",
            "eigvals= [301.53805674  14.04345802]\n",
            "eigvecs=\n",
            " [[ 0.43719437 -0.89936704]\n",
            " [-0.89936704 -0.43719437]]\n"
          ],
          "name": "stdout"
        }
      ]
    },
    {
      "cell_type": "code",
      "metadata": {
        "id": "tEtQi6ouOEr6",
        "outputId": "1c3e8c40-0650-4930-e1ce-e21e58cd7d64",
        "colab": {
          "base_uri": "https://localhost:8080/",
          "height": 607
        }
      },
      "source": [
        "figure(figsize=[10,10])\n",
        "plot_PCA(nz[0,:],nz[1,:],Mean,eigvecs,eigvals,marker='.',markersize=1)\n",
        "plt.axis('equal')\n",
        "plt.title('original data')\n",
        "grid()\n"
      ],
      "execution_count": 16,
      "outputs": [
        {
          "output_type": "display_data",
          "data": {
            "image/png": "[encoded data removed]",
            "text/plain": [
              "<Figure size 720x720 with 1 Axes>"
            ]
          },
          "metadata": {
            "tags": [],
            "needs_background": "light"
          }
        }
      ]
    }
  ]
}