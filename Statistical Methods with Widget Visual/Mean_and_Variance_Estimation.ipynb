{
  "nbformat": 4,
  "nbformat_minor": 0,
  "metadata": {
    "kernelspec": {
      "display_name": "Python [default]",
      "language": "python",
      "name": "python3"
    },
    "language_info": {
      "codemirror_mode": {
        "name": "ipython",
        "version": 3
      },
      "file_extension": ".py",
      "mimetype": "text/x-python",
      "name": "python",
      "nbconvert_exporter": "python",
      "pygments_lexer": "ipython3",
      "version": "3.6.2"
    },
    "toc": {
      "base_numbering": 1,
      "nav_menu": {
        "height": "12px",
        "width": "252px"
      },
      "number_sections": true,
      "sideBar": true,
      "skip_h1_title": false,
      "title_cell": "Table of Contents",
      "title_sidebar": "Contents",
      "toc_cell": false,
      "toc_position": {},
      "toc_section_display": "block",
      "toc_window_display": false
    },
    "varInspector": {
      "cols": {
        "lenName": 16,
        "lenType": 16,
        "lenVar": 40
      },
      "kernels_config": {
        "python": {
          "delete_cmd_postfix": "",
          "delete_cmd_prefix": "del ",
          "library": "var_list.py",
          "varRefreshCmd": "print(var_dic_list())"
        },
        "r": {
          "delete_cmd_postfix": ") ",
          "delete_cmd_prefix": "rm(",
          "library": "var_list.r",
          "varRefreshCmd": "cat(var_dic_list()) "
        }
      },
      "types_to_exclude": [
        "module",
        "function",
        "builtin_function_or_method",
        "instance",
        "_Feature"
      ],
      "window_display": false
    },
    "widgets": {
      "application/vnd.jupyter.widget-state+json": {
        "9c43f81743494cdcb24ab6a155bd901a": {
          "model_module": "@jupyter-widgets/controls",
          "model_name": "VBoxModel",
          "state": {
            "_view_name": "VBoxView",
            "_dom_classes": [
              "widget-interact"
            ],
            "_model_name": "VBoxModel",
            "_view_module": "@jupyter-widgets/controls",
            "_model_module_version": "1.5.0",
            "_view_count": null,
            "_view_module_version": "1.5.0",
            "box_style": "",
            "layout": "IPY_MODEL_36abf2a8d6964513bae728b40b47a119",
            "_model_module": "@jupyter-widgets/controls",
            "children": [
              "IPY_MODEL_de03fc515ae14140a09a20ef80e60b7f",
              "IPY_MODEL_5a100a64a7294661addf89aeee30818b",
              "IPY_MODEL_47ced4aca0ba4da0a7baa57482e801ad"
            ]
          }
        },
        "36abf2a8d6964513bae728b40b47a119": {
          "model_module": "@jupyter-widgets/base",
          "model_name": "LayoutModel",
          "state": {
            "_view_name": "LayoutView",
            "grid_template_rows": null,
            "right": null,
            "justify_content": null,
            "_view_module": "@jupyter-widgets/base",
            "overflow": null,
            "_model_module_version": "1.2.0",
            "_view_count": null,
            "flex_flow": null,
            "width": null,
            "min_width": null,
            "border": null,
            "align_items": null,
            "bottom": null,
            "_model_module": "@jupyter-widgets/base",
            "top": null,
            "grid_column": null,
            "overflow_y": null,
            "overflow_x": null,
            "grid_auto_flow": null,
            "grid_area": null,
            "grid_template_columns": null,
            "flex": null,
            "_model_name": "LayoutModel",
            "justify_items": null,
            "grid_row": null,
            "max_height": null,
            "align_content": null,
            "visibility": null,
            "align_self": null,
            "height": null,
            "min_height": null,
            "padding": null,
            "grid_auto_rows": null,
            "grid_gap": null,
            "max_width": null,
            "order": null,
            "_view_module_version": "1.2.0",
            "grid_template_areas": null,
            "object_position": null,
            "object_fit": null,
            "grid_auto_columns": null,
            "margin": null,
            "display": null,
            "left": null
          }
        },
        "de03fc515ae14140a09a20ef80e60b7f": {
          "model_module": "@jupyter-widgets/controls",
          "model_name": "IntSliderModel",
          "state": {
            "_view_name": "IntSliderView",
            "style": "IPY_MODEL_31544f34f7064dbda4f207fa1fdbb2ab",
            "_dom_classes": [],
            "description": "sample size",
            "step": 10,
            "_model_name": "IntSliderModel",
            "orientation": "horizontal",
            "max": 1000,
            "_view_module": "@jupyter-widgets/controls",
            "_model_module_version": "1.5.0",
            "value": 100,
            "_view_count": null,
            "disabled": false,
            "_view_module_version": "1.5.0",
            "min": 10,
            "continuous_update": true,
            "readout_format": "d",
            "description_tooltip": null,
            "readout": true,
            "_model_module": "@jupyter-widgets/controls",
            "layout": "IPY_MODEL_7a16b3ce3cb645c5bf797e1143b8a3a9"
          }
        },
        "5a100a64a7294661addf89aeee30818b": {
          "model_module": "@jupyter-widgets/controls",
          "model_name": "IntSliderModel",
          "state": {
            "_view_name": "IntSliderView",
            "style": "IPY_MODEL_f3bfc8f660ec47f3bc30f5ccc6dcdc41",
            "_dom_classes": [],
            "description": "experiments",
            "step": 1,
            "_model_name": "IntSliderModel",
            "orientation": "horizontal",
            "max": 10,
            "_view_module": "@jupyter-widgets/controls",
            "_model_module_version": "1.5.0",
            "value": 5,
            "_view_count": null,
            "disabled": false,
            "_view_module_version": "1.5.0",
            "min": 1,
            "continuous_update": true,
            "readout_format": "d",
            "description_tooltip": null,
            "readout": true,
            "_model_module": "@jupyter-widgets/controls",
            "layout": "IPY_MODEL_de7c676e14ba4d49b3866fb776661609"
          }
        },
        "47ced4aca0ba4da0a7baa57482e801ad": {
          "model_module": "@jupyter-widgets/output",
          "model_name": "OutputModel",
          "state": {
            "_view_name": "OutputView",
            "msg_id": "",
            "_dom_classes": [],
            "_model_name": "OutputModel",
            "outputs": [
              {
                "output_type": "display_data",
                "metadata": {
                  "tags": [],
                  "needs_background": "light"
                },
                "image/png": "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\n",
                "text/plain": "<Figure size 1440x720 with 1 Axes>"
              }
            ],
            "_view_module": "@jupyter-widgets/output",
            "_model_module_version": "1.0.0",
            "_view_count": null,
            "_view_module_version": "1.0.0",
            "layout": "IPY_MODEL_8b03019a6d5d459792d18d76842f5b2a",
            "_model_module": "@jupyter-widgets/output"
          }
        },
        "31544f34f7064dbda4f207fa1fdbb2ab": {
          "model_module": "@jupyter-widgets/controls",
          "model_name": "SliderStyleModel",
          "state": {
            "_view_name": "StyleView",
            "handle_color": null,
            "_model_name": "SliderStyleModel",
            "description_width": "",
            "_view_module": "@jupyter-widgets/base",
            "_model_module_version": "1.5.0",
            "_view_count": null,
            "_view_module_version": "1.2.0",
            "_model_module": "@jupyter-widgets/controls"
          }
        },
        "7a16b3ce3cb645c5bf797e1143b8a3a9": {
          "model_module": "@jupyter-widgets/base",
          "model_name": "LayoutModel",
          "state": {
            "_view_name": "LayoutView",
            "grid_template_rows": null,
            "right": null,
            "justify_content": null,
            "_view_module": "@jupyter-widgets/base",
            "overflow": null,
            "_model_module_version": "1.2.0",
            "_view_count": null,
            "flex_flow": null,
            "width": null,
            "min_width": null,
            "border": null,
            "align_items": null,
            "bottom": null,
            "_model_module": "@jupyter-widgets/base",
            "top": null,
            "grid_column": null,
            "overflow_y": null,
            "overflow_x": null,
            "grid_auto_flow": null,
            "grid_area": null,
            "grid_template_columns": null,
            "flex": null,
            "_model_name": "LayoutModel",
            "justify_items": null,
            "grid_row": null,
            "max_height": null,
            "align_content": null,
            "visibility": null,
            "align_self": null,
            "height": null,
            "min_height": null,
            "padding": null,
            "grid_auto_rows": null,
            "grid_gap": null,
            "max_width": null,
            "order": null,
            "_view_module_version": "1.2.0",
            "grid_template_areas": null,
            "object_position": null,
            "object_fit": null,
            "grid_auto_columns": null,
            "margin": null,
            "display": null,
            "left": null
          }
        },
        "f3bfc8f660ec47f3bc30f5ccc6dcdc41": {
          "model_module": "@jupyter-widgets/controls",
          "model_name": "SliderStyleModel",
          "state": {
            "_view_name": "StyleView",
            "handle_color": null,
            "_model_name": "SliderStyleModel",
            "description_width": "",
            "_view_module": "@jupyter-widgets/base",
            "_model_module_version": "1.5.0",
            "_view_count": null,
            "_view_module_version": "1.2.0",
            "_model_module": "@jupyter-widgets/controls"
          }
        },
        "de7c676e14ba4d49b3866fb776661609": {
          "model_module": "@jupyter-widgets/base",
          "model_name": "LayoutModel",
          "state": {
            "_view_name": "LayoutView",
            "grid_template_rows": null,
            "right": null,
            "justify_content": null,
            "_view_module": "@jupyter-widgets/base",
            "overflow": null,
            "_model_module_version": "1.2.0",
            "_view_count": null,
            "flex_flow": null,
            "width": null,
            "min_width": null,
            "border": null,
            "align_items": null,
            "bottom": null,
            "_model_module": "@jupyter-widgets/base",
            "top": null,
            "grid_column": null,
            "overflow_y": null,
            "overflow_x": null,
            "grid_auto_flow": null,
            "grid_area": null,
            "grid_template_columns": null,
            "flex": null,
            "_model_name": "LayoutModel",
            "justify_items": null,
            "grid_row": null,
            "max_height": null,
            "align_content": null,
            "visibility": null,
            "align_self": null,
            "height": null,
            "min_height": null,
            "padding": null,
            "grid_auto_rows": null,
            "grid_gap": null,
            "max_width": null,
            "order": null,
            "_view_module_version": "1.2.0",
            "grid_template_areas": null,
            "object_position": null,
            "object_fit": null,
            "grid_auto_columns": null,
            "margin": null,
            "display": null,
            "left": null
          }
        },
        "8b03019a6d5d459792d18d76842f5b2a": {
          "model_module": "@jupyter-widgets/base",
          "model_name": "LayoutModel",
          "state": {
            "_view_name": "LayoutView",
            "grid_template_rows": null,
            "right": null,
            "justify_content": null,
            "_view_module": "@jupyter-widgets/base",
            "overflow": null,
            "_model_module_version": "1.2.0",
            "_view_count": null,
            "flex_flow": null,
            "width": null,
            "min_width": null,
            "border": null,
            "align_items": null,
            "bottom": null,
            "_model_module": "@jupyter-widgets/base",
            "top": null,
            "grid_column": null,
            "overflow_y": null,
            "overflow_x": null,
            "grid_auto_flow": null,
            "grid_area": null,
            "grid_template_columns": null,
            "flex": null,
            "_model_name": "LayoutModel",
            "justify_items": null,
            "grid_row": null,
            "max_height": null,
            "align_content": null,
            "visibility": null,
            "align_self": null,
            "height": null,
            "min_height": null,
            "padding": null,
            "grid_auto_rows": null,
            "grid_gap": null,
            "max_width": null,
            "order": null,
            "_view_module_version": "1.2.0",
            "grid_template_areas": null,
            "object_position": null,
            "object_fit": null,
            "grid_auto_columns": null,
            "margin": null,
            "display": null,
            "left": null
          }
        },
        "32c3cbf45f6c44c7ba0bdbcd22a192f0": {
          "model_module": "@jupyter-widgets/controls",
          "model_name": "VBoxModel",
          "state": {
            "_view_name": "VBoxView",
            "_dom_classes": [
              "widget-interact"
            ],
            "_model_name": "VBoxModel",
            "_view_module": "@jupyter-widgets/controls",
            "_model_module_version": "1.5.0",
            "_view_count": null,
            "_view_module_version": "1.5.0",
            "box_style": "",
            "layout": "IPY_MODEL_806060dee5b2466ba96d34b12afc6fc4",
            "_model_module": "@jupyter-widgets/controls",
            "children": [
              "IPY_MODEL_d6b171a0d54c443e94b1c9054465ca91",
              "IPY_MODEL_816103dbf2904d27b644ffa620a76dc8"
            ]
          }
        },
        "806060dee5b2466ba96d34b12afc6fc4": {
          "model_module": "@jupyter-widgets/base",
          "model_name": "LayoutModel",
          "state": {
            "_view_name": "LayoutView",
            "grid_template_rows": null,
            "right": null,
            "justify_content": null,
            "_view_module": "@jupyter-widgets/base",
            "overflow": null,
            "_model_module_version": "1.2.0",
            "_view_count": null,
            "flex_flow": null,
            "width": null,
            "min_width": null,
            "border": null,
            "align_items": null,
            "bottom": null,
            "_model_module": "@jupyter-widgets/base",
            "top": null,
            "grid_column": null,
            "overflow_y": null,
            "overflow_x": null,
            "grid_auto_flow": null,
            "grid_area": null,
            "grid_template_columns": null,
            "flex": null,
            "_model_name": "LayoutModel",
            "justify_items": null,
            "grid_row": null,
            "max_height": null,
            "align_content": null,
            "visibility": null,
            "align_self": null,
            "height": null,
            "min_height": null,
            "padding": null,
            "grid_auto_rows": null,
            "grid_gap": null,
            "max_width": null,
            "order": null,
            "_view_module_version": "1.2.0",
            "grid_template_areas": null,
            "object_position": null,
            "object_fit": null,
            "grid_auto_columns": null,
            "margin": null,
            "display": null,
            "left": null
          }
        },
        "d6b171a0d54c443e94b1c9054465ca91": {
          "model_module": "@jupyter-widgets/controls",
          "model_name": "IntSliderModel",
          "state": {
            "_view_name": "IntSliderView",
            "style": "IPY_MODEL_b4077cfa113c48488de5116d0923a92d",
            "_dom_classes": [],
            "description": "n",
            "step": 1,
            "_model_name": "IntSliderModel",
            "orientation": "horizontal",
            "max": 30,
            "_view_module": "@jupyter-widgets/controls",
            "_model_module_version": "1.5.0",
            "value": 15,
            "_view_count": null,
            "disabled": false,
            "_view_module_version": "1.5.0",
            "min": 1,
            "continuous_update": true,
            "readout_format": "d",
            "description_tooltip": null,
            "readout": true,
            "_model_module": "@jupyter-widgets/controls",
            "layout": "IPY_MODEL_98e7dbbeb6e6403aafa25e52196b5660"
          }
        },
        "816103dbf2904d27b644ffa620a76dc8": {
          "model_module": "@jupyter-widgets/output",
          "model_name": "OutputModel",
          "state": {
            "_view_name": "OutputView",
            "msg_id": "",
            "_dom_classes": [],
            "_model_name": "OutputModel",
            "outputs": [
              {
                "output_type": "display_data",
                "metadata": {
                  "tags": [],
                  "needs_background": "light"
                },
                "image/png": "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\n",
                "text/plain": "<Figure size 1440x720 with 1 Axes>"
              }
            ],
            "_view_module": "@jupyter-widgets/output",
            "_model_module_version": "1.0.0",
            "_view_count": null,
            "_view_module_version": "1.0.0",
            "layout": "IPY_MODEL_2b52efb65db9493fbfd6b3e479a8741f",
            "_model_module": "@jupyter-widgets/output"
          }
        },
        "b4077cfa113c48488de5116d0923a92d": {
          "model_module": "@jupyter-widgets/controls",
          "model_name": "SliderStyleModel",
          "state": {
            "_view_name": "StyleView",
            "handle_color": null,
            "_model_name": "SliderStyleModel",
            "description_width": "",
            "_view_module": "@jupyter-widgets/base",
            "_model_module_version": "1.5.0",
            "_view_count": null,
            "_view_module_version": "1.2.0",
            "_model_module": "@jupyter-widgets/controls"
          }
        },
        "98e7dbbeb6e6403aafa25e52196b5660": {
          "model_module": "@jupyter-widgets/base",
          "model_name": "LayoutModel",
          "state": {
            "_view_name": "LayoutView",
            "grid_template_rows": null,
            "right": null,
            "justify_content": null,
            "_view_module": "@jupyter-widgets/base",
            "overflow": null,
            "_model_module_version": "1.2.0",
            "_view_count": null,
            "flex_flow": null,
            "width": null,
            "min_width": null,
            "border": null,
            "align_items": null,
            "bottom": null,
            "_model_module": "@jupyter-widgets/base",
            "top": null,
            "grid_column": null,
            "overflow_y": null,
            "overflow_x": null,
            "grid_auto_flow": null,
            "grid_area": null,
            "grid_template_columns": null,
            "flex": null,
            "_model_name": "LayoutModel",
            "justify_items": null,
            "grid_row": null,
            "max_height": null,
            "align_content": null,
            "visibility": null,
            "align_self": null,
            "height": null,
            "min_height": null,
            "padding": null,
            "grid_auto_rows": null,
            "grid_gap": null,
            "max_width": null,
            "order": null,
            "_view_module_version": "1.2.0",
            "grid_template_areas": null,
            "object_position": null,
            "object_fit": null,
            "grid_auto_columns": null,
            "margin": null,
            "display": null,
            "left": null
          }
        },
        "2b52efb65db9493fbfd6b3e479a8741f": {
          "model_module": "@jupyter-widgets/base",
          "model_name": "LayoutModel",
          "state": {
            "_view_name": "LayoutView",
            "grid_template_rows": null,
            "right": null,
            "justify_content": null,
            "_view_module": "@jupyter-widgets/base",
            "overflow": null,
            "_model_module_version": "1.2.0",
            "_view_count": null,
            "flex_flow": null,
            "width": null,
            "min_width": null,
            "border": null,
            "align_items": null,
            "bottom": null,
            "_model_module": "@jupyter-widgets/base",
            "top": null,
            "grid_column": null,
            "overflow_y": null,
            "overflow_x": null,
            "grid_auto_flow": null,
            "grid_area": null,
            "grid_template_columns": null,
            "flex": null,
            "_model_name": "LayoutModel",
            "justify_items": null,
            "grid_row": null,
            "max_height": null,
            "align_content": null,
            "visibility": null,
            "align_self": null,
            "height": null,
            "min_height": null,
            "padding": null,
            "grid_auto_rows": null,
            "grid_gap": null,
            "max_width": null,
            "order": null,
            "_view_module_version": "1.2.0",
            "grid_template_areas": null,
            "object_position": null,
            "object_fit": null,
            "grid_auto_columns": null,
            "margin": null,
            "display": null,
            "left": null
          }
        },
        "8764010ce14d4e8288f7b7379d960060": {
          "model_module": "@jupyter-widgets/controls",
          "model_name": "VBoxModel",
          "state": {
            "_view_name": "VBoxView",
            "_dom_classes": [
              "widget-interact"
            ],
            "_model_name": "VBoxModel",
            "_view_module": "@jupyter-widgets/controls",
            "_model_module_version": "1.5.0",
            "_view_count": null,
            "_view_module_version": "1.5.0",
            "box_style": "",
            "layout": "IPY_MODEL_bf61237556a04059ad409af5e4c748eb",
            "_model_module": "@jupyter-widgets/controls",
            "children": [
              "IPY_MODEL_aaccb4a806304465a5a749e65aa36bba",
              "IPY_MODEL_4fd45929aa254a9ba9f89f22a2be7b99"
            ]
          }
        },
        "bf61237556a04059ad409af5e4c748eb": {
          "model_module": "@jupyter-widgets/base",
          "model_name": "LayoutModel",
          "state": {
            "_view_name": "LayoutView",
            "grid_template_rows": null,
            "right": null,
            "justify_content": null,
            "_view_module": "@jupyter-widgets/base",
            "overflow": null,
            "_model_module_version": "1.2.0",
            "_view_count": null,
            "flex_flow": null,
            "width": null,
            "min_width": null,
            "border": null,
            "align_items": null,
            "bottom": null,
            "_model_module": "@jupyter-widgets/base",
            "top": null,
            "grid_column": null,
            "overflow_y": null,
            "overflow_x": null,
            "grid_auto_flow": null,
            "grid_area": null,
            "grid_template_columns": null,
            "flex": null,
            "_model_name": "LayoutModel",
            "justify_items": null,
            "grid_row": null,
            "max_height": null,
            "align_content": null,
            "visibility": null,
            "align_self": null,
            "height": null,
            "min_height": null,
            "padding": null,
            "grid_auto_rows": null,
            "grid_gap": null,
            "max_width": null,
            "order": null,
            "_view_module_version": "1.2.0",
            "grid_template_areas": null,
            "object_position": null,
            "object_fit": null,
            "grid_auto_columns": null,
            "margin": null,
            "display": null,
            "left": null
          }
        },
        "aaccb4a806304465a5a749e65aa36bba": {
          "model_module": "@jupyter-widgets/controls",
          "model_name": "IntSliderModel",
          "state": {
            "_view_name": "IntSliderView",
            "style": "IPY_MODEL_4066441f8872470db0a8709230290aa0",
            "_dom_classes": [],
            "description": "n",
            "step": 1,
            "_model_name": "IntSliderModel",
            "orientation": "horizontal",
            "max": 20,
            "_view_module": "@jupyter-widgets/controls",
            "_model_module_version": "1.5.0",
            "value": 11,
            "_view_count": null,
            "disabled": false,
            "_view_module_version": "1.5.0",
            "min": 2,
            "continuous_update": true,
            "readout_format": "d",
            "description_tooltip": null,
            "readout": true,
            "_model_module": "@jupyter-widgets/controls",
            "layout": "IPY_MODEL_e016e338204a4daf95cb2e78ca50aa41"
          }
        },
        "4fd45929aa254a9ba9f89f22a2be7b99": {
          "model_module": "@jupyter-widgets/output",
          "model_name": "OutputModel",
          "state": {
            "_view_name": "OutputView",
            "msg_id": "",
            "_dom_classes": [],
            "_model_name": "OutputModel",
            "outputs": [
              {
                "output_type": "display_data",
                "metadata": {
                  "tags": [],
                  "needs_background": "light"
                },
                "image/png": "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\n",
                "text/plain": "<Figure size 1440x720 with 1 Axes>"
              }
            ],
            "_view_module": "@jupyter-widgets/output",
            "_model_module_version": "1.0.0",
            "_view_count": null,
            "_view_module_version": "1.0.0",
            "layout": "IPY_MODEL_89aaa960288e437fb93c6777c6707d4a",
            "_model_module": "@jupyter-widgets/output"
          }
        },
        "4066441f8872470db0a8709230290aa0": {
          "model_module": "@jupyter-widgets/controls",
          "model_name": "SliderStyleModel",
          "state": {
            "_view_name": "StyleView",
            "handle_color": null,
            "_model_name": "SliderStyleModel",
            "description_width": "",
            "_view_module": "@jupyter-widgets/base",
            "_model_module_version": "1.5.0",
            "_view_count": null,
            "_view_module_version": "1.2.0",
            "_model_module": "@jupyter-widgets/controls"
          }
        },
        "e016e338204a4daf95cb2e78ca50aa41": {
          "model_module": "@jupyter-widgets/base",
          "model_name": "LayoutModel",
          "state": {
            "_view_name": "LayoutView",
            "grid_template_rows": null,
            "right": null,
            "justify_content": null,
            "_view_module": "@jupyter-widgets/base",
            "overflow": null,
            "_model_module_version": "1.2.0",
            "_view_count": null,
            "flex_flow": null,
            "width": null,
            "min_width": null,
            "border": null,
            "align_items": null,
            "bottom": null,
            "_model_module": "@jupyter-widgets/base",
            "top": null,
            "grid_column": null,
            "overflow_y": null,
            "overflow_x": null,
            "grid_auto_flow": null,
            "grid_area": null,
            "grid_template_columns": null,
            "flex": null,
            "_model_name": "LayoutModel",
            "justify_items": null,
            "grid_row": null,
            "max_height": null,
            "align_content": null,
            "visibility": null,
            "align_self": null,
            "height": null,
            "min_height": null,
            "padding": null,
            "grid_auto_rows": null,
            "grid_gap": null,
            "max_width": null,
            "order": null,
            "_view_module_version": "1.2.0",
            "grid_template_areas": null,
            "object_position": null,
            "object_fit": null,
            "grid_auto_columns": null,
            "margin": null,
            "display": null,
            "left": null
          }
        },
        "89aaa960288e437fb93c6777c6707d4a": {
          "model_module": "@jupyter-widgets/base",
          "model_name": "LayoutModel",
          "state": {
            "_view_name": "LayoutView",
            "grid_template_rows": null,
            "right": null,
            "justify_content": null,
            "_view_module": "@jupyter-widgets/base",
            "overflow": null,
            "_model_module_version": "1.2.0",
            "_view_count": null,
            "flex_flow": null,
            "width": null,
            "min_width": null,
            "border": null,
            "align_items": null,
            "bottom": null,
            "_model_module": "@jupyter-widgets/base",
            "top": null,
            "grid_column": null,
            "overflow_y": null,
            "overflow_x": null,
            "grid_auto_flow": null,
            "grid_area": null,
            "grid_template_columns": null,
            "flex": null,
            "_model_name": "LayoutModel",
            "justify_items": null,
            "grid_row": null,
            "max_height": null,
            "align_content": null,
            "visibility": null,
            "align_self": null,
            "height": null,
            "min_height": null,
            "padding": null,
            "grid_auto_rows": null,
            "grid_gap": null,
            "max_width": null,
            "order": null,
            "_view_module_version": "1.2.0",
            "grid_template_areas": null,
            "object_position": null,
            "object_fit": null,
            "grid_auto_columns": null,
            "margin": null,
            "display": null,
            "left": null
          }
        },
        "1be87f0d628541ecae87dd25e385408f": {
          "model_module": "@jupyter-widgets/controls",
          "model_name": "VBoxModel",
          "state": {
            "_view_name": "VBoxView",
            "_dom_classes": [
              "widget-interact"
            ],
            "_model_name": "VBoxModel",
            "_view_module": "@jupyter-widgets/controls",
            "_model_module_version": "1.5.0",
            "_view_count": null,
            "_view_module_version": "1.5.0",
            "box_style": "",
            "layout": "IPY_MODEL_4b245eea14994604bc2ae177dec50fcf",
            "_model_module": "@jupyter-widgets/controls",
            "children": [
              "IPY_MODEL_765aed45141c4cbbaf119924a3d19686",
              "IPY_MODEL_9726e79c43ea4684b61e5659394b2b65"
            ]
          }
        },
        "4b245eea14994604bc2ae177dec50fcf": {
          "model_module": "@jupyter-widgets/base",
          "model_name": "LayoutModel",
          "state": {
            "_view_name": "LayoutView",
            "grid_template_rows": null,
            "right": null,
            "justify_content": null,
            "_view_module": "@jupyter-widgets/base",
            "overflow": null,
            "_model_module_version": "1.2.0",
            "_view_count": null,
            "flex_flow": null,
            "width": null,
            "min_width": null,
            "border": null,
            "align_items": null,
            "bottom": null,
            "_model_module": "@jupyter-widgets/base",
            "top": null,
            "grid_column": null,
            "overflow_y": null,
            "overflow_x": null,
            "grid_auto_flow": null,
            "grid_area": null,
            "grid_template_columns": null,
            "flex": null,
            "_model_name": "LayoutModel",
            "justify_items": null,
            "grid_row": null,
            "max_height": null,
            "align_content": null,
            "visibility": null,
            "align_self": null,
            "height": null,
            "min_height": null,
            "padding": null,
            "grid_auto_rows": null,
            "grid_gap": null,
            "max_width": null,
            "order": null,
            "_view_module_version": "1.2.0",
            "grid_template_areas": null,
            "object_position": null,
            "object_fit": null,
            "grid_auto_columns": null,
            "margin": null,
            "display": null,
            "left": null
          }
        },
        "765aed45141c4cbbaf119924a3d19686": {
          "model_module": "@jupyter-widgets/controls",
          "model_name": "IntSliderModel",
          "state": {
            "_view_name": "IntSliderView",
            "style": "IPY_MODEL_f0831010a2a84f0bb3d818e224e0166b",
            "_dom_classes": [],
            "description": "n",
            "step": 1,
            "_model_name": "IntSliderModel",
            "orientation": "horizontal",
            "max": 20,
            "_view_module": "@jupyter-widgets/controls",
            "_model_module_version": "1.5.0",
            "value": 11,
            "_view_count": null,
            "disabled": false,
            "_view_module_version": "1.5.0",
            "min": 2,
            "continuous_update": true,
            "readout_format": "d",
            "description_tooltip": null,
            "readout": true,
            "_model_module": "@jupyter-widgets/controls",
            "layout": "IPY_MODEL_f937122187d6436e8351ac841155ecd7"
          }
        },
        "9726e79c43ea4684b61e5659394b2b65": {
          "model_module": "@jupyter-widgets/output",
          "model_name": "OutputModel",
          "state": {
            "_view_name": "OutputView",
            "msg_id": "",
            "_dom_classes": [],
            "_model_name": "OutputModel",
            "outputs": [
              {
                "output_type": "display_data",
                "metadata": {
                  "tags": [],
                  "needs_background": "light"
                },
                "image/png": "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\n",
                "text/plain": "<Figure size 1440x720 with 1 Axes>"
              }
            ],
            "_view_module": "@jupyter-widgets/output",
            "_model_module_version": "1.0.0",
            "_view_count": null,
            "_view_module_version": "1.0.0",
            "layout": "IPY_MODEL_0bdc779627d448feacaba3ea9bc9575d",
            "_model_module": "@jupyter-widgets/output"
          }
        },
        "f0831010a2a84f0bb3d818e224e0166b": {
          "model_module": "@jupyter-widgets/controls",
          "model_name": "SliderStyleModel",
          "state": {
            "_view_name": "StyleView",
            "handle_color": null,
            "_model_name": "SliderStyleModel",
            "description_width": "",
            "_view_module": "@jupyter-widgets/base",
            "_model_module_version": "1.5.0",
            "_view_count": null,
            "_view_module_version": "1.2.0",
            "_model_module": "@jupyter-widgets/controls"
          }
        },
        "f937122187d6436e8351ac841155ecd7": {
          "model_module": "@jupyter-widgets/base",
          "model_name": "LayoutModel",
          "state": {
            "_view_name": "LayoutView",
            "grid_template_rows": null,
            "right": null,
            "justify_content": null,
            "_view_module": "@jupyter-widgets/base",
            "overflow": null,
            "_model_module_version": "1.2.0",
            "_view_count": null,
            "flex_flow": null,
            "width": null,
            "min_width": null,
            "border": null,
            "align_items": null,
            "bottom": null,
            "_model_module": "@jupyter-widgets/base",
            "top": null,
            "grid_column": null,
            "overflow_y": null,
            "overflow_x": null,
            "grid_auto_flow": null,
            "grid_area": null,
            "grid_template_columns": null,
            "flex": null,
            "_model_name": "LayoutModel",
            "justify_items": null,
            "grid_row": null,
            "max_height": null,
            "align_content": null,
            "visibility": null,
            "align_self": null,
            "height": null,
            "min_height": null,
            "padding": null,
            "grid_auto_rows": null,
            "grid_gap": null,
            "max_width": null,
            "order": null,
            "_view_module_version": "1.2.0",
            "grid_template_areas": null,
            "object_position": null,
            "object_fit": null,
            "grid_auto_columns": null,
            "margin": null,
            "display": null,
            "left": null
          }
        },
        "0bdc779627d448feacaba3ea9bc9575d": {
          "model_module": "@jupyter-widgets/base",
          "model_name": "LayoutModel",
          "state": {
            "_view_name": "LayoutView",
            "grid_template_rows": null,
            "right": null,
            "justify_content": null,
            "_view_module": "@jupyter-widgets/base",
            "overflow": null,
            "_model_module_version": "1.2.0",
            "_view_count": null,
            "flex_flow": null,
            "width": null,
            "min_width": null,
            "border": null,
            "align_items": null,
            "bottom": null,
            "_model_module": "@jupyter-widgets/base",
            "top": null,
            "grid_column": null,
            "overflow_y": null,
            "overflow_x": null,
            "grid_auto_flow": null,
            "grid_area": null,
            "grid_template_columns": null,
            "flex": null,
            "_model_name": "LayoutModel",
            "justify_items": null,
            "grid_row": null,
            "max_height": null,
            "align_content": null,
            "visibility": null,
            "align_self": null,
            "height": null,
            "min_height": null,
            "padding": null,
            "grid_auto_rows": null,
            "grid_gap": null,
            "max_width": null,
            "order": null,
            "_view_module_version": "1.2.0",
            "grid_template_areas": null,
            "object_position": null,
            "object_fit": null,
            "grid_auto_columns": null,
            "margin": null,
            "display": null,
            "left": null
          }
        },
        "abfed4c5ca294a0bad63b6f70c6ae0da": {
          "model_module": "@jupyter-widgets/controls",
          "model_name": "VBoxModel",
          "state": {
            "_view_name": "VBoxView",
            "_dom_classes": [
              "widget-interact"
            ],
            "_model_name": "VBoxModel",
            "_view_module": "@jupyter-widgets/controls",
            "_model_module_version": "1.5.0",
            "_view_count": null,
            "_view_module_version": "1.5.0",
            "box_style": "",
            "layout": "IPY_MODEL_e2fce5221f48437d9e1867bc256673f7",
            "_model_module": "@jupyter-widgets/controls",
            "children": [
              "IPY_MODEL_84eddc5269524365821dea2f98654a9a",
              "IPY_MODEL_0791207a00c342f3918c271e766cef29"
            ]
          }
        },
        "e2fce5221f48437d9e1867bc256673f7": {
          "model_module": "@jupyter-widgets/base",
          "model_name": "LayoutModel",
          "state": {
            "_view_name": "LayoutView",
            "grid_template_rows": null,
            "right": null,
            "justify_content": null,
            "_view_module": "@jupyter-widgets/base",
            "overflow": null,
            "_model_module_version": "1.2.0",
            "_view_count": null,
            "flex_flow": null,
            "width": null,
            "min_width": null,
            "border": null,
            "align_items": null,
            "bottom": null,
            "_model_module": "@jupyter-widgets/base",
            "top": null,
            "grid_column": null,
            "overflow_y": null,
            "overflow_x": null,
            "grid_auto_flow": null,
            "grid_area": null,
            "grid_template_columns": null,
            "flex": null,
            "_model_name": "LayoutModel",
            "justify_items": null,
            "grid_row": null,
            "max_height": null,
            "align_content": null,
            "visibility": null,
            "align_self": null,
            "height": null,
            "min_height": null,
            "padding": null,
            "grid_auto_rows": null,
            "grid_gap": null,
            "max_width": null,
            "order": null,
            "_view_module_version": "1.2.0",
            "grid_template_areas": null,
            "object_position": null,
            "object_fit": null,
            "grid_auto_columns": null,
            "margin": null,
            "display": null,
            "left": null
          }
        },
        "84eddc5269524365821dea2f98654a9a": {
          "model_module": "@jupyter-widgets/controls",
          "model_name": "IntSliderModel",
          "state": {
            "_view_name": "IntSliderView",
            "style": "IPY_MODEL_63f8ced9532145d8bda0c9f844a9544c",
            "_dom_classes": [],
            "description": "n=",
            "step": 1,
            "_model_name": "IntSliderModel",
            "orientation": "horizontal",
            "max": 10,
            "_view_module": "@jupyter-widgets/controls",
            "_model_module_version": "1.5.0",
            "value": 2,
            "_view_count": null,
            "disabled": false,
            "_view_module_version": "1.5.0",
            "min": 2,
            "continuous_update": true,
            "readout_format": "d",
            "description_tooltip": null,
            "readout": true,
            "_model_module": "@jupyter-widgets/controls",
            "layout": "IPY_MODEL_4c2fcddfcfdc4d229034ef6012f77ff8"
          }
        },
        "0791207a00c342f3918c271e766cef29": {
          "model_module": "@jupyter-widgets/output",
          "model_name": "OutputModel",
          "state": {
            "_view_name": "OutputView",
            "msg_id": "",
            "_dom_classes": [],
            "_model_name": "OutputModel",
            "outputs": [
              {
                "output_type": "display_data",
                "metadata": {
                  "tags": [],
                  "needs_background": "light"
                },
                "image/png": "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\n",
                "text/plain": "<Figure size 1440x720 with 1 Axes>"
              }
            ],
            "_view_module": "@jupyter-widgets/output",
            "_model_module_version": "1.0.0",
            "_view_count": null,
            "_view_module_version": "1.0.0",
            "layout": "IPY_MODEL_5ef948ea3f894f12bc0e071cd24f566f",
            "_model_module": "@jupyter-widgets/output"
          }
        },
        "63f8ced9532145d8bda0c9f844a9544c": {
          "model_module": "@jupyter-widgets/controls",
          "model_name": "SliderStyleModel",
          "state": {
            "_view_name": "StyleView",
            "handle_color": null,
            "_model_name": "SliderStyleModel",
            "description_width": "",
            "_view_module": "@jupyter-widgets/base",
            "_model_module_version": "1.5.0",
            "_view_count": null,
            "_view_module_version": "1.2.0",
            "_model_module": "@jupyter-widgets/controls"
          }
        },
        "4c2fcddfcfdc4d229034ef6012f77ff8": {
          "model_module": "@jupyter-widgets/base",
          "model_name": "LayoutModel",
          "state": {
            "_view_name": "LayoutView",
            "grid_template_rows": null,
            "right": null,
            "justify_content": null,
            "_view_module": "@jupyter-widgets/base",
            "overflow": null,
            "_model_module_version": "1.2.0",
            "_view_count": null,
            "flex_flow": null,
            "width": null,
            "min_width": null,
            "border": null,
            "align_items": null,
            "bottom": null,
            "_model_module": "@jupyter-widgets/base",
            "top": null,
            "grid_column": null,
            "overflow_y": null,
            "overflow_x": null,
            "grid_auto_flow": null,
            "grid_area": null,
            "grid_template_columns": null,
            "flex": null,
            "_model_name": "LayoutModel",
            "justify_items": null,
            "grid_row": null,
            "max_height": null,
            "align_content": null,
            "visibility": null,
            "align_self": null,
            "height": null,
            "min_height": null,
            "padding": null,
            "grid_auto_rows": null,
            "grid_gap": null,
            "max_width": null,
            "order": null,
            "_view_module_version": "1.2.0",
            "grid_template_areas": null,
            "object_position": null,
            "object_fit": null,
            "grid_auto_columns": null,
            "margin": null,
            "display": null,
            "left": null
          }
        },
        "5ef948ea3f894f12bc0e071cd24f566f": {
          "model_module": "@jupyter-widgets/base",
          "model_name": "LayoutModel",
          "state": {
            "_view_name": "LayoutView",
            "grid_template_rows": null,
            "right": null,
            "justify_content": null,
            "_view_module": "@jupyter-widgets/base",
            "overflow": null,
            "_model_module_version": "1.2.0",
            "_view_count": null,
            "flex_flow": null,
            "width": null,
            "min_width": null,
            "border": null,
            "align_items": null,
            "bottom": null,
            "_model_module": "@jupyter-widgets/base",
            "top": null,
            "grid_column": null,
            "overflow_y": null,
            "overflow_x": null,
            "grid_auto_flow": null,
            "grid_area": null,
            "grid_template_columns": null,
            "flex": null,
            "_model_name": "LayoutModel",
            "justify_items": null,
            "grid_row": null,
            "max_height": null,
            "align_content": null,
            "visibility": null,
            "align_self": null,
            "height": null,
            "min_height": null,
            "padding": null,
            "grid_auto_rows": null,
            "grid_gap": null,
            "max_width": null,
            "order": null,
            "_view_module_version": "1.2.0",
            "grid_template_areas": null,
            "object_position": null,
            "object_fit": null,
            "grid_auto_columns": null,
            "margin": null,
            "display": null,
            "left": null
          }
        }
      }
    },
    "colab": {
      "name": "Mean and Variance Estimation.ipynb",
      "provenance": [],
      "collapsed_sections": [],
      "include_colab_link": true
    }
  },
  "cells": [
    {
      "cell_type": "markdown",
      "metadata": {
        "id": "view-in-github",
        "colab_type": "text"
      },
      "source": [
        "<a href=\"https://colab.research.google.com/github/yongxuantan/Python-for-atmospheric-science/blob/master/Statistical%20Methods%20with%20Widget%20Visual/Mean_and_Variance_Estimation.ipynb\" target=\"_parent\"><img src=\"https://colab.research.google.com/assets/colab-badge.svg\" alt=\"Open In Colab\"/></a>"
      ]
    },
    {
      "cell_type": "markdown",
      "metadata": {
        "id": "kwm_Rt2z8DDU"
      },
      "source": [
        "## Estimating the Mean\n",
        "\n",
        "We demonstrate how the sample mean approximates the distribution mean. \n",
        "\n",
        "### Convergence of Sample Mean\n",
        "\n",
        "In lecture we saw that if we take $n$ samples, $X_1,\\ldots, X_n$, the sample mean $\\overline X=\\frac{X_1+\\ldots+X_n}n$ converges to the distribution mean $\\mu$. The following program demonstrate that."
      ]
    },
    {
      "cell_type": "code",
      "metadata": {
        "scrolled": true,
        "id": "qtSQkX6j8DDW",
        "outputId": "6b7990a8-b022-4edb-c740-507c83489d64",
        "colab": {
          "base_uri": "https://localhost:8080/",
          "height": 34
        }
      },
      "source": [
        "%pylab inline\n",
        "import ipywidgets as widgets\n",
        "from scipy.stats import norm, uniform"
      ],
      "execution_count": 1,
      "outputs": [
        {
          "output_type": "stream",
          "text": [
            "Populating the interactive namespace from numpy and matplotlib\n"
          ],
          "name": "stdout"
        }
      ]
    },
    {
      "cell_type": "code",
      "metadata": {
        "scrolled": true,
        "id": "QME7wQiD8DDt"
      },
      "source": [
        "def Sample_Mean(n,r):\n",
        "# n: sample size\n",
        "# r: number of experiments\n",
        "\n",
        "    figure(figsize=(20,10))\n",
        "    xlim([1,n])\n",
        "    ylim([-1, 1])\n",
        "    grid()\n",
        "    \n",
        "    x = range(1,n+1)\n",
        "    z = 1.0/sqrt(x)\n",
        "    plot(x, z,'k--')\n",
        "    plot(x, negative(z), 'k--')\n",
        "    \n",
        "    for i in range(r):\n",
        "        y = random.normal(0, 1, n)\n",
        "        m = divide(cumsum(y), x)\n",
        "        plot(x, m, alpha=0.5)"
      ],
      "execution_count": 2,
      "outputs": []
    },
    {
      "cell_type": "markdown",
      "metadata": {
        "id": "N9wLe7jH8DD1"
      },
      "source": [
        "The following graph shows how the sample mean $\\overline X$ converges to the distribution mean $\\mu$. The underlying distribution is standard normal. $n$ is the number of samples, and $r$ is the number of experiments.\n",
        "\n",
        "Recall that the sample mean's expected value is always $\\mu$, which here is 0, and that its standard deviation is $\\frac\\sigma{\\sqrt n}$, which here is $\\frac1{\\sqrt n}$. The dashed black line shows this value and its negation. \n",
        "\n",
        "Observe:\n",
        "* When the sample size $n$ increases, all curves get closer to the distribution mean 0.\n",
        "* The $r$ sample means are typically bounded between the positive and negative standard deviations."
      ]
    },
    {
      "cell_type": "code",
      "metadata": {
        "scrolled": true,
        "id": "NObpvCxq8DD4",
        "outputId": "782f4be6-4472-4829-b0e3-2fc2f10f7470",
        "colab": {
          "base_uri": "https://localhost:8080/",
          "height": 628,
          "referenced_widgets": [
            "9c43f81743494cdcb24ab6a155bd901a",
            "36abf2a8d6964513bae728b40b47a119",
            "de03fc515ae14140a09a20ef80e60b7f",
            "5a100a64a7294661addf89aeee30818b",
            "47ced4aca0ba4da0a7baa57482e801ad",
            "31544f34f7064dbda4f207fa1fdbb2ab",
            "7a16b3ce3cb645c5bf797e1143b8a3a9",
            "f3bfc8f660ec47f3bc30f5ccc6dcdc41",
            "de7c676e14ba4d49b3866fb776661609",
            "8b03019a6d5d459792d18d76842f5b2a"
          ]
        }
      },
      "source": [
        "widgets.interact(Sample_Mean,\n",
        "                 n=widgets.IntSlider(min=10, max=1000,description='sample size', step=10, value=100),\n",
        "                 r=widgets.IntSlider(min=1, max=10,description='experiments', step=1, value=5))"
      ],
      "execution_count": 3,
      "outputs": [
        {
          "output_type": "display_data",
          "data": {
            "application/vnd.jupyter.widget-view+json": {
              "model_id": "9c43f81743494cdcb24ab6a155bd901a",
              "version_minor": 0,
              "version_major": 2
            },
            "text/plain": [
              "interactive(children=(IntSlider(value=100, description='sample size', max=1000, min=10, step=10), IntSlider(va…"
            ]
          },
          "metadata": {
            "tags": []
          }
        },
        {
          "output_type": "execute_result",
          "data": {
            "text/plain": [
              "<function __main__.Sample_Mean>"
            ]
          },
          "metadata": {
            "tags": []
          },
          "execution_count": 3
        }
      ]
    },
    {
      "cell_type": "markdown",
      "metadata": {
        "id": "ZcnjOiAE8DEA"
      },
      "source": [
        "### Distribution of the sample mean\n",
        "\n",
        "Next consider the distribution of the sample mean $\\overline X$. In this example the underlying distribution is either uniform or standard Normal (you can comment the code to choose). You can see that as the sample size $n$ increases the distribution of $\\overline X$ becomes uniform, as predicted by the central limit theorem. If you sample from the normal distribution then $\\overline X$ is exactly normal for any $n$. "
      ]
    },
    {
      "cell_type": "code",
      "metadata": {
        "id": "c4TZB1KO8DEB",
        "outputId": "4b231f5f-da5f-445a-c934-c1e65d274a0a",
        "colab": {
          "base_uri": "https://localhost:8080/",
          "height": 621,
          "referenced_widgets": [
            "32c3cbf45f6c44c7ba0bdbcd22a192f0",
            "806060dee5b2466ba96d34b12afc6fc4",
            "d6b171a0d54c443e94b1c9054465ca91",
            "816103dbf2904d27b644ffa620a76dc8",
            "b4077cfa113c48488de5116d0923a92d",
            "98e7dbbeb6e6403aafa25e52196b5660",
            "2b52efb65db9493fbfd6b3e479a8741f"
          ]
        }
      },
      "source": [
        "@widgets.interact(n=(1,30))\n",
        "def Normal_Mean(n):\n",
        "# n: sample size\n",
        "# s: number of experiments\n",
        "    figure(figsize=(20,10))\n",
        "    title('histogram of sample means with sample size n=%d'%n,fontsize = 15)\n",
        "    xlabel('$\\overline{X}$',fontsize = 15)\n",
        "    ylabel('frequency', fontsize = 15)\n",
        "    grid()\n",
        "\n",
        "    s = 100000\n",
        "    \n",
        "    x = linspace(-4,4,1000)\n",
        "    #y = [norm.pdf(i,0,1) for i in x]\n",
        "    y = [uniform.pdf(i,0,1) for i in x]\n",
        "    plot(x,y)\n",
        "    \n",
        "    #X = random.normal(0,1,[n,s])\n",
        "    X= random.uniform(0,1,[n,s])\n",
        "    M = sum(X,axis=0)/n\n",
        "    hist(M,bins=40,density=1)"
      ],
      "execution_count": 4,
      "outputs": [
        {
          "output_type": "display_data",
          "data": {
            "application/vnd.jupyter.widget-view+json": {
              "model_id": "32c3cbf45f6c44c7ba0bdbcd22a192f0",
              "version_minor": 0,
              "version_major": 2
            },
            "text/plain": [
              "interactive(children=(IntSlider(value=15, description='n', max=30, min=1), Output()), _dom_classes=('widget-in…"
            ]
          },
          "metadata": {
            "tags": []
          }
        }
      ]
    },
    {
      "cell_type": "markdown",
      "metadata": {
        "id": "U8hUn1U_8DEK"
      },
      "source": [
        "## Variance Estimation\n",
        "\n",
        "Next we estimate the variance. \n",
        "\n",
        "### Raw (biased) Estimator\n",
        "\n",
        "We start with the raw estimate that uses the intuitive normalization by $n$. We show experimentally that its expected value is $\\frac{n-1}n\\sigma^2$.\n",
        "\n",
        "In this example the underlying distribution is standard Normal (but you can easily modify the code). The green line shows the true distribution variance, here 1. The red line shows the average of the \"raw\" (biased) sample variance. Observe that as you change $n$, the red line is roughly at $\\frac{n-1}n$."
      ]
    },
    {
      "cell_type": "code",
      "metadata": {
        "scrolled": true,
        "id": "fbyxiAXq8DEL"
      },
      "source": [
        "def Normal_Variance(n,df):\n",
        "# n: sample size\n",
        "# s: number of experiments\n",
        "# df: degree of freedom\n",
        "#     df=0: calculate \"raw\" variance \n",
        "#     df=1: calculate unbiased variance \n",
        "    figure(figsize=(20,10))\n",
        "    xlim([0,4])\n",
        "    \n",
        "    s = 1000000\n",
        "    X = random.normal(0,1,[n,s])\n",
        "    V = var(X,axis=0,ddof=df)\n",
        "    v = mean(V)\n",
        "    \n",
        "    plot([v,v], [0, 3], 'r--', linewidth = 2.0)\n",
        "    hist(V,bins=60,density=1);\n",
        "\n",
        "    plot([1,1], [0, 3], 'g:', linewidth = 2.0)\n",
        "    ylabel('frequency', fontsize = 15)\n",
        "    grid()"
      ],
      "execution_count": 5,
      "outputs": []
    },
    {
      "cell_type": "code",
      "metadata": {
        "scrolled": false,
        "id": "iRHNwINt8DEW",
        "outputId": "06e74f4b-81a2-4272-ee3c-6550d1c45f9c",
        "colab": {
          "base_uri": "https://localhost:8080/",
          "height": 611,
          "referenced_widgets": [
            "8764010ce14d4e8288f7b7379d960060",
            "bf61237556a04059ad409af5e4c748eb",
            "aaccb4a806304465a5a749e65aa36bba",
            "4fd45929aa254a9ba9f89f22a2be7b99",
            "4066441f8872470db0a8709230290aa0",
            "e016e338204a4daf95cb2e78ca50aa41",
            "89aaa960288e437fb93c6777c6707d4a"
          ]
        }
      },
      "source": [
        "@widgets.interact(n=(2,20))\n",
        "def Raw_Variance(n):\n",
        "    Normal_Variance(n,0)\n",
        "    title('histogram of \"raw\" sample variance with sample size n=%d'%n,fontsize = 15)\n",
        "    xlabel('\"$S^2$\"', fontsize = 15)\n"
      ],
      "execution_count": 6,
      "outputs": [
        {
          "output_type": "display_data",
          "data": {
            "application/vnd.jupyter.widget-view+json": {
              "model_id": "8764010ce14d4e8288f7b7379d960060",
              "version_minor": 0,
              "version_major": 2
            },
            "text/plain": [
              "interactive(children=(IntSlider(value=11, description='n', max=20, min=2), Output()), _dom_classes=('widget-in…"
            ]
          },
          "metadata": {
            "tags": []
          }
        }
      ]
    },
    {
      "cell_type": "markdown",
      "metadata": {
        "id": "IsIwnDAO8DEh"
      },
      "source": [
        "### Unbiased Variance Estimator\n",
        "\n",
        "Next we apply the Bessel correction, where instead of normalizing by $n$, we normalize by $n-1$. We show experimentally that this estimator is unbiased.\n",
        "\n",
        "Again, the underlying distribution is standard Normal. The red line shows the expectation of the unbiased sample variance and the blue line shows the true distribution variance. And we can see that those two lines overlap for all $n$."
      ]
    },
    {
      "cell_type": "code",
      "metadata": {
        "scrolled": true,
        "id": "vMZBSMko8DEk",
        "outputId": "8b176ef8-89cb-42f1-f6de-8b3c81e96437",
        "colab": {
          "base_uri": "https://localhost:8080/",
          "height": 611,
          "referenced_widgets": [
            "1be87f0d628541ecae87dd25e385408f",
            "4b245eea14994604bc2ae177dec50fcf",
            "765aed45141c4cbbaf119924a3d19686",
            "9726e79c43ea4684b61e5659394b2b65",
            "f0831010a2a84f0bb3d818e224e0166b",
            "f937122187d6436e8351ac841155ecd7",
            "0bdc779627d448feacaba3ea9bc9575d"
          ]
        }
      },
      "source": [
        "@widgets.interact(n=(2,20))\n",
        "def Unbiased_Variance(n):\n",
        "    Normal_Variance(n,1)\n",
        "    title('histogram of unbiased sample variance with sample size n=%d'%n,fontsize = 15)\n",
        "    xlabel('$S^2$', fontsize = 15)"
      ],
      "execution_count": 7,
      "outputs": [
        {
          "output_type": "display_data",
          "data": {
            "application/vnd.jupyter.widget-view+json": {
              "model_id": "1be87f0d628541ecae87dd25e385408f",
              "version_minor": 0,
              "version_major": 2
            },
            "text/plain": [
              "interactive(children=(IntSlider(value=11, description='n', max=20, min=2), Output()), _dom_classes=('widget-in…"
            ]
          },
          "metadata": {
            "tags": []
          }
        }
      ]
    },
    {
      "cell_type": "markdown",
      "metadata": {
        "id": "SKrH55mQ8DEs"
      },
      "source": [
        "## Estimating the standad deviation\n",
        "\n",
        "We apply the standard standard-deviation estimator and show that on average it underestimates $\\sigma$. "
      ]
    },
    {
      "cell_type": "code",
      "metadata": {
        "scrolled": true,
        "id": "0YmbPzYe8DEt"
      },
      "source": [
        "def Normal_SD(n):\n",
        "# n: sample size\n",
        "# s: number of experiments\n",
        "\n",
        "    figure(figsize=(20,10))\n",
        "    xlim([0,3])\n",
        "    title('histogram of sample standard deviation with sample size n=%d'%n,fontsize = 15)\n",
        "    xlabel('$\\hat{\\sigma}$', fontsize = 15)\n",
        "    \n",
        "    s = 1000000\n",
        "    X = random.normal(0,1,[n,s])\n",
        "    V = sqrt(var(X,axis=0,ddof=1))\n",
        "    v = mean(V)\n",
        "    \n",
        "    plot([v,v], [0, 3], 'r--', linewidth = 2.0)\n",
        "    hist(V,bins=60,density=1);\n",
        "\n",
        "    plot([1,1], [0, 3], 'g:', linewidth = 2.0)\n",
        "    ylabel('frequency', fontsize = 15)\n",
        "    grid() "
      ],
      "execution_count": 8,
      "outputs": []
    },
    {
      "cell_type": "markdown",
      "metadata": {
        "id": "RFAQPLir8DE1"
      },
      "source": [
        "We continu to use the standard normal as the underlying distribution. The green line shows the distribution's true standard deviation $\\sigma=1$. The red line shows the average of the sample standard deviation (square root of unbiased sample variance). Observe that the sample standard deviation underestimates $\\sigma$, but this underestimate shrinks as you increase $n$."
      ]
    },
    {
      "cell_type": "code",
      "metadata": {
        "scrolled": false,
        "id": "U0HLdDoq8DE2",
        "outputId": "f3e586ee-5eeb-496b-aeac-702733ed2de1",
        "colab": {
          "base_uri": "https://localhost:8080/",
          "height": 628,
          "referenced_widgets": [
            "abfed4c5ca294a0bad63b6f70c6ae0da",
            "e2fce5221f48437d9e1867bc256673f7",
            "84eddc5269524365821dea2f98654a9a",
            "0791207a00c342f3918c271e766cef29",
            "63f8ced9532145d8bda0c9f844a9544c",
            "4c2fcddfcfdc4d229034ef6012f77ff8",
            "5ef948ea3f894f12bc0e071cd24f566f"
          ]
        }
      },
      "source": [
        "widgets.interact(\n",
        "    Normal_SD,\n",
        "    n = widgets.IntSlider(min=2, max=10,description='n=', step=1, value=2))"
      ],
      "execution_count": 9,
      "outputs": [
        {
          "output_type": "display_data",
          "data": {
            "application/vnd.jupyter.widget-view+json": {
              "model_id": "abfed4c5ca294a0bad63b6f70c6ae0da",
              "version_minor": 0,
              "version_major": 2
            },
            "text/plain": [
              "interactive(children=(IntSlider(value=2, description='n=', max=10, min=2), Output()), _dom_classes=('widget-in…"
            ]
          },
          "metadata": {
            "tags": []
          }
        },
        {
          "output_type": "execute_result",
          "data": {
            "text/plain": [
              "<function __main__.Normal_SD>"
            ]
          },
          "metadata": {
            "tags": []
          },
          "execution_count": 9
        }
      ]
    }
  ]
}